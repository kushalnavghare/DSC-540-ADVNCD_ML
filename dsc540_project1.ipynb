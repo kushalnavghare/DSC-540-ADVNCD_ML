{
 "cells": [
  {
   "cell_type": "markdown",
   "metadata": {},
   "source": [
    "# DSC540 Project 1"
   ]
  },
  {
   "cell_type": "markdown",
   "metadata": {},
   "source": [
    "DePaul University  \n",
    "Kushal Navghare, MS-DS  \n",
    "Chicago, IL  "
   ]
  },
  {
   "cell_type": "code",
   "execution_count": 1,
   "metadata": {
    "ExecuteTime": {
     "end_time": "2023-09-28T15:34:26.485268Z",
     "start_time": "2023-09-28T15:34:25.670822Z"
    }
   },
   "outputs": [
    {
     "data": {
      "text/plain": [
       "'1.3.0'"
      ]
     },
     "execution_count": 1,
     "metadata": {},
     "output_type": "execute_result"
    }
   ],
   "source": [
    "import sklearn\n",
    "sklearn.__version__"
   ]
  },
  {
   "cell_type": "code",
   "execution_count": 2,
   "metadata": {
    "ExecuteTime": {
     "end_time": "2023-09-28T15:34:27.387066Z",
     "start_time": "2023-09-28T15:34:26.487833Z"
    },
    "colab": {},
    "colab_type": "code",
    "id": "1X8uH9FQn7ZV"
   },
   "outputs": [],
   "source": [
    "from sklearn.model_selection import train_test_split\n",
    "from sklearn import metrics\n",
    "\n",
    "import matplotlib.pyplot as plt\n",
    "import pandas as pd\n",
    "import numpy as np\n",
    "import seaborn as sns"
   ]
  },
  {
   "cell_type": "code",
   "execution_count": 3,
   "metadata": {
    "ExecuteTime": {
     "end_time": "2023-09-28T15:34:27.392191Z",
     "start_time": "2023-09-28T15:34:27.388968Z"
    }
   },
   "outputs": [],
   "source": [
    "pd.set_option('display.max_columns', 100)"
   ]
  },
  {
   "cell_type": "markdown",
   "metadata": {},
   "source": [
    "### These are the packages I used"
   ]
  },
  {
   "cell_type": "code",
   "execution_count": 4,
   "metadata": {
    "ExecuteTime": {
     "end_time": "2023-09-28T15:34:27.398550Z",
     "start_time": "2023-09-28T15:34:27.395509Z"
    }
   },
   "outputs": [],
   "source": [
    "# Your package imports here"
   ]
  },
  {
   "cell_type": "code",
   "execution_count": 5,
   "metadata": {
    "ExecuteTime": {
     "end_time": "2023-09-28T15:34:27.405794Z",
     "start_time": "2023-09-28T15:34:27.401848Z"
    }
   },
   "outputs": [],
   "source": [
    "import warnings\n",
    "warnings.filterwarnings(action='ignore')"
   ]
  },
  {
   "cell_type": "markdown",
   "metadata": {},
   "source": [
    "# DSC540 Project 1"
   ]
  },
  {
   "cell_type": "markdown",
   "metadata": {
    "id": "huMSc_bettp1"
   },
   "source": [
    "## Rules\n",
    "- Do not change the code already present in the notebook.\n",
    "- Write your code under the corresponding questions where you see `# Code here`. You can use more than one cell, if you'd like.\n",
    "- Provide explanation in a separate Markdown formatted cell. \n",
    "- You can change the cell type by:\n",
    "    - Clicking on the outer area of the cell type you want to change,\n",
    "    - Go to the top, and select either Code or Markdown from the dropdown menu.\n",
    "- Be concise in your explanations and conclusions.\n",
    "- Write clear code and provide explanation to functions you create by using `#` comment sign.\n",
    "- For built-in function and methods you use from libraries, provide a very brief explanation of what they do.\n",
    "- Try to answer the questions by yourself. Use documentation from pandas, sklearn and similar libraries to solve the problem.\n",
    "- If you are stuck you can use different resources. Do not find an identical project and copy paste the solutions. \n",
    "- Write your name before beginning to code.\n",
    "\n",
    "\n",
    "Important:  \n",
    "- **Do NOT share the solutions with other people.**\n",
    "- **Do NOT share the solutions on the internet including but not limited to Github and other platforms.**\n",
    "- Sign the Honor Pledge below indicating that you have agreed to these rules listed here, and any other ethical and honor rules as required by the university.\n",
    "\n",
    "\n",
    "\n",
    "- **Deliverables:**\n",
    "    1. The Python Jupyter notebook file named properly with your name. Example: dsc540_project1_john_doe.ipynb\n",
    "    2. The HTML output of this code notebook names the same way. Example: dsc540_project1_john_doe.html\n",
    "        - File -> Download as -> HTML   \n",
    "       \n",
    "\n",
    "Good Luck!"
   ]
  },
  {
   "cell_type": "markdown",
   "metadata": {},
   "source": [
    "### YOUR NAME HERE"
   ]
  },
  {
   "cell_type": "markdown",
   "metadata": {
    "id": "ATaYYQp4ttp6"
   },
   "source": [
    "**Honor Pledge:**  \n",
    "I pledge on my honor that I, **Student Name**, have followed the rules listed above, that I have not given or received any unauthorized assistance on this assignment. \n"
   ]
  },
  {
   "cell_type": "markdown",
   "metadata": {},
   "source": [
    "## The Data"
   ]
  },
  {
   "cell_type": "markdown",
   "metadata": {},
   "source": [
    "In this project, we will be working with the **Breast Cancer Wisconsin dataset**, which\n",
    "contains 569 examples of malignant and benign tumor cells.  \n",
    "The Breast Cancer Wisconsin dataset can be found in the UCI\n",
    "Machine Learning Repository, and more detailed information about this dataset can\n",
    "be found at https://archive.ics.uci.edu/ml/datasets/Breast+Cancer+Wisconsin+(Diagnostic).  \n",
    "The first two columns in the dataset store the unique ID numbers of the examples and the corresponding\n",
    "diagnoses (M = malignant, B = benign), respectively.   \n",
    "Columns 3-32 contain 30 real-valued features that have been computed from digitized images of the cell\n",
    "nuclei, which can be used to build a model to predict whether a tumor is benign\n",
    "or malignant.  \n",
    "\n",
    "**Variable Information:**\n",
    "\n",
    "1) ID number\n",
    "2) Diagnosis (M = malignant, B = benign)\n",
    "3-32)\n",
    "\n",
    "Ten real-valued features are computed for each cell nucleus:\n",
    "\n",
    "\ta) radius (mean of distances from center to points on the perimeter)\n",
    "\tb) texture (standard deviation of gray-scale values)\n",
    "\tc) perimeter\n",
    "\td) area\n",
    "\te) smoothness (local variation in radius lengths)\n",
    "\tf) compactness (perimeter^2 / area - 1.0)\n",
    "\tg) concavity (severity of concave portions of the contour)\n",
    "\th) concave points (number of concave portions of the contour)\n",
    "\ti) symmetry \n",
    "\tj) fractal dimension (\"coastline approximation\" - 1)\n",
    "    \n",
    "    \n",
    "The mean, standard error, and \"worst\" or largest (mean of the three\n",
    "largest values) of these features were computed for each image,\n",
    "resulting in 30 features.  For instance, field 3 is Mean Radius, field\n",
    "13 is Radius SE, field 23 is Worst Radius."
   ]
  },
  {
   "cell_type": "markdown",
   "metadata": {},
   "source": [
    "### Load the dataset"
   ]
  },
  {
   "cell_type": "markdown",
   "metadata": {},
   "source": [
    "- Since the dataset at the UCI repository does not have headers, we will read the data from the hard drive which I have modified.\n",
    "- Last column is the target column.\n",
    "- The ID column is already dropped."
   ]
  },
  {
   "cell_type": "code",
   "execution_count": 6,
   "metadata": {
    "ExecuteTime": {
     "end_time": "2023-09-28T15:34:27.466930Z",
     "start_time": "2023-09-28T15:34:27.408782Z"
    }
   },
   "outputs": [
    {
     "data": {
      "text/html": [
       "<div>\n",
       "<style scoped>\n",
       "    .dataframe tbody tr th:only-of-type {\n",
       "        vertical-align: middle;\n",
       "    }\n",
       "\n",
       "    .dataframe tbody tr th {\n",
       "        vertical-align: top;\n",
       "    }\n",
       "\n",
       "    .dataframe thead th {\n",
       "        text-align: right;\n",
       "    }\n",
       "</style>\n",
       "<table border=\"1\" class=\"dataframe\">\n",
       "  <thead>\n",
       "    <tr style=\"text-align: right;\">\n",
       "      <th></th>\n",
       "      <th>0</th>\n",
       "      <th>1</th>\n",
       "      <th>2</th>\n",
       "      <th>3</th>\n",
       "      <th>4</th>\n",
       "      <th>5</th>\n",
       "      <th>6</th>\n",
       "      <th>7</th>\n",
       "      <th>8</th>\n",
       "      <th>9</th>\n",
       "      <th>10</th>\n",
       "      <th>11</th>\n",
       "      <th>12</th>\n",
       "      <th>13</th>\n",
       "      <th>14</th>\n",
       "      <th>15</th>\n",
       "      <th>16</th>\n",
       "      <th>17</th>\n",
       "      <th>18</th>\n",
       "      <th>19</th>\n",
       "      <th>20</th>\n",
       "      <th>21</th>\n",
       "      <th>22</th>\n",
       "      <th>23</th>\n",
       "      <th>24</th>\n",
       "      <th>25</th>\n",
       "      <th>26</th>\n",
       "      <th>27</th>\n",
       "      <th>28</th>\n",
       "      <th>29</th>\n",
       "      <th>30</th>\n",
       "      <th>31</th>\n",
       "    </tr>\n",
       "  </thead>\n",
       "  <tbody>\n",
       "    <tr>\n",
       "      <th>0</th>\n",
       "      <td>842302</td>\n",
       "      <td>M</td>\n",
       "      <td>17.99</td>\n",
       "      <td>10.38</td>\n",
       "      <td>122.80</td>\n",
       "      <td>1001.0</td>\n",
       "      <td>0.11840</td>\n",
       "      <td>0.27760</td>\n",
       "      <td>0.30010</td>\n",
       "      <td>0.14710</td>\n",
       "      <td>0.2419</td>\n",
       "      <td>0.07871</td>\n",
       "      <td>1.0950</td>\n",
       "      <td>0.9053</td>\n",
       "      <td>8.589</td>\n",
       "      <td>153.40</td>\n",
       "      <td>0.006399</td>\n",
       "      <td>0.04904</td>\n",
       "      <td>0.05373</td>\n",
       "      <td>0.01587</td>\n",
       "      <td>0.03003</td>\n",
       "      <td>0.006193</td>\n",
       "      <td>25.380</td>\n",
       "      <td>17.33</td>\n",
       "      <td>184.60</td>\n",
       "      <td>2019.0</td>\n",
       "      <td>0.16220</td>\n",
       "      <td>0.66560</td>\n",
       "      <td>0.7119</td>\n",
       "      <td>0.2654</td>\n",
       "      <td>0.4601</td>\n",
       "      <td>0.11890</td>\n",
       "    </tr>\n",
       "    <tr>\n",
       "      <th>1</th>\n",
       "      <td>842517</td>\n",
       "      <td>M</td>\n",
       "      <td>20.57</td>\n",
       "      <td>17.77</td>\n",
       "      <td>132.90</td>\n",
       "      <td>1326.0</td>\n",
       "      <td>0.08474</td>\n",
       "      <td>0.07864</td>\n",
       "      <td>0.08690</td>\n",
       "      <td>0.07017</td>\n",
       "      <td>0.1812</td>\n",
       "      <td>0.05667</td>\n",
       "      <td>0.5435</td>\n",
       "      <td>0.7339</td>\n",
       "      <td>3.398</td>\n",
       "      <td>74.08</td>\n",
       "      <td>0.005225</td>\n",
       "      <td>0.01308</td>\n",
       "      <td>0.01860</td>\n",
       "      <td>0.01340</td>\n",
       "      <td>0.01389</td>\n",
       "      <td>0.003532</td>\n",
       "      <td>24.990</td>\n",
       "      <td>23.41</td>\n",
       "      <td>158.80</td>\n",
       "      <td>1956.0</td>\n",
       "      <td>0.12380</td>\n",
       "      <td>0.18660</td>\n",
       "      <td>0.2416</td>\n",
       "      <td>0.1860</td>\n",
       "      <td>0.2750</td>\n",
       "      <td>0.08902</td>\n",
       "    </tr>\n",
       "    <tr>\n",
       "      <th>2</th>\n",
       "      <td>84300903</td>\n",
       "      <td>M</td>\n",
       "      <td>19.69</td>\n",
       "      <td>21.25</td>\n",
       "      <td>130.00</td>\n",
       "      <td>1203.0</td>\n",
       "      <td>0.10960</td>\n",
       "      <td>0.15990</td>\n",
       "      <td>0.19740</td>\n",
       "      <td>0.12790</td>\n",
       "      <td>0.2069</td>\n",
       "      <td>0.05999</td>\n",
       "      <td>0.7456</td>\n",
       "      <td>0.7869</td>\n",
       "      <td>4.585</td>\n",
       "      <td>94.03</td>\n",
       "      <td>0.006150</td>\n",
       "      <td>0.04006</td>\n",
       "      <td>0.03832</td>\n",
       "      <td>0.02058</td>\n",
       "      <td>0.02250</td>\n",
       "      <td>0.004571</td>\n",
       "      <td>23.570</td>\n",
       "      <td>25.53</td>\n",
       "      <td>152.50</td>\n",
       "      <td>1709.0</td>\n",
       "      <td>0.14440</td>\n",
       "      <td>0.42450</td>\n",
       "      <td>0.4504</td>\n",
       "      <td>0.2430</td>\n",
       "      <td>0.3613</td>\n",
       "      <td>0.08758</td>\n",
       "    </tr>\n",
       "    <tr>\n",
       "      <th>3</th>\n",
       "      <td>84348301</td>\n",
       "      <td>M</td>\n",
       "      <td>11.42</td>\n",
       "      <td>20.38</td>\n",
       "      <td>77.58</td>\n",
       "      <td>386.1</td>\n",
       "      <td>0.14250</td>\n",
       "      <td>0.28390</td>\n",
       "      <td>0.24140</td>\n",
       "      <td>0.10520</td>\n",
       "      <td>0.2597</td>\n",
       "      <td>0.09744</td>\n",
       "      <td>0.4956</td>\n",
       "      <td>1.1560</td>\n",
       "      <td>3.445</td>\n",
       "      <td>27.23</td>\n",
       "      <td>0.009110</td>\n",
       "      <td>0.07458</td>\n",
       "      <td>0.05661</td>\n",
       "      <td>0.01867</td>\n",
       "      <td>0.05963</td>\n",
       "      <td>0.009208</td>\n",
       "      <td>14.910</td>\n",
       "      <td>26.50</td>\n",
       "      <td>98.87</td>\n",
       "      <td>567.7</td>\n",
       "      <td>0.20980</td>\n",
       "      <td>0.86630</td>\n",
       "      <td>0.6869</td>\n",
       "      <td>0.2575</td>\n",
       "      <td>0.6638</td>\n",
       "      <td>0.17300</td>\n",
       "    </tr>\n",
       "    <tr>\n",
       "      <th>4</th>\n",
       "      <td>84358402</td>\n",
       "      <td>M</td>\n",
       "      <td>20.29</td>\n",
       "      <td>14.34</td>\n",
       "      <td>135.10</td>\n",
       "      <td>1297.0</td>\n",
       "      <td>0.10030</td>\n",
       "      <td>0.13280</td>\n",
       "      <td>0.19800</td>\n",
       "      <td>0.10430</td>\n",
       "      <td>0.1809</td>\n",
       "      <td>0.05883</td>\n",
       "      <td>0.7572</td>\n",
       "      <td>0.7813</td>\n",
       "      <td>5.438</td>\n",
       "      <td>94.44</td>\n",
       "      <td>0.011490</td>\n",
       "      <td>0.02461</td>\n",
       "      <td>0.05688</td>\n",
       "      <td>0.01885</td>\n",
       "      <td>0.01756</td>\n",
       "      <td>0.005115</td>\n",
       "      <td>22.540</td>\n",
       "      <td>16.67</td>\n",
       "      <td>152.20</td>\n",
       "      <td>1575.0</td>\n",
       "      <td>0.13740</td>\n",
       "      <td>0.20500</td>\n",
       "      <td>0.4000</td>\n",
       "      <td>0.1625</td>\n",
       "      <td>0.2364</td>\n",
       "      <td>0.07678</td>\n",
       "    </tr>\n",
       "    <tr>\n",
       "      <th>...</th>\n",
       "      <td>...</td>\n",
       "      <td>...</td>\n",
       "      <td>...</td>\n",
       "      <td>...</td>\n",
       "      <td>...</td>\n",
       "      <td>...</td>\n",
       "      <td>...</td>\n",
       "      <td>...</td>\n",
       "      <td>...</td>\n",
       "      <td>...</td>\n",
       "      <td>...</td>\n",
       "      <td>...</td>\n",
       "      <td>...</td>\n",
       "      <td>...</td>\n",
       "      <td>...</td>\n",
       "      <td>...</td>\n",
       "      <td>...</td>\n",
       "      <td>...</td>\n",
       "      <td>...</td>\n",
       "      <td>...</td>\n",
       "      <td>...</td>\n",
       "      <td>...</td>\n",
       "      <td>...</td>\n",
       "      <td>...</td>\n",
       "      <td>...</td>\n",
       "      <td>...</td>\n",
       "      <td>...</td>\n",
       "      <td>...</td>\n",
       "      <td>...</td>\n",
       "      <td>...</td>\n",
       "      <td>...</td>\n",
       "      <td>...</td>\n",
       "    </tr>\n",
       "    <tr>\n",
       "      <th>564</th>\n",
       "      <td>926424</td>\n",
       "      <td>M</td>\n",
       "      <td>21.56</td>\n",
       "      <td>22.39</td>\n",
       "      <td>142.00</td>\n",
       "      <td>1479.0</td>\n",
       "      <td>0.11100</td>\n",
       "      <td>0.11590</td>\n",
       "      <td>0.24390</td>\n",
       "      <td>0.13890</td>\n",
       "      <td>0.1726</td>\n",
       "      <td>0.05623</td>\n",
       "      <td>1.1760</td>\n",
       "      <td>1.2560</td>\n",
       "      <td>7.673</td>\n",
       "      <td>158.70</td>\n",
       "      <td>0.010300</td>\n",
       "      <td>0.02891</td>\n",
       "      <td>0.05198</td>\n",
       "      <td>0.02454</td>\n",
       "      <td>0.01114</td>\n",
       "      <td>0.004239</td>\n",
       "      <td>25.450</td>\n",
       "      <td>26.40</td>\n",
       "      <td>166.10</td>\n",
       "      <td>2027.0</td>\n",
       "      <td>0.14100</td>\n",
       "      <td>0.21130</td>\n",
       "      <td>0.4107</td>\n",
       "      <td>0.2216</td>\n",
       "      <td>0.2060</td>\n",
       "      <td>0.07115</td>\n",
       "    </tr>\n",
       "    <tr>\n",
       "      <th>565</th>\n",
       "      <td>926682</td>\n",
       "      <td>M</td>\n",
       "      <td>20.13</td>\n",
       "      <td>28.25</td>\n",
       "      <td>131.20</td>\n",
       "      <td>1261.0</td>\n",
       "      <td>0.09780</td>\n",
       "      <td>0.10340</td>\n",
       "      <td>0.14400</td>\n",
       "      <td>0.09791</td>\n",
       "      <td>0.1752</td>\n",
       "      <td>0.05533</td>\n",
       "      <td>0.7655</td>\n",
       "      <td>2.4630</td>\n",
       "      <td>5.203</td>\n",
       "      <td>99.04</td>\n",
       "      <td>0.005769</td>\n",
       "      <td>0.02423</td>\n",
       "      <td>0.03950</td>\n",
       "      <td>0.01678</td>\n",
       "      <td>0.01898</td>\n",
       "      <td>0.002498</td>\n",
       "      <td>23.690</td>\n",
       "      <td>38.25</td>\n",
       "      <td>155.00</td>\n",
       "      <td>1731.0</td>\n",
       "      <td>0.11660</td>\n",
       "      <td>0.19220</td>\n",
       "      <td>0.3215</td>\n",
       "      <td>0.1628</td>\n",
       "      <td>0.2572</td>\n",
       "      <td>0.06637</td>\n",
       "    </tr>\n",
       "    <tr>\n",
       "      <th>566</th>\n",
       "      <td>926954</td>\n",
       "      <td>M</td>\n",
       "      <td>16.60</td>\n",
       "      <td>28.08</td>\n",
       "      <td>108.30</td>\n",
       "      <td>858.1</td>\n",
       "      <td>0.08455</td>\n",
       "      <td>0.10230</td>\n",
       "      <td>0.09251</td>\n",
       "      <td>0.05302</td>\n",
       "      <td>0.1590</td>\n",
       "      <td>0.05648</td>\n",
       "      <td>0.4564</td>\n",
       "      <td>1.0750</td>\n",
       "      <td>3.425</td>\n",
       "      <td>48.55</td>\n",
       "      <td>0.005903</td>\n",
       "      <td>0.03731</td>\n",
       "      <td>0.04730</td>\n",
       "      <td>0.01557</td>\n",
       "      <td>0.01318</td>\n",
       "      <td>0.003892</td>\n",
       "      <td>18.980</td>\n",
       "      <td>34.12</td>\n",
       "      <td>126.70</td>\n",
       "      <td>1124.0</td>\n",
       "      <td>0.11390</td>\n",
       "      <td>0.30940</td>\n",
       "      <td>0.3403</td>\n",
       "      <td>0.1418</td>\n",
       "      <td>0.2218</td>\n",
       "      <td>0.07820</td>\n",
       "    </tr>\n",
       "    <tr>\n",
       "      <th>567</th>\n",
       "      <td>927241</td>\n",
       "      <td>M</td>\n",
       "      <td>20.60</td>\n",
       "      <td>29.33</td>\n",
       "      <td>140.10</td>\n",
       "      <td>1265.0</td>\n",
       "      <td>0.11780</td>\n",
       "      <td>0.27700</td>\n",
       "      <td>0.35140</td>\n",
       "      <td>0.15200</td>\n",
       "      <td>0.2397</td>\n",
       "      <td>0.07016</td>\n",
       "      <td>0.7260</td>\n",
       "      <td>1.5950</td>\n",
       "      <td>5.772</td>\n",
       "      <td>86.22</td>\n",
       "      <td>0.006522</td>\n",
       "      <td>0.06158</td>\n",
       "      <td>0.07117</td>\n",
       "      <td>0.01664</td>\n",
       "      <td>0.02324</td>\n",
       "      <td>0.006185</td>\n",
       "      <td>25.740</td>\n",
       "      <td>39.42</td>\n",
       "      <td>184.60</td>\n",
       "      <td>1821.0</td>\n",
       "      <td>0.16500</td>\n",
       "      <td>0.86810</td>\n",
       "      <td>0.9387</td>\n",
       "      <td>0.2650</td>\n",
       "      <td>0.4087</td>\n",
       "      <td>0.12400</td>\n",
       "    </tr>\n",
       "    <tr>\n",
       "      <th>568</th>\n",
       "      <td>92751</td>\n",
       "      <td>B</td>\n",
       "      <td>7.76</td>\n",
       "      <td>24.54</td>\n",
       "      <td>47.92</td>\n",
       "      <td>181.0</td>\n",
       "      <td>0.05263</td>\n",
       "      <td>0.04362</td>\n",
       "      <td>0.00000</td>\n",
       "      <td>0.00000</td>\n",
       "      <td>0.1587</td>\n",
       "      <td>0.05884</td>\n",
       "      <td>0.3857</td>\n",
       "      <td>1.4280</td>\n",
       "      <td>2.548</td>\n",
       "      <td>19.15</td>\n",
       "      <td>0.007189</td>\n",
       "      <td>0.00466</td>\n",
       "      <td>0.00000</td>\n",
       "      <td>0.00000</td>\n",
       "      <td>0.02676</td>\n",
       "      <td>0.002783</td>\n",
       "      <td>9.456</td>\n",
       "      <td>30.37</td>\n",
       "      <td>59.16</td>\n",
       "      <td>268.6</td>\n",
       "      <td>0.08996</td>\n",
       "      <td>0.06444</td>\n",
       "      <td>0.0000</td>\n",
       "      <td>0.0000</td>\n",
       "      <td>0.2871</td>\n",
       "      <td>0.07039</td>\n",
       "    </tr>\n",
       "  </tbody>\n",
       "</table>\n",
       "<p>569 rows × 32 columns</p>\n",
       "</div>"
      ],
      "text/plain": [
       "           0  1      2      3       4       5        6        7        8   \\\n",
       "0      842302  M  17.99  10.38  122.80  1001.0  0.11840  0.27760  0.30010   \n",
       "1      842517  M  20.57  17.77  132.90  1326.0  0.08474  0.07864  0.08690   \n",
       "2    84300903  M  19.69  21.25  130.00  1203.0  0.10960  0.15990  0.19740   \n",
       "3    84348301  M  11.42  20.38   77.58   386.1  0.14250  0.28390  0.24140   \n",
       "4    84358402  M  20.29  14.34  135.10  1297.0  0.10030  0.13280  0.19800   \n",
       "..        ... ..    ...    ...     ...     ...      ...      ...      ...   \n",
       "564    926424  M  21.56  22.39  142.00  1479.0  0.11100  0.11590  0.24390   \n",
       "565    926682  M  20.13  28.25  131.20  1261.0  0.09780  0.10340  0.14400   \n",
       "566    926954  M  16.60  28.08  108.30   858.1  0.08455  0.10230  0.09251   \n",
       "567    927241  M  20.60  29.33  140.10  1265.0  0.11780  0.27700  0.35140   \n",
       "568     92751  B   7.76  24.54   47.92   181.0  0.05263  0.04362  0.00000   \n",
       "\n",
       "          9       10       11      12      13     14      15        16  \\\n",
       "0    0.14710  0.2419  0.07871  1.0950  0.9053  8.589  153.40  0.006399   \n",
       "1    0.07017  0.1812  0.05667  0.5435  0.7339  3.398   74.08  0.005225   \n",
       "2    0.12790  0.2069  0.05999  0.7456  0.7869  4.585   94.03  0.006150   \n",
       "3    0.10520  0.2597  0.09744  0.4956  1.1560  3.445   27.23  0.009110   \n",
       "4    0.10430  0.1809  0.05883  0.7572  0.7813  5.438   94.44  0.011490   \n",
       "..       ...     ...      ...     ...     ...    ...     ...       ...   \n",
       "564  0.13890  0.1726  0.05623  1.1760  1.2560  7.673  158.70  0.010300   \n",
       "565  0.09791  0.1752  0.05533  0.7655  2.4630  5.203   99.04  0.005769   \n",
       "566  0.05302  0.1590  0.05648  0.4564  1.0750  3.425   48.55  0.005903   \n",
       "567  0.15200  0.2397  0.07016  0.7260  1.5950  5.772   86.22  0.006522   \n",
       "568  0.00000  0.1587  0.05884  0.3857  1.4280  2.548   19.15  0.007189   \n",
       "\n",
       "          17       18       19       20        21      22     23      24  \\\n",
       "0    0.04904  0.05373  0.01587  0.03003  0.006193  25.380  17.33  184.60   \n",
       "1    0.01308  0.01860  0.01340  0.01389  0.003532  24.990  23.41  158.80   \n",
       "2    0.04006  0.03832  0.02058  0.02250  0.004571  23.570  25.53  152.50   \n",
       "3    0.07458  0.05661  0.01867  0.05963  0.009208  14.910  26.50   98.87   \n",
       "4    0.02461  0.05688  0.01885  0.01756  0.005115  22.540  16.67  152.20   \n",
       "..       ...      ...      ...      ...       ...     ...    ...     ...   \n",
       "564  0.02891  0.05198  0.02454  0.01114  0.004239  25.450  26.40  166.10   \n",
       "565  0.02423  0.03950  0.01678  0.01898  0.002498  23.690  38.25  155.00   \n",
       "566  0.03731  0.04730  0.01557  0.01318  0.003892  18.980  34.12  126.70   \n",
       "567  0.06158  0.07117  0.01664  0.02324  0.006185  25.740  39.42  184.60   \n",
       "568  0.00466  0.00000  0.00000  0.02676  0.002783   9.456  30.37   59.16   \n",
       "\n",
       "         25       26       27      28      29      30       31  \n",
       "0    2019.0  0.16220  0.66560  0.7119  0.2654  0.4601  0.11890  \n",
       "1    1956.0  0.12380  0.18660  0.2416  0.1860  0.2750  0.08902  \n",
       "2    1709.0  0.14440  0.42450  0.4504  0.2430  0.3613  0.08758  \n",
       "3     567.7  0.20980  0.86630  0.6869  0.2575  0.6638  0.17300  \n",
       "4    1575.0  0.13740  0.20500  0.4000  0.1625  0.2364  0.07678  \n",
       "..      ...      ...      ...     ...     ...     ...      ...  \n",
       "564  2027.0  0.14100  0.21130  0.4107  0.2216  0.2060  0.07115  \n",
       "565  1731.0  0.11660  0.19220  0.3215  0.1628  0.2572  0.06637  \n",
       "566  1124.0  0.11390  0.30940  0.3403  0.1418  0.2218  0.07820  \n",
       "567  1821.0  0.16500  0.86810  0.9387  0.2650  0.4087  0.12400  \n",
       "568   268.6  0.08996  0.06444  0.0000  0.0000  0.2871  0.07039  \n",
       "\n",
       "[569 rows x 32 columns]"
      ]
     },
     "execution_count": 6,
     "metadata": {},
     "output_type": "execute_result"
    }
   ],
   "source": [
    "df = pd.read_csv('data/wdbc.data', header=None)\n",
    "df"
   ]
  },
  {
   "cell_type": "code",
   "execution_count": 7,
   "metadata": {
    "ExecuteTime": {
     "end_time": "2023-09-28T15:34:27.475933Z",
     "start_time": "2023-09-28T15:34:27.470186Z"
    }
   },
   "outputs": [],
   "source": [
    "df.columns = ['id', 'diagnosis', 'mean radius', 'mean texture', 'mean perimeter', 'mean area',\n",
    "       'mean smoothness', 'mean compactness', 'mean concavity',\n",
    "       'mean concave points', 'mean symmetry', 'mean fractal dimension',\n",
    "       'radius error', 'texture error', 'perimeter error', 'area error',\n",
    "       'smoothness error', 'compactness error', 'concavity error',\n",
    "       'concave points error', 'symmetry error', 'fractal dimension error',\n",
    "       'worst radius', 'worst texture', 'worst perimeter', 'worst area',\n",
    "       'worst smoothness', 'worst compactness', 'worst concavity',\n",
    "       'worst concave points', 'worst symmetry', 'worst fractal dimension']"
   ]
  },
  {
   "cell_type": "code",
   "execution_count": 8,
   "metadata": {
    "ExecuteTime": {
     "end_time": "2023-09-28T15:34:27.510323Z",
     "start_time": "2023-09-28T15:34:27.478696Z"
    }
   },
   "outputs": [
    {
     "data": {
      "text/html": [
       "<div>\n",
       "<style scoped>\n",
       "    .dataframe tbody tr th:only-of-type {\n",
       "        vertical-align: middle;\n",
       "    }\n",
       "\n",
       "    .dataframe tbody tr th {\n",
       "        vertical-align: top;\n",
       "    }\n",
       "\n",
       "    .dataframe thead th {\n",
       "        text-align: right;\n",
       "    }\n",
       "</style>\n",
       "<table border=\"1\" class=\"dataframe\">\n",
       "  <thead>\n",
       "    <tr style=\"text-align: right;\">\n",
       "      <th></th>\n",
       "      <th>id</th>\n",
       "      <th>diagnosis</th>\n",
       "      <th>mean radius</th>\n",
       "      <th>mean texture</th>\n",
       "      <th>mean perimeter</th>\n",
       "      <th>mean area</th>\n",
       "      <th>mean smoothness</th>\n",
       "      <th>mean compactness</th>\n",
       "      <th>mean concavity</th>\n",
       "      <th>mean concave points</th>\n",
       "      <th>mean symmetry</th>\n",
       "      <th>mean fractal dimension</th>\n",
       "      <th>radius error</th>\n",
       "      <th>texture error</th>\n",
       "      <th>perimeter error</th>\n",
       "      <th>area error</th>\n",
       "      <th>smoothness error</th>\n",
       "      <th>compactness error</th>\n",
       "      <th>concavity error</th>\n",
       "      <th>concave points error</th>\n",
       "      <th>symmetry error</th>\n",
       "      <th>fractal dimension error</th>\n",
       "      <th>worst radius</th>\n",
       "      <th>worst texture</th>\n",
       "      <th>worst perimeter</th>\n",
       "      <th>worst area</th>\n",
       "      <th>worst smoothness</th>\n",
       "      <th>worst compactness</th>\n",
       "      <th>worst concavity</th>\n",
       "      <th>worst concave points</th>\n",
       "      <th>worst symmetry</th>\n",
       "      <th>worst fractal dimension</th>\n",
       "    </tr>\n",
       "  </thead>\n",
       "  <tbody>\n",
       "    <tr>\n",
       "      <th>0</th>\n",
       "      <td>842302</td>\n",
       "      <td>M</td>\n",
       "      <td>17.99</td>\n",
       "      <td>10.38</td>\n",
       "      <td>122.80</td>\n",
       "      <td>1001.0</td>\n",
       "      <td>0.11840</td>\n",
       "      <td>0.27760</td>\n",
       "      <td>0.3001</td>\n",
       "      <td>0.14710</td>\n",
       "      <td>0.2419</td>\n",
       "      <td>0.07871</td>\n",
       "      <td>1.0950</td>\n",
       "      <td>0.9053</td>\n",
       "      <td>8.589</td>\n",
       "      <td>153.40</td>\n",
       "      <td>0.006399</td>\n",
       "      <td>0.04904</td>\n",
       "      <td>0.05373</td>\n",
       "      <td>0.01587</td>\n",
       "      <td>0.03003</td>\n",
       "      <td>0.006193</td>\n",
       "      <td>25.38</td>\n",
       "      <td>17.33</td>\n",
       "      <td>184.60</td>\n",
       "      <td>2019.0</td>\n",
       "      <td>0.1622</td>\n",
       "      <td>0.6656</td>\n",
       "      <td>0.7119</td>\n",
       "      <td>0.2654</td>\n",
       "      <td>0.4601</td>\n",
       "      <td>0.11890</td>\n",
       "    </tr>\n",
       "    <tr>\n",
       "      <th>1</th>\n",
       "      <td>842517</td>\n",
       "      <td>M</td>\n",
       "      <td>20.57</td>\n",
       "      <td>17.77</td>\n",
       "      <td>132.90</td>\n",
       "      <td>1326.0</td>\n",
       "      <td>0.08474</td>\n",
       "      <td>0.07864</td>\n",
       "      <td>0.0869</td>\n",
       "      <td>0.07017</td>\n",
       "      <td>0.1812</td>\n",
       "      <td>0.05667</td>\n",
       "      <td>0.5435</td>\n",
       "      <td>0.7339</td>\n",
       "      <td>3.398</td>\n",
       "      <td>74.08</td>\n",
       "      <td>0.005225</td>\n",
       "      <td>0.01308</td>\n",
       "      <td>0.01860</td>\n",
       "      <td>0.01340</td>\n",
       "      <td>0.01389</td>\n",
       "      <td>0.003532</td>\n",
       "      <td>24.99</td>\n",
       "      <td>23.41</td>\n",
       "      <td>158.80</td>\n",
       "      <td>1956.0</td>\n",
       "      <td>0.1238</td>\n",
       "      <td>0.1866</td>\n",
       "      <td>0.2416</td>\n",
       "      <td>0.1860</td>\n",
       "      <td>0.2750</td>\n",
       "      <td>0.08902</td>\n",
       "    </tr>\n",
       "    <tr>\n",
       "      <th>2</th>\n",
       "      <td>84300903</td>\n",
       "      <td>M</td>\n",
       "      <td>19.69</td>\n",
       "      <td>21.25</td>\n",
       "      <td>130.00</td>\n",
       "      <td>1203.0</td>\n",
       "      <td>0.10960</td>\n",
       "      <td>0.15990</td>\n",
       "      <td>0.1974</td>\n",
       "      <td>0.12790</td>\n",
       "      <td>0.2069</td>\n",
       "      <td>0.05999</td>\n",
       "      <td>0.7456</td>\n",
       "      <td>0.7869</td>\n",
       "      <td>4.585</td>\n",
       "      <td>94.03</td>\n",
       "      <td>0.006150</td>\n",
       "      <td>0.04006</td>\n",
       "      <td>0.03832</td>\n",
       "      <td>0.02058</td>\n",
       "      <td>0.02250</td>\n",
       "      <td>0.004571</td>\n",
       "      <td>23.57</td>\n",
       "      <td>25.53</td>\n",
       "      <td>152.50</td>\n",
       "      <td>1709.0</td>\n",
       "      <td>0.1444</td>\n",
       "      <td>0.4245</td>\n",
       "      <td>0.4504</td>\n",
       "      <td>0.2430</td>\n",
       "      <td>0.3613</td>\n",
       "      <td>0.08758</td>\n",
       "    </tr>\n",
       "    <tr>\n",
       "      <th>3</th>\n",
       "      <td>84348301</td>\n",
       "      <td>M</td>\n",
       "      <td>11.42</td>\n",
       "      <td>20.38</td>\n",
       "      <td>77.58</td>\n",
       "      <td>386.1</td>\n",
       "      <td>0.14250</td>\n",
       "      <td>0.28390</td>\n",
       "      <td>0.2414</td>\n",
       "      <td>0.10520</td>\n",
       "      <td>0.2597</td>\n",
       "      <td>0.09744</td>\n",
       "      <td>0.4956</td>\n",
       "      <td>1.1560</td>\n",
       "      <td>3.445</td>\n",
       "      <td>27.23</td>\n",
       "      <td>0.009110</td>\n",
       "      <td>0.07458</td>\n",
       "      <td>0.05661</td>\n",
       "      <td>0.01867</td>\n",
       "      <td>0.05963</td>\n",
       "      <td>0.009208</td>\n",
       "      <td>14.91</td>\n",
       "      <td>26.50</td>\n",
       "      <td>98.87</td>\n",
       "      <td>567.7</td>\n",
       "      <td>0.2098</td>\n",
       "      <td>0.8663</td>\n",
       "      <td>0.6869</td>\n",
       "      <td>0.2575</td>\n",
       "      <td>0.6638</td>\n",
       "      <td>0.17300</td>\n",
       "    </tr>\n",
       "    <tr>\n",
       "      <th>4</th>\n",
       "      <td>84358402</td>\n",
       "      <td>M</td>\n",
       "      <td>20.29</td>\n",
       "      <td>14.34</td>\n",
       "      <td>135.10</td>\n",
       "      <td>1297.0</td>\n",
       "      <td>0.10030</td>\n",
       "      <td>0.13280</td>\n",
       "      <td>0.1980</td>\n",
       "      <td>0.10430</td>\n",
       "      <td>0.1809</td>\n",
       "      <td>0.05883</td>\n",
       "      <td>0.7572</td>\n",
       "      <td>0.7813</td>\n",
       "      <td>5.438</td>\n",
       "      <td>94.44</td>\n",
       "      <td>0.011490</td>\n",
       "      <td>0.02461</td>\n",
       "      <td>0.05688</td>\n",
       "      <td>0.01885</td>\n",
       "      <td>0.01756</td>\n",
       "      <td>0.005115</td>\n",
       "      <td>22.54</td>\n",
       "      <td>16.67</td>\n",
       "      <td>152.20</td>\n",
       "      <td>1575.0</td>\n",
       "      <td>0.1374</td>\n",
       "      <td>0.2050</td>\n",
       "      <td>0.4000</td>\n",
       "      <td>0.1625</td>\n",
       "      <td>0.2364</td>\n",
       "      <td>0.07678</td>\n",
       "    </tr>\n",
       "  </tbody>\n",
       "</table>\n",
       "</div>"
      ],
      "text/plain": [
       "         id diagnosis  mean radius  mean texture  mean perimeter  mean area  \\\n",
       "0    842302         M        17.99         10.38          122.80     1001.0   \n",
       "1    842517         M        20.57         17.77          132.90     1326.0   \n",
       "2  84300903         M        19.69         21.25          130.00     1203.0   \n",
       "3  84348301         M        11.42         20.38           77.58      386.1   \n",
       "4  84358402         M        20.29         14.34          135.10     1297.0   \n",
       "\n",
       "   mean smoothness  mean compactness  mean concavity  mean concave points  \\\n",
       "0          0.11840           0.27760          0.3001              0.14710   \n",
       "1          0.08474           0.07864          0.0869              0.07017   \n",
       "2          0.10960           0.15990          0.1974              0.12790   \n",
       "3          0.14250           0.28390          0.2414              0.10520   \n",
       "4          0.10030           0.13280          0.1980              0.10430   \n",
       "\n",
       "   mean symmetry  mean fractal dimension  radius error  texture error  \\\n",
       "0         0.2419                 0.07871        1.0950         0.9053   \n",
       "1         0.1812                 0.05667        0.5435         0.7339   \n",
       "2         0.2069                 0.05999        0.7456         0.7869   \n",
       "3         0.2597                 0.09744        0.4956         1.1560   \n",
       "4         0.1809                 0.05883        0.7572         0.7813   \n",
       "\n",
       "   perimeter error  area error  smoothness error  compactness error  \\\n",
       "0            8.589      153.40          0.006399            0.04904   \n",
       "1            3.398       74.08          0.005225            0.01308   \n",
       "2            4.585       94.03          0.006150            0.04006   \n",
       "3            3.445       27.23          0.009110            0.07458   \n",
       "4            5.438       94.44          0.011490            0.02461   \n",
       "\n",
       "   concavity error  concave points error  symmetry error  \\\n",
       "0          0.05373               0.01587         0.03003   \n",
       "1          0.01860               0.01340         0.01389   \n",
       "2          0.03832               0.02058         0.02250   \n",
       "3          0.05661               0.01867         0.05963   \n",
       "4          0.05688               0.01885         0.01756   \n",
       "\n",
       "   fractal dimension error  worst radius  worst texture  worst perimeter  \\\n",
       "0                 0.006193         25.38          17.33           184.60   \n",
       "1                 0.003532         24.99          23.41           158.80   \n",
       "2                 0.004571         23.57          25.53           152.50   \n",
       "3                 0.009208         14.91          26.50            98.87   \n",
       "4                 0.005115         22.54          16.67           152.20   \n",
       "\n",
       "   worst area  worst smoothness  worst compactness  worst concavity  \\\n",
       "0      2019.0            0.1622             0.6656           0.7119   \n",
       "1      1956.0            0.1238             0.1866           0.2416   \n",
       "2      1709.0            0.1444             0.4245           0.4504   \n",
       "3       567.7            0.2098             0.8663           0.6869   \n",
       "4      1575.0            0.1374             0.2050           0.4000   \n",
       "\n",
       "   worst concave points  worst symmetry  worst fractal dimension  \n",
       "0                0.2654          0.4601                  0.11890  \n",
       "1                0.1860          0.2750                  0.08902  \n",
       "2                0.2430          0.3613                  0.08758  \n",
       "3                0.2575          0.6638                  0.17300  \n",
       "4                0.1625          0.2364                  0.07678  "
      ]
     },
     "execution_count": 8,
     "metadata": {},
     "output_type": "execute_result"
    }
   ],
   "source": [
    "df.head()"
   ]
  },
  {
   "cell_type": "code",
   "execution_count": 115,
   "metadata": {
    "ExecuteTime": {
     "end_time": "2023-09-28T16:13:33.297145Z",
     "start_time": "2023-09-28T16:13:33.290444Z"
    },
    "tags": []
   },
   "outputs": [],
   "source": [
    "X = df.drop(['id', 'diagnosis'], axis=1)"
   ]
  },
  {
   "cell_type": "code",
   "execution_count": 116,
   "metadata": {
    "ExecuteTime": {
     "end_time": "2023-09-28T16:13:33.349099Z",
     "start_time": "2023-09-28T16:13:33.300629Z"
    }
   },
   "outputs": [
    {
     "data": {
      "text/html": [
       "<div>\n",
       "<style scoped>\n",
       "    .dataframe tbody tr th:only-of-type {\n",
       "        vertical-align: middle;\n",
       "    }\n",
       "\n",
       "    .dataframe tbody tr th {\n",
       "        vertical-align: top;\n",
       "    }\n",
       "\n",
       "    .dataframe thead th {\n",
       "        text-align: right;\n",
       "    }\n",
       "</style>\n",
       "<table border=\"1\" class=\"dataframe\">\n",
       "  <thead>\n",
       "    <tr style=\"text-align: right;\">\n",
       "      <th></th>\n",
       "      <th>mean radius</th>\n",
       "      <th>mean texture</th>\n",
       "      <th>mean perimeter</th>\n",
       "      <th>mean area</th>\n",
       "      <th>mean smoothness</th>\n",
       "      <th>mean compactness</th>\n",
       "      <th>mean concavity</th>\n",
       "      <th>mean concave points</th>\n",
       "      <th>mean symmetry</th>\n",
       "      <th>mean fractal dimension</th>\n",
       "      <th>radius error</th>\n",
       "      <th>texture error</th>\n",
       "      <th>perimeter error</th>\n",
       "      <th>area error</th>\n",
       "      <th>smoothness error</th>\n",
       "      <th>compactness error</th>\n",
       "      <th>concavity error</th>\n",
       "      <th>concave points error</th>\n",
       "      <th>symmetry error</th>\n",
       "      <th>fractal dimension error</th>\n",
       "      <th>worst radius</th>\n",
       "      <th>worst texture</th>\n",
       "      <th>worst perimeter</th>\n",
       "      <th>worst area</th>\n",
       "      <th>worst smoothness</th>\n",
       "      <th>worst compactness</th>\n",
       "      <th>worst concavity</th>\n",
       "      <th>worst concave points</th>\n",
       "      <th>worst symmetry</th>\n",
       "      <th>worst fractal dimension</th>\n",
       "    </tr>\n",
       "  </thead>\n",
       "  <tbody>\n",
       "    <tr>\n",
       "      <th>0</th>\n",
       "      <td>17.99</td>\n",
       "      <td>10.38</td>\n",
       "      <td>122.80</td>\n",
       "      <td>1001.0</td>\n",
       "      <td>0.11840</td>\n",
       "      <td>0.27760</td>\n",
       "      <td>0.3001</td>\n",
       "      <td>0.14710</td>\n",
       "      <td>0.2419</td>\n",
       "      <td>0.07871</td>\n",
       "      <td>1.0950</td>\n",
       "      <td>0.9053</td>\n",
       "      <td>8.589</td>\n",
       "      <td>153.40</td>\n",
       "      <td>0.006399</td>\n",
       "      <td>0.04904</td>\n",
       "      <td>0.05373</td>\n",
       "      <td>0.01587</td>\n",
       "      <td>0.03003</td>\n",
       "      <td>0.006193</td>\n",
       "      <td>25.38</td>\n",
       "      <td>17.33</td>\n",
       "      <td>184.60</td>\n",
       "      <td>2019.0</td>\n",
       "      <td>0.1622</td>\n",
       "      <td>0.6656</td>\n",
       "      <td>0.7119</td>\n",
       "      <td>0.2654</td>\n",
       "      <td>0.4601</td>\n",
       "      <td>0.11890</td>\n",
       "    </tr>\n",
       "    <tr>\n",
       "      <th>1</th>\n",
       "      <td>20.57</td>\n",
       "      <td>17.77</td>\n",
       "      <td>132.90</td>\n",
       "      <td>1326.0</td>\n",
       "      <td>0.08474</td>\n",
       "      <td>0.07864</td>\n",
       "      <td>0.0869</td>\n",
       "      <td>0.07017</td>\n",
       "      <td>0.1812</td>\n",
       "      <td>0.05667</td>\n",
       "      <td>0.5435</td>\n",
       "      <td>0.7339</td>\n",
       "      <td>3.398</td>\n",
       "      <td>74.08</td>\n",
       "      <td>0.005225</td>\n",
       "      <td>0.01308</td>\n",
       "      <td>0.01860</td>\n",
       "      <td>0.01340</td>\n",
       "      <td>0.01389</td>\n",
       "      <td>0.003532</td>\n",
       "      <td>24.99</td>\n",
       "      <td>23.41</td>\n",
       "      <td>158.80</td>\n",
       "      <td>1956.0</td>\n",
       "      <td>0.1238</td>\n",
       "      <td>0.1866</td>\n",
       "      <td>0.2416</td>\n",
       "      <td>0.1860</td>\n",
       "      <td>0.2750</td>\n",
       "      <td>0.08902</td>\n",
       "    </tr>\n",
       "    <tr>\n",
       "      <th>2</th>\n",
       "      <td>19.69</td>\n",
       "      <td>21.25</td>\n",
       "      <td>130.00</td>\n",
       "      <td>1203.0</td>\n",
       "      <td>0.10960</td>\n",
       "      <td>0.15990</td>\n",
       "      <td>0.1974</td>\n",
       "      <td>0.12790</td>\n",
       "      <td>0.2069</td>\n",
       "      <td>0.05999</td>\n",
       "      <td>0.7456</td>\n",
       "      <td>0.7869</td>\n",
       "      <td>4.585</td>\n",
       "      <td>94.03</td>\n",
       "      <td>0.006150</td>\n",
       "      <td>0.04006</td>\n",
       "      <td>0.03832</td>\n",
       "      <td>0.02058</td>\n",
       "      <td>0.02250</td>\n",
       "      <td>0.004571</td>\n",
       "      <td>23.57</td>\n",
       "      <td>25.53</td>\n",
       "      <td>152.50</td>\n",
       "      <td>1709.0</td>\n",
       "      <td>0.1444</td>\n",
       "      <td>0.4245</td>\n",
       "      <td>0.4504</td>\n",
       "      <td>0.2430</td>\n",
       "      <td>0.3613</td>\n",
       "      <td>0.08758</td>\n",
       "    </tr>\n",
       "    <tr>\n",
       "      <th>3</th>\n",
       "      <td>11.42</td>\n",
       "      <td>20.38</td>\n",
       "      <td>77.58</td>\n",
       "      <td>386.1</td>\n",
       "      <td>0.14250</td>\n",
       "      <td>0.28390</td>\n",
       "      <td>0.2414</td>\n",
       "      <td>0.10520</td>\n",
       "      <td>0.2597</td>\n",
       "      <td>0.09744</td>\n",
       "      <td>0.4956</td>\n",
       "      <td>1.1560</td>\n",
       "      <td>3.445</td>\n",
       "      <td>27.23</td>\n",
       "      <td>0.009110</td>\n",
       "      <td>0.07458</td>\n",
       "      <td>0.05661</td>\n",
       "      <td>0.01867</td>\n",
       "      <td>0.05963</td>\n",
       "      <td>0.009208</td>\n",
       "      <td>14.91</td>\n",
       "      <td>26.50</td>\n",
       "      <td>98.87</td>\n",
       "      <td>567.7</td>\n",
       "      <td>0.2098</td>\n",
       "      <td>0.8663</td>\n",
       "      <td>0.6869</td>\n",
       "      <td>0.2575</td>\n",
       "      <td>0.6638</td>\n",
       "      <td>0.17300</td>\n",
       "    </tr>\n",
       "    <tr>\n",
       "      <th>4</th>\n",
       "      <td>20.29</td>\n",
       "      <td>14.34</td>\n",
       "      <td>135.10</td>\n",
       "      <td>1297.0</td>\n",
       "      <td>0.10030</td>\n",
       "      <td>0.13280</td>\n",
       "      <td>0.1980</td>\n",
       "      <td>0.10430</td>\n",
       "      <td>0.1809</td>\n",
       "      <td>0.05883</td>\n",
       "      <td>0.7572</td>\n",
       "      <td>0.7813</td>\n",
       "      <td>5.438</td>\n",
       "      <td>94.44</td>\n",
       "      <td>0.011490</td>\n",
       "      <td>0.02461</td>\n",
       "      <td>0.05688</td>\n",
       "      <td>0.01885</td>\n",
       "      <td>0.01756</td>\n",
       "      <td>0.005115</td>\n",
       "      <td>22.54</td>\n",
       "      <td>16.67</td>\n",
       "      <td>152.20</td>\n",
       "      <td>1575.0</td>\n",
       "      <td>0.1374</td>\n",
       "      <td>0.2050</td>\n",
       "      <td>0.4000</td>\n",
       "      <td>0.1625</td>\n",
       "      <td>0.2364</td>\n",
       "      <td>0.07678</td>\n",
       "    </tr>\n",
       "  </tbody>\n",
       "</table>\n",
       "</div>"
      ],
      "text/plain": [
       "   mean radius  mean texture  mean perimeter  mean area  mean smoothness  \\\n",
       "0        17.99         10.38          122.80     1001.0          0.11840   \n",
       "1        20.57         17.77          132.90     1326.0          0.08474   \n",
       "2        19.69         21.25          130.00     1203.0          0.10960   \n",
       "3        11.42         20.38           77.58      386.1          0.14250   \n",
       "4        20.29         14.34          135.10     1297.0          0.10030   \n",
       "\n",
       "   mean compactness  mean concavity  mean concave points  mean symmetry  \\\n",
       "0           0.27760          0.3001              0.14710         0.2419   \n",
       "1           0.07864          0.0869              0.07017         0.1812   \n",
       "2           0.15990          0.1974              0.12790         0.2069   \n",
       "3           0.28390          0.2414              0.10520         0.2597   \n",
       "4           0.13280          0.1980              0.10430         0.1809   \n",
       "\n",
       "   mean fractal dimension  radius error  texture error  perimeter error  \\\n",
       "0                 0.07871        1.0950         0.9053            8.589   \n",
       "1                 0.05667        0.5435         0.7339            3.398   \n",
       "2                 0.05999        0.7456         0.7869            4.585   \n",
       "3                 0.09744        0.4956         1.1560            3.445   \n",
       "4                 0.05883        0.7572         0.7813            5.438   \n",
       "\n",
       "   area error  smoothness error  compactness error  concavity error  \\\n",
       "0      153.40          0.006399            0.04904          0.05373   \n",
       "1       74.08          0.005225            0.01308          0.01860   \n",
       "2       94.03          0.006150            0.04006          0.03832   \n",
       "3       27.23          0.009110            0.07458          0.05661   \n",
       "4       94.44          0.011490            0.02461          0.05688   \n",
       "\n",
       "   concave points error  symmetry error  fractal dimension error  \\\n",
       "0               0.01587         0.03003                 0.006193   \n",
       "1               0.01340         0.01389                 0.003532   \n",
       "2               0.02058         0.02250                 0.004571   \n",
       "3               0.01867         0.05963                 0.009208   \n",
       "4               0.01885         0.01756                 0.005115   \n",
       "\n",
       "   worst radius  worst texture  worst perimeter  worst area  worst smoothness  \\\n",
       "0         25.38          17.33           184.60      2019.0            0.1622   \n",
       "1         24.99          23.41           158.80      1956.0            0.1238   \n",
       "2         23.57          25.53           152.50      1709.0            0.1444   \n",
       "3         14.91          26.50            98.87       567.7            0.2098   \n",
       "4         22.54          16.67           152.20      1575.0            0.1374   \n",
       "\n",
       "   worst compactness  worst concavity  worst concave points  worst symmetry  \\\n",
       "0             0.6656           0.7119                0.2654          0.4601   \n",
       "1             0.1866           0.2416                0.1860          0.2750   \n",
       "2             0.4245           0.4504                0.2430          0.3613   \n",
       "3             0.8663           0.6869                0.2575          0.6638   \n",
       "4             0.2050           0.4000                0.1625          0.2364   \n",
       "\n",
       "   worst fractal dimension  \n",
       "0                  0.11890  \n",
       "1                  0.08902  \n",
       "2                  0.08758  \n",
       "3                  0.17300  \n",
       "4                  0.07678  "
      ]
     },
     "execution_count": 116,
     "metadata": {},
     "output_type": "execute_result"
    }
   ],
   "source": [
    "X.head()"
   ]
  },
  {
   "cell_type": "markdown",
   "metadata": {},
   "source": [
    "The target vector is `y`."
   ]
  },
  {
   "cell_type": "code",
   "execution_count": 117,
   "metadata": {
    "ExecuteTime": {
     "end_time": "2023-09-28T16:13:33.360323Z",
     "start_time": "2023-09-28T16:13:33.353203Z"
    }
   },
   "outputs": [
    {
     "data": {
      "text/plain": [
       "0    M\n",
       "1    M\n",
       "2    M\n",
       "3    M\n",
       "4    M\n",
       "Name: diagnosis, dtype: object"
      ]
     },
     "execution_count": 117,
     "metadata": {},
     "output_type": "execute_result"
    }
   ],
   "source": [
    "y = df.diagnosis\n",
    "y.head()"
   ]
  },
  {
   "cell_type": "markdown",
   "metadata": {},
   "source": [
    "### Question 1 [10 points]\n",
    "How many people have cancer?"
   ]
  },
  {
   "cell_type": "markdown",
   "metadata": {},
   "source": [
    "> Hint: Should be less than 300!"
   ]
  },
  {
   "cell_type": "code",
   "execution_count": 118,
   "metadata": {
    "ExecuteTime": {
     "end_time": "2023-09-28T16:13:33.370263Z",
     "start_time": "2023-09-28T16:13:33.363323Z"
    }
   },
   "outputs": [
    {
     "name": "stdout",
     "output_type": "stream",
     "text": [
      "People with cancer diagnosis\n",
      "M    212\n",
      "Name: count, dtype: int64\n"
     ]
    }
   ],
   "source": [
    "# code\n",
    "\n",
    "canc_cnt = y[y=='M'].value_counts()\n",
    "print(f'People with cancer {canc_cnt}')\n"
   ]
  },
  {
   "cell_type": "markdown",
   "metadata": {},
   "source": [
    "Ans: 212 people have malignant cancer."
   ]
  },
  {
   "cell_type": "markdown",
   "metadata": {},
   "source": [
    "212 people have malignant cancer."
   ]
  },
  {
   "cell_type": "markdown",
   "metadata": {},
   "source": [
    "\n",
    "Check the feature set `X` and investigate the column types. Is there any categorical data? Any missing values? \n",
    "How many observations? How many variables are there in the feature set (`X`)?"
   ]
  },
  {
   "cell_type": "code",
   "execution_count": 119,
   "metadata": {
    "ExecuteTime": {
     "end_time": "2023-09-28T16:13:33.388478Z",
     "start_time": "2023-09-28T16:13:33.374298Z"
    }
   },
   "outputs": [
    {
     "name": "stdout",
     "output_type": "stream",
     "text": [
      "<class 'pandas.core.frame.DataFrame'>\n",
      "RangeIndex: 569 entries, 0 to 568\n",
      "Data columns (total 30 columns):\n",
      " #   Column                   Non-Null Count  Dtype  \n",
      "---  ------                   --------------  -----  \n",
      " 0   mean radius              569 non-null    float64\n",
      " 1   mean texture             569 non-null    float64\n",
      " 2   mean perimeter           569 non-null    float64\n",
      " 3   mean area                569 non-null    float64\n",
      " 4   mean smoothness          569 non-null    float64\n",
      " 5   mean compactness         569 non-null    float64\n",
      " 6   mean concavity           569 non-null    float64\n",
      " 7   mean concave points      569 non-null    float64\n",
      " 8   mean symmetry            569 non-null    float64\n",
      " 9   mean fractal dimension   569 non-null    float64\n",
      " 10  radius error             569 non-null    float64\n",
      " 11  texture error            569 non-null    float64\n",
      " 12  perimeter error          569 non-null    float64\n",
      " 13  area error               569 non-null    float64\n",
      " 14  smoothness error         569 non-null    float64\n",
      " 15  compactness error        569 non-null    float64\n",
      " 16  concavity error          569 non-null    float64\n",
      " 17  concave points error     569 non-null    float64\n",
      " 18  symmetry error           569 non-null    float64\n",
      " 19  fractal dimension error  569 non-null    float64\n",
      " 20  worst radius             569 non-null    float64\n",
      " 21  worst texture            569 non-null    float64\n",
      " 22  worst perimeter          569 non-null    float64\n",
      " 23  worst area               569 non-null    float64\n",
      " 24  worst smoothness         569 non-null    float64\n",
      " 25  worst compactness        569 non-null    float64\n",
      " 26  worst concavity          569 non-null    float64\n",
      " 27  worst concave points     569 non-null    float64\n",
      " 28  worst symmetry           569 non-null    float64\n",
      " 29  worst fractal dimension  569 non-null    float64\n",
      "dtypes: float64(30)\n",
      "memory usage: 133.5 KB\n"
     ]
    }
   ],
   "source": [
    "# code\n",
    "\n",
    "X.info()"
   ]
  },
  {
   "cell_type": "markdown",
   "metadata": {},
   "source": [
    "From above `df.info()` code:\n",
    "- All the columns are of numeric data type. (D-type column from above info table) \n",
    "- None of the variables are of categorical type. \n",
    "- There are no null values present in any column. (Non-Null Count column from above info table)\n",
    "- There are total of 30 columns/features in the dataset and 569 observations."
   ]
  },
  {
   "cell_type": "markdown",
   "metadata": {},
   "source": [
    "- No missing values. \n",
    "- No categorical variables. \n",
    "- 569 observations, 30 columns."
   ]
  },
  {
   "cell_type": "markdown",
   "metadata": {},
   "source": [
    "### Question 2 [5 points]\n",
    "- Check the statistical summary of numeric features. Do the variables have values close to each other, or is there large differences?\n",
    "- Among the `mean` (the first 10) features, which one has the minimum 25% percentile value? \n",
    "- Which `mean` variable (the first 10 features) has the largest mean value?"
   ]
  },
  {
   "cell_type": "code",
   "execution_count": 120,
   "metadata": {
    "ExecuteTime": {
     "end_time": "2023-09-28T16:13:33.480628Z",
     "start_time": "2023-09-28T16:13:33.391296Z"
    }
   },
   "outputs": [
    {
     "data": {
      "text/html": [
       "<div>\n",
       "<style scoped>\n",
       "    .dataframe tbody tr th:only-of-type {\n",
       "        vertical-align: middle;\n",
       "    }\n",
       "\n",
       "    .dataframe tbody tr th {\n",
       "        vertical-align: top;\n",
       "    }\n",
       "\n",
       "    .dataframe thead th {\n",
       "        text-align: right;\n",
       "    }\n",
       "</style>\n",
       "<table border=\"1\" class=\"dataframe\">\n",
       "  <thead>\n",
       "    <tr style=\"text-align: right;\">\n",
       "      <th></th>\n",
       "      <th>mean radius</th>\n",
       "      <th>mean texture</th>\n",
       "      <th>mean perimeter</th>\n",
       "      <th>mean area</th>\n",
       "      <th>mean smoothness</th>\n",
       "      <th>mean compactness</th>\n",
       "      <th>mean concavity</th>\n",
       "      <th>mean concave points</th>\n",
       "      <th>mean symmetry</th>\n",
       "      <th>mean fractal dimension</th>\n",
       "      <th>radius error</th>\n",
       "      <th>texture error</th>\n",
       "      <th>perimeter error</th>\n",
       "      <th>area error</th>\n",
       "      <th>smoothness error</th>\n",
       "      <th>compactness error</th>\n",
       "      <th>concavity error</th>\n",
       "      <th>concave points error</th>\n",
       "      <th>symmetry error</th>\n",
       "      <th>fractal dimension error</th>\n",
       "      <th>worst radius</th>\n",
       "      <th>worst texture</th>\n",
       "      <th>worst perimeter</th>\n",
       "      <th>worst area</th>\n",
       "      <th>worst smoothness</th>\n",
       "      <th>worst compactness</th>\n",
       "      <th>worst concavity</th>\n",
       "      <th>worst concave points</th>\n",
       "      <th>worst symmetry</th>\n",
       "      <th>worst fractal dimension</th>\n",
       "    </tr>\n",
       "  </thead>\n",
       "  <tbody>\n",
       "    <tr>\n",
       "      <th>count</th>\n",
       "      <td>569.000000</td>\n",
       "      <td>569.000000</td>\n",
       "      <td>569.000000</td>\n",
       "      <td>569.000000</td>\n",
       "      <td>569.000000</td>\n",
       "      <td>569.000000</td>\n",
       "      <td>569.000000</td>\n",
       "      <td>569.000000</td>\n",
       "      <td>569.000000</td>\n",
       "      <td>569.000000</td>\n",
       "      <td>569.000000</td>\n",
       "      <td>569.000000</td>\n",
       "      <td>569.000000</td>\n",
       "      <td>569.000000</td>\n",
       "      <td>569.000000</td>\n",
       "      <td>569.000000</td>\n",
       "      <td>569.000000</td>\n",
       "      <td>569.000000</td>\n",
       "      <td>569.000000</td>\n",
       "      <td>569.000000</td>\n",
       "      <td>569.000000</td>\n",
       "      <td>569.000000</td>\n",
       "      <td>569.000000</td>\n",
       "      <td>569.000000</td>\n",
       "      <td>569.000000</td>\n",
       "      <td>569.000000</td>\n",
       "      <td>569.000000</td>\n",
       "      <td>569.000000</td>\n",
       "      <td>569.000000</td>\n",
       "      <td>569.000000</td>\n",
       "    </tr>\n",
       "    <tr>\n",
       "      <th>mean</th>\n",
       "      <td>14.127292</td>\n",
       "      <td>19.289649</td>\n",
       "      <td>91.969033</td>\n",
       "      <td>654.889104</td>\n",
       "      <td>0.096360</td>\n",
       "      <td>0.104341</td>\n",
       "      <td>0.088799</td>\n",
       "      <td>0.048919</td>\n",
       "      <td>0.181162</td>\n",
       "      <td>0.062798</td>\n",
       "      <td>0.405172</td>\n",
       "      <td>1.216853</td>\n",
       "      <td>2.866059</td>\n",
       "      <td>40.337079</td>\n",
       "      <td>0.007041</td>\n",
       "      <td>0.025478</td>\n",
       "      <td>0.031894</td>\n",
       "      <td>0.011796</td>\n",
       "      <td>0.020542</td>\n",
       "      <td>0.003795</td>\n",
       "      <td>16.269190</td>\n",
       "      <td>25.677223</td>\n",
       "      <td>107.261213</td>\n",
       "      <td>880.583128</td>\n",
       "      <td>0.132369</td>\n",
       "      <td>0.254265</td>\n",
       "      <td>0.272188</td>\n",
       "      <td>0.114606</td>\n",
       "      <td>0.290076</td>\n",
       "      <td>0.083946</td>\n",
       "    </tr>\n",
       "    <tr>\n",
       "      <th>std</th>\n",
       "      <td>3.524049</td>\n",
       "      <td>4.301036</td>\n",
       "      <td>24.298981</td>\n",
       "      <td>351.914129</td>\n",
       "      <td>0.014064</td>\n",
       "      <td>0.052813</td>\n",
       "      <td>0.079720</td>\n",
       "      <td>0.038803</td>\n",
       "      <td>0.027414</td>\n",
       "      <td>0.007060</td>\n",
       "      <td>0.277313</td>\n",
       "      <td>0.551648</td>\n",
       "      <td>2.021855</td>\n",
       "      <td>45.491006</td>\n",
       "      <td>0.003003</td>\n",
       "      <td>0.017908</td>\n",
       "      <td>0.030186</td>\n",
       "      <td>0.006170</td>\n",
       "      <td>0.008266</td>\n",
       "      <td>0.002646</td>\n",
       "      <td>4.833242</td>\n",
       "      <td>6.146258</td>\n",
       "      <td>33.602542</td>\n",
       "      <td>569.356993</td>\n",
       "      <td>0.022832</td>\n",
       "      <td>0.157336</td>\n",
       "      <td>0.208624</td>\n",
       "      <td>0.065732</td>\n",
       "      <td>0.061867</td>\n",
       "      <td>0.018061</td>\n",
       "    </tr>\n",
       "    <tr>\n",
       "      <th>min</th>\n",
       "      <td>6.981000</td>\n",
       "      <td>9.710000</td>\n",
       "      <td>43.790000</td>\n",
       "      <td>143.500000</td>\n",
       "      <td>0.052630</td>\n",
       "      <td>0.019380</td>\n",
       "      <td>0.000000</td>\n",
       "      <td>0.000000</td>\n",
       "      <td>0.106000</td>\n",
       "      <td>0.049960</td>\n",
       "      <td>0.111500</td>\n",
       "      <td>0.360200</td>\n",
       "      <td>0.757000</td>\n",
       "      <td>6.802000</td>\n",
       "      <td>0.001713</td>\n",
       "      <td>0.002252</td>\n",
       "      <td>0.000000</td>\n",
       "      <td>0.000000</td>\n",
       "      <td>0.007882</td>\n",
       "      <td>0.000895</td>\n",
       "      <td>7.930000</td>\n",
       "      <td>12.020000</td>\n",
       "      <td>50.410000</td>\n",
       "      <td>185.200000</td>\n",
       "      <td>0.071170</td>\n",
       "      <td>0.027290</td>\n",
       "      <td>0.000000</td>\n",
       "      <td>0.000000</td>\n",
       "      <td>0.156500</td>\n",
       "      <td>0.055040</td>\n",
       "    </tr>\n",
       "    <tr>\n",
       "      <th>25%</th>\n",
       "      <td>11.700000</td>\n",
       "      <td>16.170000</td>\n",
       "      <td>75.170000</td>\n",
       "      <td>420.300000</td>\n",
       "      <td>0.086370</td>\n",
       "      <td>0.064920</td>\n",
       "      <td>0.029560</td>\n",
       "      <td>0.020310</td>\n",
       "      <td>0.161900</td>\n",
       "      <td>0.057700</td>\n",
       "      <td>0.232400</td>\n",
       "      <td>0.833900</td>\n",
       "      <td>1.606000</td>\n",
       "      <td>17.850000</td>\n",
       "      <td>0.005169</td>\n",
       "      <td>0.013080</td>\n",
       "      <td>0.015090</td>\n",
       "      <td>0.007638</td>\n",
       "      <td>0.015160</td>\n",
       "      <td>0.002248</td>\n",
       "      <td>13.010000</td>\n",
       "      <td>21.080000</td>\n",
       "      <td>84.110000</td>\n",
       "      <td>515.300000</td>\n",
       "      <td>0.116600</td>\n",
       "      <td>0.147200</td>\n",
       "      <td>0.114500</td>\n",
       "      <td>0.064930</td>\n",
       "      <td>0.250400</td>\n",
       "      <td>0.071460</td>\n",
       "    </tr>\n",
       "    <tr>\n",
       "      <th>50%</th>\n",
       "      <td>13.370000</td>\n",
       "      <td>18.840000</td>\n",
       "      <td>86.240000</td>\n",
       "      <td>551.100000</td>\n",
       "      <td>0.095870</td>\n",
       "      <td>0.092630</td>\n",
       "      <td>0.061540</td>\n",
       "      <td>0.033500</td>\n",
       "      <td>0.179200</td>\n",
       "      <td>0.061540</td>\n",
       "      <td>0.324200</td>\n",
       "      <td>1.108000</td>\n",
       "      <td>2.287000</td>\n",
       "      <td>24.530000</td>\n",
       "      <td>0.006380</td>\n",
       "      <td>0.020450</td>\n",
       "      <td>0.025890</td>\n",
       "      <td>0.010930</td>\n",
       "      <td>0.018730</td>\n",
       "      <td>0.003187</td>\n",
       "      <td>14.970000</td>\n",
       "      <td>25.410000</td>\n",
       "      <td>97.660000</td>\n",
       "      <td>686.500000</td>\n",
       "      <td>0.131300</td>\n",
       "      <td>0.211900</td>\n",
       "      <td>0.226700</td>\n",
       "      <td>0.099930</td>\n",
       "      <td>0.282200</td>\n",
       "      <td>0.080040</td>\n",
       "    </tr>\n",
       "    <tr>\n",
       "      <th>75%</th>\n",
       "      <td>15.780000</td>\n",
       "      <td>21.800000</td>\n",
       "      <td>104.100000</td>\n",
       "      <td>782.700000</td>\n",
       "      <td>0.105300</td>\n",
       "      <td>0.130400</td>\n",
       "      <td>0.130700</td>\n",
       "      <td>0.074000</td>\n",
       "      <td>0.195700</td>\n",
       "      <td>0.066120</td>\n",
       "      <td>0.478900</td>\n",
       "      <td>1.474000</td>\n",
       "      <td>3.357000</td>\n",
       "      <td>45.190000</td>\n",
       "      <td>0.008146</td>\n",
       "      <td>0.032450</td>\n",
       "      <td>0.042050</td>\n",
       "      <td>0.014710</td>\n",
       "      <td>0.023480</td>\n",
       "      <td>0.004558</td>\n",
       "      <td>18.790000</td>\n",
       "      <td>29.720000</td>\n",
       "      <td>125.400000</td>\n",
       "      <td>1084.000000</td>\n",
       "      <td>0.146000</td>\n",
       "      <td>0.339100</td>\n",
       "      <td>0.382900</td>\n",
       "      <td>0.161400</td>\n",
       "      <td>0.317900</td>\n",
       "      <td>0.092080</td>\n",
       "    </tr>\n",
       "    <tr>\n",
       "      <th>max</th>\n",
       "      <td>28.110000</td>\n",
       "      <td>39.280000</td>\n",
       "      <td>188.500000</td>\n",
       "      <td>2501.000000</td>\n",
       "      <td>0.163400</td>\n",
       "      <td>0.345400</td>\n",
       "      <td>0.426800</td>\n",
       "      <td>0.201200</td>\n",
       "      <td>0.304000</td>\n",
       "      <td>0.097440</td>\n",
       "      <td>2.873000</td>\n",
       "      <td>4.885000</td>\n",
       "      <td>21.980000</td>\n",
       "      <td>542.200000</td>\n",
       "      <td>0.031130</td>\n",
       "      <td>0.135400</td>\n",
       "      <td>0.396000</td>\n",
       "      <td>0.052790</td>\n",
       "      <td>0.078950</td>\n",
       "      <td>0.029840</td>\n",
       "      <td>36.040000</td>\n",
       "      <td>49.540000</td>\n",
       "      <td>251.200000</td>\n",
       "      <td>4254.000000</td>\n",
       "      <td>0.222600</td>\n",
       "      <td>1.058000</td>\n",
       "      <td>1.252000</td>\n",
       "      <td>0.291000</td>\n",
       "      <td>0.663800</td>\n",
       "      <td>0.207500</td>\n",
       "    </tr>\n",
       "  </tbody>\n",
       "</table>\n",
       "</div>"
      ],
      "text/plain": [
       "       mean radius  mean texture  mean perimeter    mean area  \\\n",
       "count   569.000000    569.000000      569.000000   569.000000   \n",
       "mean     14.127292     19.289649       91.969033   654.889104   \n",
       "std       3.524049      4.301036       24.298981   351.914129   \n",
       "min       6.981000      9.710000       43.790000   143.500000   \n",
       "25%      11.700000     16.170000       75.170000   420.300000   \n",
       "50%      13.370000     18.840000       86.240000   551.100000   \n",
       "75%      15.780000     21.800000      104.100000   782.700000   \n",
       "max      28.110000     39.280000      188.500000  2501.000000   \n",
       "\n",
       "       mean smoothness  mean compactness  mean concavity  mean concave points  \\\n",
       "count       569.000000        569.000000      569.000000           569.000000   \n",
       "mean          0.096360          0.104341        0.088799             0.048919   \n",
       "std           0.014064          0.052813        0.079720             0.038803   \n",
       "min           0.052630          0.019380        0.000000             0.000000   \n",
       "25%           0.086370          0.064920        0.029560             0.020310   \n",
       "50%           0.095870          0.092630        0.061540             0.033500   \n",
       "75%           0.105300          0.130400        0.130700             0.074000   \n",
       "max           0.163400          0.345400        0.426800             0.201200   \n",
       "\n",
       "       mean symmetry  mean fractal dimension  radius error  texture error  \\\n",
       "count     569.000000              569.000000    569.000000     569.000000   \n",
       "mean        0.181162                0.062798      0.405172       1.216853   \n",
       "std         0.027414                0.007060      0.277313       0.551648   \n",
       "min         0.106000                0.049960      0.111500       0.360200   \n",
       "25%         0.161900                0.057700      0.232400       0.833900   \n",
       "50%         0.179200                0.061540      0.324200       1.108000   \n",
       "75%         0.195700                0.066120      0.478900       1.474000   \n",
       "max         0.304000                0.097440      2.873000       4.885000   \n",
       "\n",
       "       perimeter error  area error  smoothness error  compactness error  \\\n",
       "count       569.000000  569.000000        569.000000         569.000000   \n",
       "mean          2.866059   40.337079          0.007041           0.025478   \n",
       "std           2.021855   45.491006          0.003003           0.017908   \n",
       "min           0.757000    6.802000          0.001713           0.002252   \n",
       "25%           1.606000   17.850000          0.005169           0.013080   \n",
       "50%           2.287000   24.530000          0.006380           0.020450   \n",
       "75%           3.357000   45.190000          0.008146           0.032450   \n",
       "max          21.980000  542.200000          0.031130           0.135400   \n",
       "\n",
       "       concavity error  concave points error  symmetry error  \\\n",
       "count       569.000000            569.000000      569.000000   \n",
       "mean          0.031894              0.011796        0.020542   \n",
       "std           0.030186              0.006170        0.008266   \n",
       "min           0.000000              0.000000        0.007882   \n",
       "25%           0.015090              0.007638        0.015160   \n",
       "50%           0.025890              0.010930        0.018730   \n",
       "75%           0.042050              0.014710        0.023480   \n",
       "max           0.396000              0.052790        0.078950   \n",
       "\n",
       "       fractal dimension error  worst radius  worst texture  worst perimeter  \\\n",
       "count               569.000000    569.000000     569.000000       569.000000   \n",
       "mean                  0.003795     16.269190      25.677223       107.261213   \n",
       "std                   0.002646      4.833242       6.146258        33.602542   \n",
       "min                   0.000895      7.930000      12.020000        50.410000   \n",
       "25%                   0.002248     13.010000      21.080000        84.110000   \n",
       "50%                   0.003187     14.970000      25.410000        97.660000   \n",
       "75%                   0.004558     18.790000      29.720000       125.400000   \n",
       "max                   0.029840     36.040000      49.540000       251.200000   \n",
       "\n",
       "        worst area  worst smoothness  worst compactness  worst concavity  \\\n",
       "count   569.000000        569.000000         569.000000       569.000000   \n",
       "mean    880.583128          0.132369           0.254265         0.272188   \n",
       "std     569.356993          0.022832           0.157336         0.208624   \n",
       "min     185.200000          0.071170           0.027290         0.000000   \n",
       "25%     515.300000          0.116600           0.147200         0.114500   \n",
       "50%     686.500000          0.131300           0.211900         0.226700   \n",
       "75%    1084.000000          0.146000           0.339100         0.382900   \n",
       "max    4254.000000          0.222600           1.058000         1.252000   \n",
       "\n",
       "       worst concave points  worst symmetry  worst fractal dimension  \n",
       "count            569.000000      569.000000               569.000000  \n",
       "mean               0.114606        0.290076                 0.083946  \n",
       "std                0.065732        0.061867                 0.018061  \n",
       "min                0.000000        0.156500                 0.055040  \n",
       "25%                0.064930        0.250400                 0.071460  \n",
       "50%                0.099930        0.282200                 0.080040  \n",
       "75%                0.161400        0.317900                 0.092080  \n",
       "max                0.291000        0.663800                 0.207500  "
      ]
     },
     "execution_count": 120,
     "metadata": {},
     "output_type": "execute_result"
    }
   ],
   "source": [
    "# code\n",
    "X.describe()"
   ]
  },
  {
   "cell_type": "markdown",
   "metadata": {},
   "source": [
    "From above `df.describe()` code:\n",
    "- Features in the dataset are in different ranges (`mean radius within (6.98, 28.11) while radius error in (0.11, 2.87)`. There is a large difference between features."
   ]
  },
  {
   "cell_type": "code",
   "execution_count": 121,
   "metadata": {
    "ExecuteTime": {
     "end_time": "2023-09-28T16:13:33.505203Z",
     "start_time": "2023-09-28T16:13:33.482160Z"
    }
   },
   "outputs": [
    {
     "data": {
      "text/html": [
       "<div>\n",
       "<style scoped>\n",
       "    .dataframe tbody tr th:only-of-type {\n",
       "        vertical-align: middle;\n",
       "    }\n",
       "\n",
       "    .dataframe tbody tr th {\n",
       "        vertical-align: top;\n",
       "    }\n",
       "\n",
       "    .dataframe thead th {\n",
       "        text-align: right;\n",
       "    }\n",
       "</style>\n",
       "<table border=\"1\" class=\"dataframe\">\n",
       "  <thead>\n",
       "    <tr style=\"text-align: right;\">\n",
       "      <th></th>\n",
       "      <th>count</th>\n",
       "      <th>mean</th>\n",
       "      <th>std</th>\n",
       "      <th>min</th>\n",
       "      <th>25%</th>\n",
       "      <th>50%</th>\n",
       "      <th>75%</th>\n",
       "      <th>max</th>\n",
       "    </tr>\n",
       "  </thead>\n",
       "  <tbody>\n",
       "    <tr>\n",
       "      <th>mean concave points</th>\n",
       "      <td>569.0</td>\n",
       "      <td>0.048919</td>\n",
       "      <td>0.038803</td>\n",
       "      <td>0.00000</td>\n",
       "      <td>0.02031</td>\n",
       "      <td>0.03350</td>\n",
       "      <td>0.07400</td>\n",
       "      <td>0.20120</td>\n",
       "    </tr>\n",
       "    <tr>\n",
       "      <th>mean concavity</th>\n",
       "      <td>569.0</td>\n",
       "      <td>0.088799</td>\n",
       "      <td>0.079720</td>\n",
       "      <td>0.00000</td>\n",
       "      <td>0.02956</td>\n",
       "      <td>0.06154</td>\n",
       "      <td>0.13070</td>\n",
       "      <td>0.42680</td>\n",
       "    </tr>\n",
       "    <tr>\n",
       "      <th>mean fractal dimension</th>\n",
       "      <td>569.0</td>\n",
       "      <td>0.062798</td>\n",
       "      <td>0.007060</td>\n",
       "      <td>0.04996</td>\n",
       "      <td>0.05770</td>\n",
       "      <td>0.06154</td>\n",
       "      <td>0.06612</td>\n",
       "      <td>0.09744</td>\n",
       "    </tr>\n",
       "    <tr>\n",
       "      <th>mean compactness</th>\n",
       "      <td>569.0</td>\n",
       "      <td>0.104341</td>\n",
       "      <td>0.052813</td>\n",
       "      <td>0.01938</td>\n",
       "      <td>0.06492</td>\n",
       "      <td>0.09263</td>\n",
       "      <td>0.13040</td>\n",
       "      <td>0.34540</td>\n",
       "    </tr>\n",
       "    <tr>\n",
       "      <th>mean smoothness</th>\n",
       "      <td>569.0</td>\n",
       "      <td>0.096360</td>\n",
       "      <td>0.014064</td>\n",
       "      <td>0.05263</td>\n",
       "      <td>0.08637</td>\n",
       "      <td>0.09587</td>\n",
       "      <td>0.10530</td>\n",
       "      <td>0.16340</td>\n",
       "    </tr>\n",
       "    <tr>\n",
       "      <th>mean symmetry</th>\n",
       "      <td>569.0</td>\n",
       "      <td>0.181162</td>\n",
       "      <td>0.027414</td>\n",
       "      <td>0.10600</td>\n",
       "      <td>0.16190</td>\n",
       "      <td>0.17920</td>\n",
       "      <td>0.19570</td>\n",
       "      <td>0.30400</td>\n",
       "    </tr>\n",
       "    <tr>\n",
       "      <th>mean radius</th>\n",
       "      <td>569.0</td>\n",
       "      <td>14.127292</td>\n",
       "      <td>3.524049</td>\n",
       "      <td>6.98100</td>\n",
       "      <td>11.70000</td>\n",
       "      <td>13.37000</td>\n",
       "      <td>15.78000</td>\n",
       "      <td>28.11000</td>\n",
       "    </tr>\n",
       "    <tr>\n",
       "      <th>mean texture</th>\n",
       "      <td>569.0</td>\n",
       "      <td>19.289649</td>\n",
       "      <td>4.301036</td>\n",
       "      <td>9.71000</td>\n",
       "      <td>16.17000</td>\n",
       "      <td>18.84000</td>\n",
       "      <td>21.80000</td>\n",
       "      <td>39.28000</td>\n",
       "    </tr>\n",
       "    <tr>\n",
       "      <th>mean perimeter</th>\n",
       "      <td>569.0</td>\n",
       "      <td>91.969033</td>\n",
       "      <td>24.298981</td>\n",
       "      <td>43.79000</td>\n",
       "      <td>75.17000</td>\n",
       "      <td>86.24000</td>\n",
       "      <td>104.10000</td>\n",
       "      <td>188.50000</td>\n",
       "    </tr>\n",
       "    <tr>\n",
       "      <th>mean area</th>\n",
       "      <td>569.0</td>\n",
       "      <td>654.889104</td>\n",
       "      <td>351.914129</td>\n",
       "      <td>143.50000</td>\n",
       "      <td>420.30000</td>\n",
       "      <td>551.10000</td>\n",
       "      <td>782.70000</td>\n",
       "      <td>2501.00000</td>\n",
       "    </tr>\n",
       "  </tbody>\n",
       "</table>\n",
       "</div>"
      ],
      "text/plain": [
       "                        count        mean         std        min        25%  \\\n",
       "mean concave points     569.0    0.048919    0.038803    0.00000    0.02031   \n",
       "mean concavity          569.0    0.088799    0.079720    0.00000    0.02956   \n",
       "mean fractal dimension  569.0    0.062798    0.007060    0.04996    0.05770   \n",
       "mean compactness        569.0    0.104341    0.052813    0.01938    0.06492   \n",
       "mean smoothness         569.0    0.096360    0.014064    0.05263    0.08637   \n",
       "mean symmetry           569.0    0.181162    0.027414    0.10600    0.16190   \n",
       "mean radius             569.0   14.127292    3.524049    6.98100   11.70000   \n",
       "mean texture            569.0   19.289649    4.301036    9.71000   16.17000   \n",
       "mean perimeter          569.0   91.969033   24.298981   43.79000   75.17000   \n",
       "mean area               569.0  654.889104  351.914129  143.50000  420.30000   \n",
       "\n",
       "                              50%        75%         max  \n",
       "mean concave points       0.03350    0.07400     0.20120  \n",
       "mean concavity            0.06154    0.13070     0.42680  \n",
       "mean fractal dimension    0.06154    0.06612     0.09744  \n",
       "mean compactness          0.09263    0.13040     0.34540  \n",
       "mean smoothness           0.09587    0.10530     0.16340  \n",
       "mean symmetry             0.17920    0.19570     0.30400  \n",
       "mean radius              13.37000   15.78000    28.11000  \n",
       "mean texture             18.84000   21.80000    39.28000  \n",
       "mean perimeter           86.24000  104.10000   188.50000  \n",
       "mean area               551.10000  782.70000  2501.00000  "
      ]
     },
     "execution_count": 121,
     "metadata": {},
     "output_type": "execute_result"
    }
   ],
   "source": [
    "# Feature with highest mean in first 10 columns\n",
    "# list of first 10 column names\n",
    "col_10 = X.columns[:10]\n",
    "\n",
    "# summary stats of first 10 columns, sorted by 25% values\n",
    "X[col_10].describe().T.sort_values('25%', ascending=True)"
   ]
  },
  {
   "cell_type": "markdown",
   "metadata": {},
   "source": [
    "- mean concave points has minimun 25% percentile value in first 10 columns list"
   ]
  },
  {
   "cell_type": "code",
   "execution_count": 122,
   "metadata": {
    "ExecuteTime": {
     "end_time": "2023-09-28T16:13:33.525631Z",
     "start_time": "2023-09-28T16:13:33.506609Z"
    }
   },
   "outputs": [
    {
     "data": {
      "text/html": [
       "<div>\n",
       "<style scoped>\n",
       "    .dataframe tbody tr th:only-of-type {\n",
       "        vertical-align: middle;\n",
       "    }\n",
       "\n",
       "    .dataframe tbody tr th {\n",
       "        vertical-align: top;\n",
       "    }\n",
       "\n",
       "    .dataframe thead th {\n",
       "        text-align: right;\n",
       "    }\n",
       "</style>\n",
       "<table border=\"1\" class=\"dataframe\">\n",
       "  <thead>\n",
       "    <tr style=\"text-align: right;\">\n",
       "      <th></th>\n",
       "      <th>count</th>\n",
       "      <th>mean</th>\n",
       "      <th>std</th>\n",
       "      <th>min</th>\n",
       "      <th>25%</th>\n",
       "      <th>50%</th>\n",
       "      <th>75%</th>\n",
       "      <th>max</th>\n",
       "    </tr>\n",
       "  </thead>\n",
       "  <tbody>\n",
       "    <tr>\n",
       "      <th>mean concave points</th>\n",
       "      <td>569.0</td>\n",
       "      <td>0.048919</td>\n",
       "      <td>0.038803</td>\n",
       "      <td>0.00000</td>\n",
       "      <td>0.02031</td>\n",
       "      <td>0.03350</td>\n",
       "      <td>0.07400</td>\n",
       "      <td>0.20120</td>\n",
       "    </tr>\n",
       "    <tr>\n",
       "      <th>mean fractal dimension</th>\n",
       "      <td>569.0</td>\n",
       "      <td>0.062798</td>\n",
       "      <td>0.007060</td>\n",
       "      <td>0.04996</td>\n",
       "      <td>0.05770</td>\n",
       "      <td>0.06154</td>\n",
       "      <td>0.06612</td>\n",
       "      <td>0.09744</td>\n",
       "    </tr>\n",
       "    <tr>\n",
       "      <th>mean concavity</th>\n",
       "      <td>569.0</td>\n",
       "      <td>0.088799</td>\n",
       "      <td>0.079720</td>\n",
       "      <td>0.00000</td>\n",
       "      <td>0.02956</td>\n",
       "      <td>0.06154</td>\n",
       "      <td>0.13070</td>\n",
       "      <td>0.42680</td>\n",
       "    </tr>\n",
       "    <tr>\n",
       "      <th>mean smoothness</th>\n",
       "      <td>569.0</td>\n",
       "      <td>0.096360</td>\n",
       "      <td>0.014064</td>\n",
       "      <td>0.05263</td>\n",
       "      <td>0.08637</td>\n",
       "      <td>0.09587</td>\n",
       "      <td>0.10530</td>\n",
       "      <td>0.16340</td>\n",
       "    </tr>\n",
       "    <tr>\n",
       "      <th>mean compactness</th>\n",
       "      <td>569.0</td>\n",
       "      <td>0.104341</td>\n",
       "      <td>0.052813</td>\n",
       "      <td>0.01938</td>\n",
       "      <td>0.06492</td>\n",
       "      <td>0.09263</td>\n",
       "      <td>0.13040</td>\n",
       "      <td>0.34540</td>\n",
       "    </tr>\n",
       "    <tr>\n",
       "      <th>mean symmetry</th>\n",
       "      <td>569.0</td>\n",
       "      <td>0.181162</td>\n",
       "      <td>0.027414</td>\n",
       "      <td>0.10600</td>\n",
       "      <td>0.16190</td>\n",
       "      <td>0.17920</td>\n",
       "      <td>0.19570</td>\n",
       "      <td>0.30400</td>\n",
       "    </tr>\n",
       "    <tr>\n",
       "      <th>mean radius</th>\n",
       "      <td>569.0</td>\n",
       "      <td>14.127292</td>\n",
       "      <td>3.524049</td>\n",
       "      <td>6.98100</td>\n",
       "      <td>11.70000</td>\n",
       "      <td>13.37000</td>\n",
       "      <td>15.78000</td>\n",
       "      <td>28.11000</td>\n",
       "    </tr>\n",
       "    <tr>\n",
       "      <th>mean texture</th>\n",
       "      <td>569.0</td>\n",
       "      <td>19.289649</td>\n",
       "      <td>4.301036</td>\n",
       "      <td>9.71000</td>\n",
       "      <td>16.17000</td>\n",
       "      <td>18.84000</td>\n",
       "      <td>21.80000</td>\n",
       "      <td>39.28000</td>\n",
       "    </tr>\n",
       "    <tr>\n",
       "      <th>mean perimeter</th>\n",
       "      <td>569.0</td>\n",
       "      <td>91.969033</td>\n",
       "      <td>24.298981</td>\n",
       "      <td>43.79000</td>\n",
       "      <td>75.17000</td>\n",
       "      <td>86.24000</td>\n",
       "      <td>104.10000</td>\n",
       "      <td>188.50000</td>\n",
       "    </tr>\n",
       "    <tr>\n",
       "      <th>mean area</th>\n",
       "      <td>569.0</td>\n",
       "      <td>654.889104</td>\n",
       "      <td>351.914129</td>\n",
       "      <td>143.50000</td>\n",
       "      <td>420.30000</td>\n",
       "      <td>551.10000</td>\n",
       "      <td>782.70000</td>\n",
       "      <td>2501.00000</td>\n",
       "    </tr>\n",
       "  </tbody>\n",
       "</table>\n",
       "</div>"
      ],
      "text/plain": [
       "                        count        mean         std        min        25%  \\\n",
       "mean concave points     569.0    0.048919    0.038803    0.00000    0.02031   \n",
       "mean fractal dimension  569.0    0.062798    0.007060    0.04996    0.05770   \n",
       "mean concavity          569.0    0.088799    0.079720    0.00000    0.02956   \n",
       "mean smoothness         569.0    0.096360    0.014064    0.05263    0.08637   \n",
       "mean compactness        569.0    0.104341    0.052813    0.01938    0.06492   \n",
       "mean symmetry           569.0    0.181162    0.027414    0.10600    0.16190   \n",
       "mean radius             569.0   14.127292    3.524049    6.98100   11.70000   \n",
       "mean texture            569.0   19.289649    4.301036    9.71000   16.17000   \n",
       "mean perimeter          569.0   91.969033   24.298981   43.79000   75.17000   \n",
       "mean area               569.0  654.889104  351.914129  143.50000  420.30000   \n",
       "\n",
       "                              50%        75%         max  \n",
       "mean concave points       0.03350    0.07400     0.20120  \n",
       "mean fractal dimension    0.06154    0.06612     0.09744  \n",
       "mean concavity            0.06154    0.13070     0.42680  \n",
       "mean smoothness           0.09587    0.10530     0.16340  \n",
       "mean compactness          0.09263    0.13040     0.34540  \n",
       "mean symmetry             0.17920    0.19570     0.30400  \n",
       "mean radius              13.37000   15.78000    28.11000  \n",
       "mean texture             18.84000   21.80000    39.28000  \n",
       "mean perimeter           86.24000  104.10000   188.50000  \n",
       "mean area               551.10000  782.70000  2501.00000  "
      ]
     },
     "execution_count": 122,
     "metadata": {},
     "output_type": "execute_result"
    }
   ],
   "source": [
    "# summary stats of first 10 columns, sorted by mean values, descending order\n",
    "X[col_10].describe().T.sort_values('mean', ascending=True)"
   ]
  },
  {
   "cell_type": "markdown",
   "metadata": {},
   "source": [
    "- mean area has the highest mean value in first 10 columns list."
   ]
  },
  {
   "cell_type": "markdown",
   "metadata": {},
   "source": [
    "- There are large differences between the variables.\n",
    "- `mean area` has the largest mean value\n",
    "- `mean concave points` has the minimum 25% percentile value."
   ]
  },
  {
   "cell_type": "markdown",
   "metadata": {},
   "source": [
    "### Question 3 [5 points]\n",
    "These features are all engineered from images. I suspect there is some variables with large correlation. Are there largely correlated variables? Why do you think they are largely correlated? Comment on a few.\n",
    "- Calculate correlation.\n",
    "- Create a correlation heatmap.\n",
    "- Comment on largely correlated variables."
   ]
  },
  {
   "cell_type": "code",
   "execution_count": 123,
   "metadata": {
    "ExecuteTime": {
     "end_time": "2023-09-28T16:13:33.546409Z",
     "start_time": "2023-09-28T16:13:33.527084Z"
    }
   },
   "outputs": [
    {
     "data": {
      "text/html": [
       "<div>\n",
       "<style scoped>\n",
       "    .dataframe tbody tr th:only-of-type {\n",
       "        vertical-align: middle;\n",
       "    }\n",
       "\n",
       "    .dataframe tbody tr th {\n",
       "        vertical-align: top;\n",
       "    }\n",
       "\n",
       "    .dataframe thead th {\n",
       "        text-align: right;\n",
       "    }\n",
       "</style>\n",
       "<table border=\"1\" class=\"dataframe\">\n",
       "  <thead>\n",
       "    <tr style=\"text-align: right;\">\n",
       "      <th></th>\n",
       "      <th>mean radius</th>\n",
       "      <th>mean texture</th>\n",
       "      <th>mean perimeter</th>\n",
       "      <th>mean area</th>\n",
       "      <th>mean smoothness</th>\n",
       "      <th>mean compactness</th>\n",
       "      <th>mean concavity</th>\n",
       "      <th>mean concave points</th>\n",
       "      <th>mean symmetry</th>\n",
       "      <th>mean fractal dimension</th>\n",
       "      <th>radius error</th>\n",
       "      <th>texture error</th>\n",
       "      <th>perimeter error</th>\n",
       "      <th>area error</th>\n",
       "      <th>smoothness error</th>\n",
       "      <th>compactness error</th>\n",
       "      <th>concavity error</th>\n",
       "      <th>concave points error</th>\n",
       "      <th>symmetry error</th>\n",
       "      <th>fractal dimension error</th>\n",
       "      <th>worst radius</th>\n",
       "      <th>worst texture</th>\n",
       "      <th>worst perimeter</th>\n",
       "      <th>worst area</th>\n",
       "      <th>worst smoothness</th>\n",
       "      <th>worst compactness</th>\n",
       "      <th>worst concavity</th>\n",
       "      <th>worst concave points</th>\n",
       "      <th>worst symmetry</th>\n",
       "      <th>worst fractal dimension</th>\n",
       "    </tr>\n",
       "  </thead>\n",
       "  <tbody>\n",
       "    <tr>\n",
       "      <th>mean radius</th>\n",
       "      <td>1.000000</td>\n",
       "      <td>0.323782</td>\n",
       "      <td>0.997855</td>\n",
       "      <td>0.987357</td>\n",
       "      <td>0.170581</td>\n",
       "      <td>0.506124</td>\n",
       "      <td>0.676764</td>\n",
       "      <td>0.822529</td>\n",
       "      <td>0.147741</td>\n",
       "      <td>-0.311631</td>\n",
       "      <td>0.679090</td>\n",
       "      <td>-0.097317</td>\n",
       "      <td>0.674172</td>\n",
       "      <td>0.735864</td>\n",
       "      <td>-0.222600</td>\n",
       "      <td>0.206000</td>\n",
       "      <td>0.194204</td>\n",
       "      <td>0.376169</td>\n",
       "      <td>-0.104321</td>\n",
       "      <td>-0.042641</td>\n",
       "      <td>0.969539</td>\n",
       "      <td>0.297008</td>\n",
       "      <td>0.965137</td>\n",
       "      <td>0.941082</td>\n",
       "      <td>0.119616</td>\n",
       "      <td>0.413463</td>\n",
       "      <td>0.526911</td>\n",
       "      <td>0.744214</td>\n",
       "      <td>0.163953</td>\n",
       "      <td>0.007066</td>\n",
       "    </tr>\n",
       "    <tr>\n",
       "      <th>mean texture</th>\n",
       "      <td>0.323782</td>\n",
       "      <td>1.000000</td>\n",
       "      <td>0.329533</td>\n",
       "      <td>0.321086</td>\n",
       "      <td>-0.023389</td>\n",
       "      <td>0.236702</td>\n",
       "      <td>0.302418</td>\n",
       "      <td>0.293464</td>\n",
       "      <td>0.071401</td>\n",
       "      <td>-0.076437</td>\n",
       "      <td>0.275869</td>\n",
       "      <td>0.386358</td>\n",
       "      <td>0.281673</td>\n",
       "      <td>0.259845</td>\n",
       "      <td>0.006614</td>\n",
       "      <td>0.191975</td>\n",
       "      <td>0.143293</td>\n",
       "      <td>0.163851</td>\n",
       "      <td>0.009127</td>\n",
       "      <td>0.054458</td>\n",
       "      <td>0.352573</td>\n",
       "      <td>0.912045</td>\n",
       "      <td>0.358040</td>\n",
       "      <td>0.343546</td>\n",
       "      <td>0.077503</td>\n",
       "      <td>0.277830</td>\n",
       "      <td>0.301025</td>\n",
       "      <td>0.295316</td>\n",
       "      <td>0.105008</td>\n",
       "      <td>0.119205</td>\n",
       "    </tr>\n",
       "    <tr>\n",
       "      <th>mean perimeter</th>\n",
       "      <td>0.997855</td>\n",
       "      <td>0.329533</td>\n",
       "      <td>1.000000</td>\n",
       "      <td>0.986507</td>\n",
       "      <td>0.207278</td>\n",
       "      <td>0.556936</td>\n",
       "      <td>0.716136</td>\n",
       "      <td>0.850977</td>\n",
       "      <td>0.183027</td>\n",
       "      <td>-0.261477</td>\n",
       "      <td>0.691765</td>\n",
       "      <td>-0.086761</td>\n",
       "      <td>0.693135</td>\n",
       "      <td>0.744983</td>\n",
       "      <td>-0.202694</td>\n",
       "      <td>0.250744</td>\n",
       "      <td>0.228082</td>\n",
       "      <td>0.407217</td>\n",
       "      <td>-0.081629</td>\n",
       "      <td>-0.005523</td>\n",
       "      <td>0.969476</td>\n",
       "      <td>0.303038</td>\n",
       "      <td>0.970387</td>\n",
       "      <td>0.941550</td>\n",
       "      <td>0.150549</td>\n",
       "      <td>0.455774</td>\n",
       "      <td>0.563879</td>\n",
       "      <td>0.771241</td>\n",
       "      <td>0.189115</td>\n",
       "      <td>0.051019</td>\n",
       "    </tr>\n",
       "    <tr>\n",
       "      <th>mean area</th>\n",
       "      <td>0.987357</td>\n",
       "      <td>0.321086</td>\n",
       "      <td>0.986507</td>\n",
       "      <td>1.000000</td>\n",
       "      <td>0.177028</td>\n",
       "      <td>0.498502</td>\n",
       "      <td>0.685983</td>\n",
       "      <td>0.823269</td>\n",
       "      <td>0.151293</td>\n",
       "      <td>-0.283110</td>\n",
       "      <td>0.732562</td>\n",
       "      <td>-0.066280</td>\n",
       "      <td>0.726628</td>\n",
       "      <td>0.800086</td>\n",
       "      <td>-0.166777</td>\n",
       "      <td>0.212583</td>\n",
       "      <td>0.207660</td>\n",
       "      <td>0.372320</td>\n",
       "      <td>-0.072497</td>\n",
       "      <td>-0.019887</td>\n",
       "      <td>0.962746</td>\n",
       "      <td>0.287489</td>\n",
       "      <td>0.959120</td>\n",
       "      <td>0.959213</td>\n",
       "      <td>0.123523</td>\n",
       "      <td>0.390410</td>\n",
       "      <td>0.512606</td>\n",
       "      <td>0.722017</td>\n",
       "      <td>0.143570</td>\n",
       "      <td>0.003738</td>\n",
       "    </tr>\n",
       "    <tr>\n",
       "      <th>mean smoothness</th>\n",
       "      <td>0.170581</td>\n",
       "      <td>-0.023389</td>\n",
       "      <td>0.207278</td>\n",
       "      <td>0.177028</td>\n",
       "      <td>1.000000</td>\n",
       "      <td>0.659123</td>\n",
       "      <td>0.521984</td>\n",
       "      <td>0.553695</td>\n",
       "      <td>0.557775</td>\n",
       "      <td>0.584792</td>\n",
       "      <td>0.301467</td>\n",
       "      <td>0.068406</td>\n",
       "      <td>0.296092</td>\n",
       "      <td>0.246552</td>\n",
       "      <td>0.332375</td>\n",
       "      <td>0.318943</td>\n",
       "      <td>0.248396</td>\n",
       "      <td>0.380676</td>\n",
       "      <td>0.200774</td>\n",
       "      <td>0.283607</td>\n",
       "      <td>0.213120</td>\n",
       "      <td>0.036072</td>\n",
       "      <td>0.238853</td>\n",
       "      <td>0.206718</td>\n",
       "      <td>0.805324</td>\n",
       "      <td>0.472468</td>\n",
       "      <td>0.434926</td>\n",
       "      <td>0.503053</td>\n",
       "      <td>0.394309</td>\n",
       "      <td>0.499316</td>\n",
       "    </tr>\n",
       "    <tr>\n",
       "      <th>mean compactness</th>\n",
       "      <td>0.506124</td>\n",
       "      <td>0.236702</td>\n",
       "      <td>0.556936</td>\n",
       "      <td>0.498502</td>\n",
       "      <td>0.659123</td>\n",
       "      <td>1.000000</td>\n",
       "      <td>0.883121</td>\n",
       "      <td>0.831135</td>\n",
       "      <td>0.602641</td>\n",
       "      <td>0.565369</td>\n",
       "      <td>0.497473</td>\n",
       "      <td>0.046205</td>\n",
       "      <td>0.548905</td>\n",
       "      <td>0.455653</td>\n",
       "      <td>0.135299</td>\n",
       "      <td>0.738722</td>\n",
       "      <td>0.570517</td>\n",
       "      <td>0.642262</td>\n",
       "      <td>0.229977</td>\n",
       "      <td>0.507318</td>\n",
       "      <td>0.535315</td>\n",
       "      <td>0.248133</td>\n",
       "      <td>0.590210</td>\n",
       "      <td>0.509604</td>\n",
       "      <td>0.565541</td>\n",
       "      <td>0.865809</td>\n",
       "      <td>0.816275</td>\n",
       "      <td>0.815573</td>\n",
       "      <td>0.510223</td>\n",
       "      <td>0.687382</td>\n",
       "    </tr>\n",
       "    <tr>\n",
       "      <th>mean concavity</th>\n",
       "      <td>0.676764</td>\n",
       "      <td>0.302418</td>\n",
       "      <td>0.716136</td>\n",
       "      <td>0.685983</td>\n",
       "      <td>0.521984</td>\n",
       "      <td>0.883121</td>\n",
       "      <td>1.000000</td>\n",
       "      <td>0.921391</td>\n",
       "      <td>0.500667</td>\n",
       "      <td>0.336783</td>\n",
       "      <td>0.631925</td>\n",
       "      <td>0.076218</td>\n",
       "      <td>0.660391</td>\n",
       "      <td>0.617427</td>\n",
       "      <td>0.098564</td>\n",
       "      <td>0.670279</td>\n",
       "      <td>0.691270</td>\n",
       "      <td>0.683260</td>\n",
       "      <td>0.178009</td>\n",
       "      <td>0.449301</td>\n",
       "      <td>0.688236</td>\n",
       "      <td>0.299879</td>\n",
       "      <td>0.729565</td>\n",
       "      <td>0.675987</td>\n",
       "      <td>0.448822</td>\n",
       "      <td>0.754968</td>\n",
       "      <td>0.884103</td>\n",
       "      <td>0.861323</td>\n",
       "      <td>0.409464</td>\n",
       "      <td>0.514930</td>\n",
       "    </tr>\n",
       "    <tr>\n",
       "      <th>mean concave points</th>\n",
       "      <td>0.822529</td>\n",
       "      <td>0.293464</td>\n",
       "      <td>0.850977</td>\n",
       "      <td>0.823269</td>\n",
       "      <td>0.553695</td>\n",
       "      <td>0.831135</td>\n",
       "      <td>0.921391</td>\n",
       "      <td>1.000000</td>\n",
       "      <td>0.462497</td>\n",
       "      <td>0.166917</td>\n",
       "      <td>0.698050</td>\n",
       "      <td>0.021480</td>\n",
       "      <td>0.710650</td>\n",
       "      <td>0.690299</td>\n",
       "      <td>0.027653</td>\n",
       "      <td>0.490424</td>\n",
       "      <td>0.439167</td>\n",
       "      <td>0.615634</td>\n",
       "      <td>0.095351</td>\n",
       "      <td>0.257584</td>\n",
       "      <td>0.830318</td>\n",
       "      <td>0.292752</td>\n",
       "      <td>0.855923</td>\n",
       "      <td>0.809630</td>\n",
       "      <td>0.452753</td>\n",
       "      <td>0.667454</td>\n",
       "      <td>0.752399</td>\n",
       "      <td>0.910155</td>\n",
       "      <td>0.375744</td>\n",
       "      <td>0.368661</td>\n",
       "    </tr>\n",
       "    <tr>\n",
       "      <th>mean symmetry</th>\n",
       "      <td>0.147741</td>\n",
       "      <td>0.071401</td>\n",
       "      <td>0.183027</td>\n",
       "      <td>0.151293</td>\n",
       "      <td>0.557775</td>\n",
       "      <td>0.602641</td>\n",
       "      <td>0.500667</td>\n",
       "      <td>0.462497</td>\n",
       "      <td>1.000000</td>\n",
       "      <td>0.479921</td>\n",
       "      <td>0.303379</td>\n",
       "      <td>0.128053</td>\n",
       "      <td>0.313893</td>\n",
       "      <td>0.223970</td>\n",
       "      <td>0.187321</td>\n",
       "      <td>0.421659</td>\n",
       "      <td>0.342627</td>\n",
       "      <td>0.393298</td>\n",
       "      <td>0.449137</td>\n",
       "      <td>0.331786</td>\n",
       "      <td>0.185728</td>\n",
       "      <td>0.090651</td>\n",
       "      <td>0.219169</td>\n",
       "      <td>0.177193</td>\n",
       "      <td>0.426675</td>\n",
       "      <td>0.473200</td>\n",
       "      <td>0.433721</td>\n",
       "      <td>0.430297</td>\n",
       "      <td>0.699826</td>\n",
       "      <td>0.438413</td>\n",
       "    </tr>\n",
       "    <tr>\n",
       "      <th>mean fractal dimension</th>\n",
       "      <td>-0.311631</td>\n",
       "      <td>-0.076437</td>\n",
       "      <td>-0.261477</td>\n",
       "      <td>-0.283110</td>\n",
       "      <td>0.584792</td>\n",
       "      <td>0.565369</td>\n",
       "      <td>0.336783</td>\n",
       "      <td>0.166917</td>\n",
       "      <td>0.479921</td>\n",
       "      <td>1.000000</td>\n",
       "      <td>0.000111</td>\n",
       "      <td>0.164174</td>\n",
       "      <td>0.039830</td>\n",
       "      <td>-0.090170</td>\n",
       "      <td>0.401964</td>\n",
       "      <td>0.559837</td>\n",
       "      <td>0.446630</td>\n",
       "      <td>0.341198</td>\n",
       "      <td>0.345007</td>\n",
       "      <td>0.688132</td>\n",
       "      <td>-0.253691</td>\n",
       "      <td>-0.051269</td>\n",
       "      <td>-0.205151</td>\n",
       "      <td>-0.231854</td>\n",
       "      <td>0.504942</td>\n",
       "      <td>0.458798</td>\n",
       "      <td>0.346234</td>\n",
       "      <td>0.175325</td>\n",
       "      <td>0.334019</td>\n",
       "      <td>0.767297</td>\n",
       "    </tr>\n",
       "    <tr>\n",
       "      <th>radius error</th>\n",
       "      <td>0.679090</td>\n",
       "      <td>0.275869</td>\n",
       "      <td>0.691765</td>\n",
       "      <td>0.732562</td>\n",
       "      <td>0.301467</td>\n",
       "      <td>0.497473</td>\n",
       "      <td>0.631925</td>\n",
       "      <td>0.698050</td>\n",
       "      <td>0.303379</td>\n",
       "      <td>0.000111</td>\n",
       "      <td>1.000000</td>\n",
       "      <td>0.213247</td>\n",
       "      <td>0.972794</td>\n",
       "      <td>0.951830</td>\n",
       "      <td>0.164514</td>\n",
       "      <td>0.356065</td>\n",
       "      <td>0.332358</td>\n",
       "      <td>0.513346</td>\n",
       "      <td>0.240567</td>\n",
       "      <td>0.227754</td>\n",
       "      <td>0.715065</td>\n",
       "      <td>0.194799</td>\n",
       "      <td>0.719684</td>\n",
       "      <td>0.751548</td>\n",
       "      <td>0.141919</td>\n",
       "      <td>0.287103</td>\n",
       "      <td>0.380585</td>\n",
       "      <td>0.531062</td>\n",
       "      <td>0.094543</td>\n",
       "      <td>0.049559</td>\n",
       "    </tr>\n",
       "    <tr>\n",
       "      <th>texture error</th>\n",
       "      <td>-0.097317</td>\n",
       "      <td>0.386358</td>\n",
       "      <td>-0.086761</td>\n",
       "      <td>-0.066280</td>\n",
       "      <td>0.068406</td>\n",
       "      <td>0.046205</td>\n",
       "      <td>0.076218</td>\n",
       "      <td>0.021480</td>\n",
       "      <td>0.128053</td>\n",
       "      <td>0.164174</td>\n",
       "      <td>0.213247</td>\n",
       "      <td>1.000000</td>\n",
       "      <td>0.223171</td>\n",
       "      <td>0.111567</td>\n",
       "      <td>0.397243</td>\n",
       "      <td>0.231700</td>\n",
       "      <td>0.194998</td>\n",
       "      <td>0.230283</td>\n",
       "      <td>0.411621</td>\n",
       "      <td>0.279723</td>\n",
       "      <td>-0.111690</td>\n",
       "      <td>0.409003</td>\n",
       "      <td>-0.102242</td>\n",
       "      <td>-0.083195</td>\n",
       "      <td>-0.073658</td>\n",
       "      <td>-0.092439</td>\n",
       "      <td>-0.068956</td>\n",
       "      <td>-0.119638</td>\n",
       "      <td>-0.128215</td>\n",
       "      <td>-0.045655</td>\n",
       "    </tr>\n",
       "    <tr>\n",
       "      <th>perimeter error</th>\n",
       "      <td>0.674172</td>\n",
       "      <td>0.281673</td>\n",
       "      <td>0.693135</td>\n",
       "      <td>0.726628</td>\n",
       "      <td>0.296092</td>\n",
       "      <td>0.548905</td>\n",
       "      <td>0.660391</td>\n",
       "      <td>0.710650</td>\n",
       "      <td>0.313893</td>\n",
       "      <td>0.039830</td>\n",
       "      <td>0.972794</td>\n",
       "      <td>0.223171</td>\n",
       "      <td>1.000000</td>\n",
       "      <td>0.937655</td>\n",
       "      <td>0.151075</td>\n",
       "      <td>0.416322</td>\n",
       "      <td>0.362482</td>\n",
       "      <td>0.556264</td>\n",
       "      <td>0.266487</td>\n",
       "      <td>0.244143</td>\n",
       "      <td>0.697201</td>\n",
       "      <td>0.200371</td>\n",
       "      <td>0.721031</td>\n",
       "      <td>0.730713</td>\n",
       "      <td>0.130054</td>\n",
       "      <td>0.341919</td>\n",
       "      <td>0.418899</td>\n",
       "      <td>0.554897</td>\n",
       "      <td>0.109930</td>\n",
       "      <td>0.085433</td>\n",
       "    </tr>\n",
       "    <tr>\n",
       "      <th>area error</th>\n",
       "      <td>0.735864</td>\n",
       "      <td>0.259845</td>\n",
       "      <td>0.744983</td>\n",
       "      <td>0.800086</td>\n",
       "      <td>0.246552</td>\n",
       "      <td>0.455653</td>\n",
       "      <td>0.617427</td>\n",
       "      <td>0.690299</td>\n",
       "      <td>0.223970</td>\n",
       "      <td>-0.090170</td>\n",
       "      <td>0.951830</td>\n",
       "      <td>0.111567</td>\n",
       "      <td>0.937655</td>\n",
       "      <td>1.000000</td>\n",
       "      <td>0.075150</td>\n",
       "      <td>0.284840</td>\n",
       "      <td>0.270895</td>\n",
       "      <td>0.415730</td>\n",
       "      <td>0.134109</td>\n",
       "      <td>0.127071</td>\n",
       "      <td>0.757373</td>\n",
       "      <td>0.196497</td>\n",
       "      <td>0.761213</td>\n",
       "      <td>0.811408</td>\n",
       "      <td>0.125389</td>\n",
       "      <td>0.283257</td>\n",
       "      <td>0.385100</td>\n",
       "      <td>0.538166</td>\n",
       "      <td>0.074126</td>\n",
       "      <td>0.017539</td>\n",
       "    </tr>\n",
       "    <tr>\n",
       "      <th>smoothness error</th>\n",
       "      <td>-0.222600</td>\n",
       "      <td>0.006614</td>\n",
       "      <td>-0.202694</td>\n",
       "      <td>-0.166777</td>\n",
       "      <td>0.332375</td>\n",
       "      <td>0.135299</td>\n",
       "      <td>0.098564</td>\n",
       "      <td>0.027653</td>\n",
       "      <td>0.187321</td>\n",
       "      <td>0.401964</td>\n",
       "      <td>0.164514</td>\n",
       "      <td>0.397243</td>\n",
       "      <td>0.151075</td>\n",
       "      <td>0.075150</td>\n",
       "      <td>1.000000</td>\n",
       "      <td>0.336696</td>\n",
       "      <td>0.268685</td>\n",
       "      <td>0.328429</td>\n",
       "      <td>0.413506</td>\n",
       "      <td>0.427374</td>\n",
       "      <td>-0.230691</td>\n",
       "      <td>-0.074743</td>\n",
       "      <td>-0.217304</td>\n",
       "      <td>-0.182195</td>\n",
       "      <td>0.314457</td>\n",
       "      <td>-0.055558</td>\n",
       "      <td>-0.058298</td>\n",
       "      <td>-0.102007</td>\n",
       "      <td>-0.107342</td>\n",
       "      <td>0.101480</td>\n",
       "    </tr>\n",
       "    <tr>\n",
       "      <th>compactness error</th>\n",
       "      <td>0.206000</td>\n",
       "      <td>0.191975</td>\n",
       "      <td>0.250744</td>\n",
       "      <td>0.212583</td>\n",
       "      <td>0.318943</td>\n",
       "      <td>0.738722</td>\n",
       "      <td>0.670279</td>\n",
       "      <td>0.490424</td>\n",
       "      <td>0.421659</td>\n",
       "      <td>0.559837</td>\n",
       "      <td>0.356065</td>\n",
       "      <td>0.231700</td>\n",
       "      <td>0.416322</td>\n",
       "      <td>0.284840</td>\n",
       "      <td>0.336696</td>\n",
       "      <td>1.000000</td>\n",
       "      <td>0.801268</td>\n",
       "      <td>0.744083</td>\n",
       "      <td>0.394713</td>\n",
       "      <td>0.803269</td>\n",
       "      <td>0.204607</td>\n",
       "      <td>0.143003</td>\n",
       "      <td>0.260516</td>\n",
       "      <td>0.199371</td>\n",
       "      <td>0.227394</td>\n",
       "      <td>0.678780</td>\n",
       "      <td>0.639147</td>\n",
       "      <td>0.483208</td>\n",
       "      <td>0.277878</td>\n",
       "      <td>0.590973</td>\n",
       "    </tr>\n",
       "    <tr>\n",
       "      <th>concavity error</th>\n",
       "      <td>0.194204</td>\n",
       "      <td>0.143293</td>\n",
       "      <td>0.228082</td>\n",
       "      <td>0.207660</td>\n",
       "      <td>0.248396</td>\n",
       "      <td>0.570517</td>\n",
       "      <td>0.691270</td>\n",
       "      <td>0.439167</td>\n",
       "      <td>0.342627</td>\n",
       "      <td>0.446630</td>\n",
       "      <td>0.332358</td>\n",
       "      <td>0.194998</td>\n",
       "      <td>0.362482</td>\n",
       "      <td>0.270895</td>\n",
       "      <td>0.268685</td>\n",
       "      <td>0.801268</td>\n",
       "      <td>1.000000</td>\n",
       "      <td>0.771804</td>\n",
       "      <td>0.309429</td>\n",
       "      <td>0.727372</td>\n",
       "      <td>0.186904</td>\n",
       "      <td>0.100241</td>\n",
       "      <td>0.226680</td>\n",
       "      <td>0.188353</td>\n",
       "      <td>0.168481</td>\n",
       "      <td>0.484858</td>\n",
       "      <td>0.662564</td>\n",
       "      <td>0.440472</td>\n",
       "      <td>0.197788</td>\n",
       "      <td>0.439329</td>\n",
       "    </tr>\n",
       "    <tr>\n",
       "      <th>concave points error</th>\n",
       "      <td>0.376169</td>\n",
       "      <td>0.163851</td>\n",
       "      <td>0.407217</td>\n",
       "      <td>0.372320</td>\n",
       "      <td>0.380676</td>\n",
       "      <td>0.642262</td>\n",
       "      <td>0.683260</td>\n",
       "      <td>0.615634</td>\n",
       "      <td>0.393298</td>\n",
       "      <td>0.341198</td>\n",
       "      <td>0.513346</td>\n",
       "      <td>0.230283</td>\n",
       "      <td>0.556264</td>\n",
       "      <td>0.415730</td>\n",
       "      <td>0.328429</td>\n",
       "      <td>0.744083</td>\n",
       "      <td>0.771804</td>\n",
       "      <td>1.000000</td>\n",
       "      <td>0.312780</td>\n",
       "      <td>0.611044</td>\n",
       "      <td>0.358127</td>\n",
       "      <td>0.086741</td>\n",
       "      <td>0.394999</td>\n",
       "      <td>0.342271</td>\n",
       "      <td>0.215351</td>\n",
       "      <td>0.452888</td>\n",
       "      <td>0.549592</td>\n",
       "      <td>0.602450</td>\n",
       "      <td>0.143116</td>\n",
       "      <td>0.310655</td>\n",
       "    </tr>\n",
       "    <tr>\n",
       "      <th>symmetry error</th>\n",
       "      <td>-0.104321</td>\n",
       "      <td>0.009127</td>\n",
       "      <td>-0.081629</td>\n",
       "      <td>-0.072497</td>\n",
       "      <td>0.200774</td>\n",
       "      <td>0.229977</td>\n",
       "      <td>0.178009</td>\n",
       "      <td>0.095351</td>\n",
       "      <td>0.449137</td>\n",
       "      <td>0.345007</td>\n",
       "      <td>0.240567</td>\n",
       "      <td>0.411621</td>\n",
       "      <td>0.266487</td>\n",
       "      <td>0.134109</td>\n",
       "      <td>0.413506</td>\n",
       "      <td>0.394713</td>\n",
       "      <td>0.309429</td>\n",
       "      <td>0.312780</td>\n",
       "      <td>1.000000</td>\n",
       "      <td>0.369078</td>\n",
       "      <td>-0.128121</td>\n",
       "      <td>-0.077473</td>\n",
       "      <td>-0.103753</td>\n",
       "      <td>-0.110343</td>\n",
       "      <td>-0.012662</td>\n",
       "      <td>0.060255</td>\n",
       "      <td>0.037119</td>\n",
       "      <td>-0.030413</td>\n",
       "      <td>0.389402</td>\n",
       "      <td>0.078079</td>\n",
       "    </tr>\n",
       "    <tr>\n",
       "      <th>fractal dimension error</th>\n",
       "      <td>-0.042641</td>\n",
       "      <td>0.054458</td>\n",
       "      <td>-0.005523</td>\n",
       "      <td>-0.019887</td>\n",
       "      <td>0.283607</td>\n",
       "      <td>0.507318</td>\n",
       "      <td>0.449301</td>\n",
       "      <td>0.257584</td>\n",
       "      <td>0.331786</td>\n",
       "      <td>0.688132</td>\n",
       "      <td>0.227754</td>\n",
       "      <td>0.279723</td>\n",
       "      <td>0.244143</td>\n",
       "      <td>0.127071</td>\n",
       "      <td>0.427374</td>\n",
       "      <td>0.803269</td>\n",
       "      <td>0.727372</td>\n",
       "      <td>0.611044</td>\n",
       "      <td>0.369078</td>\n",
       "      <td>1.000000</td>\n",
       "      <td>-0.037488</td>\n",
       "      <td>-0.003195</td>\n",
       "      <td>-0.001000</td>\n",
       "      <td>-0.022736</td>\n",
       "      <td>0.170568</td>\n",
       "      <td>0.390159</td>\n",
       "      <td>0.379975</td>\n",
       "      <td>0.215204</td>\n",
       "      <td>0.111094</td>\n",
       "      <td>0.591328</td>\n",
       "    </tr>\n",
       "    <tr>\n",
       "      <th>worst radius</th>\n",
       "      <td>0.969539</td>\n",
       "      <td>0.352573</td>\n",
       "      <td>0.969476</td>\n",
       "      <td>0.962746</td>\n",
       "      <td>0.213120</td>\n",
       "      <td>0.535315</td>\n",
       "      <td>0.688236</td>\n",
       "      <td>0.830318</td>\n",
       "      <td>0.185728</td>\n",
       "      <td>-0.253691</td>\n",
       "      <td>0.715065</td>\n",
       "      <td>-0.111690</td>\n",
       "      <td>0.697201</td>\n",
       "      <td>0.757373</td>\n",
       "      <td>-0.230691</td>\n",
       "      <td>0.204607</td>\n",
       "      <td>0.186904</td>\n",
       "      <td>0.358127</td>\n",
       "      <td>-0.128121</td>\n",
       "      <td>-0.037488</td>\n",
       "      <td>1.000000</td>\n",
       "      <td>0.359921</td>\n",
       "      <td>0.993708</td>\n",
       "      <td>0.984015</td>\n",
       "      <td>0.216574</td>\n",
       "      <td>0.475820</td>\n",
       "      <td>0.573975</td>\n",
       "      <td>0.787424</td>\n",
       "      <td>0.243529</td>\n",
       "      <td>0.093492</td>\n",
       "    </tr>\n",
       "    <tr>\n",
       "      <th>worst texture</th>\n",
       "      <td>0.297008</td>\n",
       "      <td>0.912045</td>\n",
       "      <td>0.303038</td>\n",
       "      <td>0.287489</td>\n",
       "      <td>0.036072</td>\n",
       "      <td>0.248133</td>\n",
       "      <td>0.299879</td>\n",
       "      <td>0.292752</td>\n",
       "      <td>0.090651</td>\n",
       "      <td>-0.051269</td>\n",
       "      <td>0.194799</td>\n",
       "      <td>0.409003</td>\n",
       "      <td>0.200371</td>\n",
       "      <td>0.196497</td>\n",
       "      <td>-0.074743</td>\n",
       "      <td>0.143003</td>\n",
       "      <td>0.100241</td>\n",
       "      <td>0.086741</td>\n",
       "      <td>-0.077473</td>\n",
       "      <td>-0.003195</td>\n",
       "      <td>0.359921</td>\n",
       "      <td>1.000000</td>\n",
       "      <td>0.365098</td>\n",
       "      <td>0.345842</td>\n",
       "      <td>0.225429</td>\n",
       "      <td>0.360832</td>\n",
       "      <td>0.368366</td>\n",
       "      <td>0.359755</td>\n",
       "      <td>0.233027</td>\n",
       "      <td>0.219122</td>\n",
       "    </tr>\n",
       "    <tr>\n",
       "      <th>worst perimeter</th>\n",
       "      <td>0.965137</td>\n",
       "      <td>0.358040</td>\n",
       "      <td>0.970387</td>\n",
       "      <td>0.959120</td>\n",
       "      <td>0.238853</td>\n",
       "      <td>0.590210</td>\n",
       "      <td>0.729565</td>\n",
       "      <td>0.855923</td>\n",
       "      <td>0.219169</td>\n",
       "      <td>-0.205151</td>\n",
       "      <td>0.719684</td>\n",
       "      <td>-0.102242</td>\n",
       "      <td>0.721031</td>\n",
       "      <td>0.761213</td>\n",
       "      <td>-0.217304</td>\n",
       "      <td>0.260516</td>\n",
       "      <td>0.226680</td>\n",
       "      <td>0.394999</td>\n",
       "      <td>-0.103753</td>\n",
       "      <td>-0.001000</td>\n",
       "      <td>0.993708</td>\n",
       "      <td>0.365098</td>\n",
       "      <td>1.000000</td>\n",
       "      <td>0.977578</td>\n",
       "      <td>0.236775</td>\n",
       "      <td>0.529408</td>\n",
       "      <td>0.618344</td>\n",
       "      <td>0.816322</td>\n",
       "      <td>0.269493</td>\n",
       "      <td>0.138957</td>\n",
       "    </tr>\n",
       "    <tr>\n",
       "      <th>worst area</th>\n",
       "      <td>0.941082</td>\n",
       "      <td>0.343546</td>\n",
       "      <td>0.941550</td>\n",
       "      <td>0.959213</td>\n",
       "      <td>0.206718</td>\n",
       "      <td>0.509604</td>\n",
       "      <td>0.675987</td>\n",
       "      <td>0.809630</td>\n",
       "      <td>0.177193</td>\n",
       "      <td>-0.231854</td>\n",
       "      <td>0.751548</td>\n",
       "      <td>-0.083195</td>\n",
       "      <td>0.730713</td>\n",
       "      <td>0.811408</td>\n",
       "      <td>-0.182195</td>\n",
       "      <td>0.199371</td>\n",
       "      <td>0.188353</td>\n",
       "      <td>0.342271</td>\n",
       "      <td>-0.110343</td>\n",
       "      <td>-0.022736</td>\n",
       "      <td>0.984015</td>\n",
       "      <td>0.345842</td>\n",
       "      <td>0.977578</td>\n",
       "      <td>1.000000</td>\n",
       "      <td>0.209145</td>\n",
       "      <td>0.438296</td>\n",
       "      <td>0.543331</td>\n",
       "      <td>0.747419</td>\n",
       "      <td>0.209146</td>\n",
       "      <td>0.079647</td>\n",
       "    </tr>\n",
       "    <tr>\n",
       "      <th>worst smoothness</th>\n",
       "      <td>0.119616</td>\n",
       "      <td>0.077503</td>\n",
       "      <td>0.150549</td>\n",
       "      <td>0.123523</td>\n",
       "      <td>0.805324</td>\n",
       "      <td>0.565541</td>\n",
       "      <td>0.448822</td>\n",
       "      <td>0.452753</td>\n",
       "      <td>0.426675</td>\n",
       "      <td>0.504942</td>\n",
       "      <td>0.141919</td>\n",
       "      <td>-0.073658</td>\n",
       "      <td>0.130054</td>\n",
       "      <td>0.125389</td>\n",
       "      <td>0.314457</td>\n",
       "      <td>0.227394</td>\n",
       "      <td>0.168481</td>\n",
       "      <td>0.215351</td>\n",
       "      <td>-0.012662</td>\n",
       "      <td>0.170568</td>\n",
       "      <td>0.216574</td>\n",
       "      <td>0.225429</td>\n",
       "      <td>0.236775</td>\n",
       "      <td>0.209145</td>\n",
       "      <td>1.000000</td>\n",
       "      <td>0.568187</td>\n",
       "      <td>0.518523</td>\n",
       "      <td>0.547691</td>\n",
       "      <td>0.493838</td>\n",
       "      <td>0.617624</td>\n",
       "    </tr>\n",
       "    <tr>\n",
       "      <th>worst compactness</th>\n",
       "      <td>0.413463</td>\n",
       "      <td>0.277830</td>\n",
       "      <td>0.455774</td>\n",
       "      <td>0.390410</td>\n",
       "      <td>0.472468</td>\n",
       "      <td>0.865809</td>\n",
       "      <td>0.754968</td>\n",
       "      <td>0.667454</td>\n",
       "      <td>0.473200</td>\n",
       "      <td>0.458798</td>\n",
       "      <td>0.287103</td>\n",
       "      <td>-0.092439</td>\n",
       "      <td>0.341919</td>\n",
       "      <td>0.283257</td>\n",
       "      <td>-0.055558</td>\n",
       "      <td>0.678780</td>\n",
       "      <td>0.484858</td>\n",
       "      <td>0.452888</td>\n",
       "      <td>0.060255</td>\n",
       "      <td>0.390159</td>\n",
       "      <td>0.475820</td>\n",
       "      <td>0.360832</td>\n",
       "      <td>0.529408</td>\n",
       "      <td>0.438296</td>\n",
       "      <td>0.568187</td>\n",
       "      <td>1.000000</td>\n",
       "      <td>0.892261</td>\n",
       "      <td>0.801080</td>\n",
       "      <td>0.614441</td>\n",
       "      <td>0.810455</td>\n",
       "    </tr>\n",
       "    <tr>\n",
       "      <th>worst concavity</th>\n",
       "      <td>0.526911</td>\n",
       "      <td>0.301025</td>\n",
       "      <td>0.563879</td>\n",
       "      <td>0.512606</td>\n",
       "      <td>0.434926</td>\n",
       "      <td>0.816275</td>\n",
       "      <td>0.884103</td>\n",
       "      <td>0.752399</td>\n",
       "      <td>0.433721</td>\n",
       "      <td>0.346234</td>\n",
       "      <td>0.380585</td>\n",
       "      <td>-0.068956</td>\n",
       "      <td>0.418899</td>\n",
       "      <td>0.385100</td>\n",
       "      <td>-0.058298</td>\n",
       "      <td>0.639147</td>\n",
       "      <td>0.662564</td>\n",
       "      <td>0.549592</td>\n",
       "      <td>0.037119</td>\n",
       "      <td>0.379975</td>\n",
       "      <td>0.573975</td>\n",
       "      <td>0.368366</td>\n",
       "      <td>0.618344</td>\n",
       "      <td>0.543331</td>\n",
       "      <td>0.518523</td>\n",
       "      <td>0.892261</td>\n",
       "      <td>1.000000</td>\n",
       "      <td>0.855434</td>\n",
       "      <td>0.532520</td>\n",
       "      <td>0.686511</td>\n",
       "    </tr>\n",
       "    <tr>\n",
       "      <th>worst concave points</th>\n",
       "      <td>0.744214</td>\n",
       "      <td>0.295316</td>\n",
       "      <td>0.771241</td>\n",
       "      <td>0.722017</td>\n",
       "      <td>0.503053</td>\n",
       "      <td>0.815573</td>\n",
       "      <td>0.861323</td>\n",
       "      <td>0.910155</td>\n",
       "      <td>0.430297</td>\n",
       "      <td>0.175325</td>\n",
       "      <td>0.531062</td>\n",
       "      <td>-0.119638</td>\n",
       "      <td>0.554897</td>\n",
       "      <td>0.538166</td>\n",
       "      <td>-0.102007</td>\n",
       "      <td>0.483208</td>\n",
       "      <td>0.440472</td>\n",
       "      <td>0.602450</td>\n",
       "      <td>-0.030413</td>\n",
       "      <td>0.215204</td>\n",
       "      <td>0.787424</td>\n",
       "      <td>0.359755</td>\n",
       "      <td>0.816322</td>\n",
       "      <td>0.747419</td>\n",
       "      <td>0.547691</td>\n",
       "      <td>0.801080</td>\n",
       "      <td>0.855434</td>\n",
       "      <td>1.000000</td>\n",
       "      <td>0.502528</td>\n",
       "      <td>0.511114</td>\n",
       "    </tr>\n",
       "    <tr>\n",
       "      <th>worst symmetry</th>\n",
       "      <td>0.163953</td>\n",
       "      <td>0.105008</td>\n",
       "      <td>0.189115</td>\n",
       "      <td>0.143570</td>\n",
       "      <td>0.394309</td>\n",
       "      <td>0.510223</td>\n",
       "      <td>0.409464</td>\n",
       "      <td>0.375744</td>\n",
       "      <td>0.699826</td>\n",
       "      <td>0.334019</td>\n",
       "      <td>0.094543</td>\n",
       "      <td>-0.128215</td>\n",
       "      <td>0.109930</td>\n",
       "      <td>0.074126</td>\n",
       "      <td>-0.107342</td>\n",
       "      <td>0.277878</td>\n",
       "      <td>0.197788</td>\n",
       "      <td>0.143116</td>\n",
       "      <td>0.389402</td>\n",
       "      <td>0.111094</td>\n",
       "      <td>0.243529</td>\n",
       "      <td>0.233027</td>\n",
       "      <td>0.269493</td>\n",
       "      <td>0.209146</td>\n",
       "      <td>0.493838</td>\n",
       "      <td>0.614441</td>\n",
       "      <td>0.532520</td>\n",
       "      <td>0.502528</td>\n",
       "      <td>1.000000</td>\n",
       "      <td>0.537848</td>\n",
       "    </tr>\n",
       "    <tr>\n",
       "      <th>worst fractal dimension</th>\n",
       "      <td>0.007066</td>\n",
       "      <td>0.119205</td>\n",
       "      <td>0.051019</td>\n",
       "      <td>0.003738</td>\n",
       "      <td>0.499316</td>\n",
       "      <td>0.687382</td>\n",
       "      <td>0.514930</td>\n",
       "      <td>0.368661</td>\n",
       "      <td>0.438413</td>\n",
       "      <td>0.767297</td>\n",
       "      <td>0.049559</td>\n",
       "      <td>-0.045655</td>\n",
       "      <td>0.085433</td>\n",
       "      <td>0.017539</td>\n",
       "      <td>0.101480</td>\n",
       "      <td>0.590973</td>\n",
       "      <td>0.439329</td>\n",
       "      <td>0.310655</td>\n",
       "      <td>0.078079</td>\n",
       "      <td>0.591328</td>\n",
       "      <td>0.093492</td>\n",
       "      <td>0.219122</td>\n",
       "      <td>0.138957</td>\n",
       "      <td>0.079647</td>\n",
       "      <td>0.617624</td>\n",
       "      <td>0.810455</td>\n",
       "      <td>0.686511</td>\n",
       "      <td>0.511114</td>\n",
       "      <td>0.537848</td>\n",
       "      <td>1.000000</td>\n",
       "    </tr>\n",
       "  </tbody>\n",
       "</table>\n",
       "</div>"
      ],
      "text/plain": [
       "                         mean radius  mean texture  mean perimeter  mean area  \\\n",
       "mean radius                 1.000000      0.323782        0.997855   0.987357   \n",
       "mean texture                0.323782      1.000000        0.329533   0.321086   \n",
       "mean perimeter              0.997855      0.329533        1.000000   0.986507   \n",
       "mean area                   0.987357      0.321086        0.986507   1.000000   \n",
       "mean smoothness             0.170581     -0.023389        0.207278   0.177028   \n",
       "mean compactness            0.506124      0.236702        0.556936   0.498502   \n",
       "mean concavity              0.676764      0.302418        0.716136   0.685983   \n",
       "mean concave points         0.822529      0.293464        0.850977   0.823269   \n",
       "mean symmetry               0.147741      0.071401        0.183027   0.151293   \n",
       "mean fractal dimension     -0.311631     -0.076437       -0.261477  -0.283110   \n",
       "radius error                0.679090      0.275869        0.691765   0.732562   \n",
       "texture error              -0.097317      0.386358       -0.086761  -0.066280   \n",
       "perimeter error             0.674172      0.281673        0.693135   0.726628   \n",
       "area error                  0.735864      0.259845        0.744983   0.800086   \n",
       "smoothness error           -0.222600      0.006614       -0.202694  -0.166777   \n",
       "compactness error           0.206000      0.191975        0.250744   0.212583   \n",
       "concavity error             0.194204      0.143293        0.228082   0.207660   \n",
       "concave points error        0.376169      0.163851        0.407217   0.372320   \n",
       "symmetry error             -0.104321      0.009127       -0.081629  -0.072497   \n",
       "fractal dimension error    -0.042641      0.054458       -0.005523  -0.019887   \n",
       "worst radius                0.969539      0.352573        0.969476   0.962746   \n",
       "worst texture               0.297008      0.912045        0.303038   0.287489   \n",
       "worst perimeter             0.965137      0.358040        0.970387   0.959120   \n",
       "worst area                  0.941082      0.343546        0.941550   0.959213   \n",
       "worst smoothness            0.119616      0.077503        0.150549   0.123523   \n",
       "worst compactness           0.413463      0.277830        0.455774   0.390410   \n",
       "worst concavity             0.526911      0.301025        0.563879   0.512606   \n",
       "worst concave points        0.744214      0.295316        0.771241   0.722017   \n",
       "worst symmetry              0.163953      0.105008        0.189115   0.143570   \n",
       "worst fractal dimension     0.007066      0.119205        0.051019   0.003738   \n",
       "\n",
       "                         mean smoothness  mean compactness  mean concavity  \\\n",
       "mean radius                     0.170581          0.506124        0.676764   \n",
       "mean texture                   -0.023389          0.236702        0.302418   \n",
       "mean perimeter                  0.207278          0.556936        0.716136   \n",
       "mean area                       0.177028          0.498502        0.685983   \n",
       "mean smoothness                 1.000000          0.659123        0.521984   \n",
       "mean compactness                0.659123          1.000000        0.883121   \n",
       "mean concavity                  0.521984          0.883121        1.000000   \n",
       "mean concave points             0.553695          0.831135        0.921391   \n",
       "mean symmetry                   0.557775          0.602641        0.500667   \n",
       "mean fractal dimension          0.584792          0.565369        0.336783   \n",
       "radius error                    0.301467          0.497473        0.631925   \n",
       "texture error                   0.068406          0.046205        0.076218   \n",
       "perimeter error                 0.296092          0.548905        0.660391   \n",
       "area error                      0.246552          0.455653        0.617427   \n",
       "smoothness error                0.332375          0.135299        0.098564   \n",
       "compactness error               0.318943          0.738722        0.670279   \n",
       "concavity error                 0.248396          0.570517        0.691270   \n",
       "concave points error            0.380676          0.642262        0.683260   \n",
       "symmetry error                  0.200774          0.229977        0.178009   \n",
       "fractal dimension error         0.283607          0.507318        0.449301   \n",
       "worst radius                    0.213120          0.535315        0.688236   \n",
       "worst texture                   0.036072          0.248133        0.299879   \n",
       "worst perimeter                 0.238853          0.590210        0.729565   \n",
       "worst area                      0.206718          0.509604        0.675987   \n",
       "worst smoothness                0.805324          0.565541        0.448822   \n",
       "worst compactness               0.472468          0.865809        0.754968   \n",
       "worst concavity                 0.434926          0.816275        0.884103   \n",
       "worst concave points            0.503053          0.815573        0.861323   \n",
       "worst symmetry                  0.394309          0.510223        0.409464   \n",
       "worst fractal dimension         0.499316          0.687382        0.514930   \n",
       "\n",
       "                         mean concave points  mean symmetry  \\\n",
       "mean radius                         0.822529       0.147741   \n",
       "mean texture                        0.293464       0.071401   \n",
       "mean perimeter                      0.850977       0.183027   \n",
       "mean area                           0.823269       0.151293   \n",
       "mean smoothness                     0.553695       0.557775   \n",
       "mean compactness                    0.831135       0.602641   \n",
       "mean concavity                      0.921391       0.500667   \n",
       "mean concave points                 1.000000       0.462497   \n",
       "mean symmetry                       0.462497       1.000000   \n",
       "mean fractal dimension              0.166917       0.479921   \n",
       "radius error                        0.698050       0.303379   \n",
       "texture error                       0.021480       0.128053   \n",
       "perimeter error                     0.710650       0.313893   \n",
       "area error                          0.690299       0.223970   \n",
       "smoothness error                    0.027653       0.187321   \n",
       "compactness error                   0.490424       0.421659   \n",
       "concavity error                     0.439167       0.342627   \n",
       "concave points error                0.615634       0.393298   \n",
       "symmetry error                      0.095351       0.449137   \n",
       "fractal dimension error             0.257584       0.331786   \n",
       "worst radius                        0.830318       0.185728   \n",
       "worst texture                       0.292752       0.090651   \n",
       "worst perimeter                     0.855923       0.219169   \n",
       "worst area                          0.809630       0.177193   \n",
       "worst smoothness                    0.452753       0.426675   \n",
       "worst compactness                   0.667454       0.473200   \n",
       "worst concavity                     0.752399       0.433721   \n",
       "worst concave points                0.910155       0.430297   \n",
       "worst symmetry                      0.375744       0.699826   \n",
       "worst fractal dimension             0.368661       0.438413   \n",
       "\n",
       "                         mean fractal dimension  radius error  texture error  \\\n",
       "mean radius                           -0.311631      0.679090      -0.097317   \n",
       "mean texture                          -0.076437      0.275869       0.386358   \n",
       "mean perimeter                        -0.261477      0.691765      -0.086761   \n",
       "mean area                             -0.283110      0.732562      -0.066280   \n",
       "mean smoothness                        0.584792      0.301467       0.068406   \n",
       "mean compactness                       0.565369      0.497473       0.046205   \n",
       "mean concavity                         0.336783      0.631925       0.076218   \n",
       "mean concave points                    0.166917      0.698050       0.021480   \n",
       "mean symmetry                          0.479921      0.303379       0.128053   \n",
       "mean fractal dimension                 1.000000      0.000111       0.164174   \n",
       "radius error                           0.000111      1.000000       0.213247   \n",
       "texture error                          0.164174      0.213247       1.000000   \n",
       "perimeter error                        0.039830      0.972794       0.223171   \n",
       "area error                            -0.090170      0.951830       0.111567   \n",
       "smoothness error                       0.401964      0.164514       0.397243   \n",
       "compactness error                      0.559837      0.356065       0.231700   \n",
       "concavity error                        0.446630      0.332358       0.194998   \n",
       "concave points error                   0.341198      0.513346       0.230283   \n",
       "symmetry error                         0.345007      0.240567       0.411621   \n",
       "fractal dimension error                0.688132      0.227754       0.279723   \n",
       "worst radius                          -0.253691      0.715065      -0.111690   \n",
       "worst texture                         -0.051269      0.194799       0.409003   \n",
       "worst perimeter                       -0.205151      0.719684      -0.102242   \n",
       "worst area                            -0.231854      0.751548      -0.083195   \n",
       "worst smoothness                       0.504942      0.141919      -0.073658   \n",
       "worst compactness                      0.458798      0.287103      -0.092439   \n",
       "worst concavity                        0.346234      0.380585      -0.068956   \n",
       "worst concave points                   0.175325      0.531062      -0.119638   \n",
       "worst symmetry                         0.334019      0.094543      -0.128215   \n",
       "worst fractal dimension                0.767297      0.049559      -0.045655   \n",
       "\n",
       "                         perimeter error  area error  smoothness error  \\\n",
       "mean radius                     0.674172    0.735864         -0.222600   \n",
       "mean texture                    0.281673    0.259845          0.006614   \n",
       "mean perimeter                  0.693135    0.744983         -0.202694   \n",
       "mean area                       0.726628    0.800086         -0.166777   \n",
       "mean smoothness                 0.296092    0.246552          0.332375   \n",
       "mean compactness                0.548905    0.455653          0.135299   \n",
       "mean concavity                  0.660391    0.617427          0.098564   \n",
       "mean concave points             0.710650    0.690299          0.027653   \n",
       "mean symmetry                   0.313893    0.223970          0.187321   \n",
       "mean fractal dimension          0.039830   -0.090170          0.401964   \n",
       "radius error                    0.972794    0.951830          0.164514   \n",
       "texture error                   0.223171    0.111567          0.397243   \n",
       "perimeter error                 1.000000    0.937655          0.151075   \n",
       "area error                      0.937655    1.000000          0.075150   \n",
       "smoothness error                0.151075    0.075150          1.000000   \n",
       "compactness error               0.416322    0.284840          0.336696   \n",
       "concavity error                 0.362482    0.270895          0.268685   \n",
       "concave points error            0.556264    0.415730          0.328429   \n",
       "symmetry error                  0.266487    0.134109          0.413506   \n",
       "fractal dimension error         0.244143    0.127071          0.427374   \n",
       "worst radius                    0.697201    0.757373         -0.230691   \n",
       "worst texture                   0.200371    0.196497         -0.074743   \n",
       "worst perimeter                 0.721031    0.761213         -0.217304   \n",
       "worst area                      0.730713    0.811408         -0.182195   \n",
       "worst smoothness                0.130054    0.125389          0.314457   \n",
       "worst compactness               0.341919    0.283257         -0.055558   \n",
       "worst concavity                 0.418899    0.385100         -0.058298   \n",
       "worst concave points            0.554897    0.538166         -0.102007   \n",
       "worst symmetry                  0.109930    0.074126         -0.107342   \n",
       "worst fractal dimension         0.085433    0.017539          0.101480   \n",
       "\n",
       "                         compactness error  concavity error  \\\n",
       "mean radius                       0.206000         0.194204   \n",
       "mean texture                      0.191975         0.143293   \n",
       "mean perimeter                    0.250744         0.228082   \n",
       "mean area                         0.212583         0.207660   \n",
       "mean smoothness                   0.318943         0.248396   \n",
       "mean compactness                  0.738722         0.570517   \n",
       "mean concavity                    0.670279         0.691270   \n",
       "mean concave points               0.490424         0.439167   \n",
       "mean symmetry                     0.421659         0.342627   \n",
       "mean fractal dimension            0.559837         0.446630   \n",
       "radius error                      0.356065         0.332358   \n",
       "texture error                     0.231700         0.194998   \n",
       "perimeter error                   0.416322         0.362482   \n",
       "area error                        0.284840         0.270895   \n",
       "smoothness error                  0.336696         0.268685   \n",
       "compactness error                 1.000000         0.801268   \n",
       "concavity error                   0.801268         1.000000   \n",
       "concave points error              0.744083         0.771804   \n",
       "symmetry error                    0.394713         0.309429   \n",
       "fractal dimension error           0.803269         0.727372   \n",
       "worst radius                      0.204607         0.186904   \n",
       "worst texture                     0.143003         0.100241   \n",
       "worst perimeter                   0.260516         0.226680   \n",
       "worst area                        0.199371         0.188353   \n",
       "worst smoothness                  0.227394         0.168481   \n",
       "worst compactness                 0.678780         0.484858   \n",
       "worst concavity                   0.639147         0.662564   \n",
       "worst concave points              0.483208         0.440472   \n",
       "worst symmetry                    0.277878         0.197788   \n",
       "worst fractal dimension           0.590973         0.439329   \n",
       "\n",
       "                         concave points error  symmetry error  \\\n",
       "mean radius                          0.376169       -0.104321   \n",
       "mean texture                         0.163851        0.009127   \n",
       "mean perimeter                       0.407217       -0.081629   \n",
       "mean area                            0.372320       -0.072497   \n",
       "mean smoothness                      0.380676        0.200774   \n",
       "mean compactness                     0.642262        0.229977   \n",
       "mean concavity                       0.683260        0.178009   \n",
       "mean concave points                  0.615634        0.095351   \n",
       "mean symmetry                        0.393298        0.449137   \n",
       "mean fractal dimension               0.341198        0.345007   \n",
       "radius error                         0.513346        0.240567   \n",
       "texture error                        0.230283        0.411621   \n",
       "perimeter error                      0.556264        0.266487   \n",
       "area error                           0.415730        0.134109   \n",
       "smoothness error                     0.328429        0.413506   \n",
       "compactness error                    0.744083        0.394713   \n",
       "concavity error                      0.771804        0.309429   \n",
       "concave points error                 1.000000        0.312780   \n",
       "symmetry error                       0.312780        1.000000   \n",
       "fractal dimension error              0.611044        0.369078   \n",
       "worst radius                         0.358127       -0.128121   \n",
       "worst texture                        0.086741       -0.077473   \n",
       "worst perimeter                      0.394999       -0.103753   \n",
       "worst area                           0.342271       -0.110343   \n",
       "worst smoothness                     0.215351       -0.012662   \n",
       "worst compactness                    0.452888        0.060255   \n",
       "worst concavity                      0.549592        0.037119   \n",
       "worst concave points                 0.602450       -0.030413   \n",
       "worst symmetry                       0.143116        0.389402   \n",
       "worst fractal dimension              0.310655        0.078079   \n",
       "\n",
       "                         fractal dimension error  worst radius  worst texture  \\\n",
       "mean radius                            -0.042641      0.969539       0.297008   \n",
       "mean texture                            0.054458      0.352573       0.912045   \n",
       "mean perimeter                         -0.005523      0.969476       0.303038   \n",
       "mean area                              -0.019887      0.962746       0.287489   \n",
       "mean smoothness                         0.283607      0.213120       0.036072   \n",
       "mean compactness                        0.507318      0.535315       0.248133   \n",
       "mean concavity                          0.449301      0.688236       0.299879   \n",
       "mean concave points                     0.257584      0.830318       0.292752   \n",
       "mean symmetry                           0.331786      0.185728       0.090651   \n",
       "mean fractal dimension                  0.688132     -0.253691      -0.051269   \n",
       "radius error                            0.227754      0.715065       0.194799   \n",
       "texture error                           0.279723     -0.111690       0.409003   \n",
       "perimeter error                         0.244143      0.697201       0.200371   \n",
       "area error                              0.127071      0.757373       0.196497   \n",
       "smoothness error                        0.427374     -0.230691      -0.074743   \n",
       "compactness error                       0.803269      0.204607       0.143003   \n",
       "concavity error                         0.727372      0.186904       0.100241   \n",
       "concave points error                    0.611044      0.358127       0.086741   \n",
       "symmetry error                          0.369078     -0.128121      -0.077473   \n",
       "fractal dimension error                 1.000000     -0.037488      -0.003195   \n",
       "worst radius                           -0.037488      1.000000       0.359921   \n",
       "worst texture                          -0.003195      0.359921       1.000000   \n",
       "worst perimeter                        -0.001000      0.993708       0.365098   \n",
       "worst area                             -0.022736      0.984015       0.345842   \n",
       "worst smoothness                        0.170568      0.216574       0.225429   \n",
       "worst compactness                       0.390159      0.475820       0.360832   \n",
       "worst concavity                         0.379975      0.573975       0.368366   \n",
       "worst concave points                    0.215204      0.787424       0.359755   \n",
       "worst symmetry                          0.111094      0.243529       0.233027   \n",
       "worst fractal dimension                 0.591328      0.093492       0.219122   \n",
       "\n",
       "                         worst perimeter  worst area  worst smoothness  \\\n",
       "mean radius                     0.965137    0.941082          0.119616   \n",
       "mean texture                    0.358040    0.343546          0.077503   \n",
       "mean perimeter                  0.970387    0.941550          0.150549   \n",
       "mean area                       0.959120    0.959213          0.123523   \n",
       "mean smoothness                 0.238853    0.206718          0.805324   \n",
       "mean compactness                0.590210    0.509604          0.565541   \n",
       "mean concavity                  0.729565    0.675987          0.448822   \n",
       "mean concave points             0.855923    0.809630          0.452753   \n",
       "mean symmetry                   0.219169    0.177193          0.426675   \n",
       "mean fractal dimension         -0.205151   -0.231854          0.504942   \n",
       "radius error                    0.719684    0.751548          0.141919   \n",
       "texture error                  -0.102242   -0.083195         -0.073658   \n",
       "perimeter error                 0.721031    0.730713          0.130054   \n",
       "area error                      0.761213    0.811408          0.125389   \n",
       "smoothness error               -0.217304   -0.182195          0.314457   \n",
       "compactness error               0.260516    0.199371          0.227394   \n",
       "concavity error                 0.226680    0.188353          0.168481   \n",
       "concave points error            0.394999    0.342271          0.215351   \n",
       "symmetry error                 -0.103753   -0.110343         -0.012662   \n",
       "fractal dimension error        -0.001000   -0.022736          0.170568   \n",
       "worst radius                    0.993708    0.984015          0.216574   \n",
       "worst texture                   0.365098    0.345842          0.225429   \n",
       "worst perimeter                 1.000000    0.977578          0.236775   \n",
       "worst area                      0.977578    1.000000          0.209145   \n",
       "worst smoothness                0.236775    0.209145          1.000000   \n",
       "worst compactness               0.529408    0.438296          0.568187   \n",
       "worst concavity                 0.618344    0.543331          0.518523   \n",
       "worst concave points            0.816322    0.747419          0.547691   \n",
       "worst symmetry                  0.269493    0.209146          0.493838   \n",
       "worst fractal dimension         0.138957    0.079647          0.617624   \n",
       "\n",
       "                         worst compactness  worst concavity  \\\n",
       "mean radius                       0.413463         0.526911   \n",
       "mean texture                      0.277830         0.301025   \n",
       "mean perimeter                    0.455774         0.563879   \n",
       "mean area                         0.390410         0.512606   \n",
       "mean smoothness                   0.472468         0.434926   \n",
       "mean compactness                  0.865809         0.816275   \n",
       "mean concavity                    0.754968         0.884103   \n",
       "mean concave points               0.667454         0.752399   \n",
       "mean symmetry                     0.473200         0.433721   \n",
       "mean fractal dimension            0.458798         0.346234   \n",
       "radius error                      0.287103         0.380585   \n",
       "texture error                    -0.092439        -0.068956   \n",
       "perimeter error                   0.341919         0.418899   \n",
       "area error                        0.283257         0.385100   \n",
       "smoothness error                 -0.055558        -0.058298   \n",
       "compactness error                 0.678780         0.639147   \n",
       "concavity error                   0.484858         0.662564   \n",
       "concave points error              0.452888         0.549592   \n",
       "symmetry error                    0.060255         0.037119   \n",
       "fractal dimension error           0.390159         0.379975   \n",
       "worst radius                      0.475820         0.573975   \n",
       "worst texture                     0.360832         0.368366   \n",
       "worst perimeter                   0.529408         0.618344   \n",
       "worst area                        0.438296         0.543331   \n",
       "worst smoothness                  0.568187         0.518523   \n",
       "worst compactness                 1.000000         0.892261   \n",
       "worst concavity                   0.892261         1.000000   \n",
       "worst concave points              0.801080         0.855434   \n",
       "worst symmetry                    0.614441         0.532520   \n",
       "worst fractal dimension           0.810455         0.686511   \n",
       "\n",
       "                         worst concave points  worst symmetry  \\\n",
       "mean radius                          0.744214        0.163953   \n",
       "mean texture                         0.295316        0.105008   \n",
       "mean perimeter                       0.771241        0.189115   \n",
       "mean area                            0.722017        0.143570   \n",
       "mean smoothness                      0.503053        0.394309   \n",
       "mean compactness                     0.815573        0.510223   \n",
       "mean concavity                       0.861323        0.409464   \n",
       "mean concave points                  0.910155        0.375744   \n",
       "mean symmetry                        0.430297        0.699826   \n",
       "mean fractal dimension               0.175325        0.334019   \n",
       "radius error                         0.531062        0.094543   \n",
       "texture error                       -0.119638       -0.128215   \n",
       "perimeter error                      0.554897        0.109930   \n",
       "area error                           0.538166        0.074126   \n",
       "smoothness error                    -0.102007       -0.107342   \n",
       "compactness error                    0.483208        0.277878   \n",
       "concavity error                      0.440472        0.197788   \n",
       "concave points error                 0.602450        0.143116   \n",
       "symmetry error                      -0.030413        0.389402   \n",
       "fractal dimension error              0.215204        0.111094   \n",
       "worst radius                         0.787424        0.243529   \n",
       "worst texture                        0.359755        0.233027   \n",
       "worst perimeter                      0.816322        0.269493   \n",
       "worst area                           0.747419        0.209146   \n",
       "worst smoothness                     0.547691        0.493838   \n",
       "worst compactness                    0.801080        0.614441   \n",
       "worst concavity                      0.855434        0.532520   \n",
       "worst concave points                 1.000000        0.502528   \n",
       "worst symmetry                       0.502528        1.000000   \n",
       "worst fractal dimension              0.511114        0.537848   \n",
       "\n",
       "                         worst fractal dimension  \n",
       "mean radius                             0.007066  \n",
       "mean texture                            0.119205  \n",
       "mean perimeter                          0.051019  \n",
       "mean area                               0.003738  \n",
       "mean smoothness                         0.499316  \n",
       "mean compactness                        0.687382  \n",
       "mean concavity                          0.514930  \n",
       "mean concave points                     0.368661  \n",
       "mean symmetry                           0.438413  \n",
       "mean fractal dimension                  0.767297  \n",
       "radius error                            0.049559  \n",
       "texture error                          -0.045655  \n",
       "perimeter error                         0.085433  \n",
       "area error                              0.017539  \n",
       "smoothness error                        0.101480  \n",
       "compactness error                       0.590973  \n",
       "concavity error                         0.439329  \n",
       "concave points error                    0.310655  \n",
       "symmetry error                          0.078079  \n",
       "fractal dimension error                 0.591328  \n",
       "worst radius                            0.093492  \n",
       "worst texture                           0.219122  \n",
       "worst perimeter                         0.138957  \n",
       "worst area                              0.079647  \n",
       "worst smoothness                        0.617624  \n",
       "worst compactness                       0.810455  \n",
       "worst concavity                         0.686511  \n",
       "worst concave points                    0.511114  \n",
       "worst symmetry                          0.537848  \n",
       "worst fractal dimension                 1.000000  "
      ]
     },
     "execution_count": 123,
     "metadata": {},
     "output_type": "execute_result"
    }
   ],
   "source": [
    "X.corr()"
   ]
  },
  {
   "cell_type": "code",
   "execution_count": 124,
   "metadata": {
    "ExecuteTime": {
     "end_time": "2023-09-28T16:13:33.550194Z",
     "start_time": "2023-09-28T16:13:33.547566Z"
    }
   },
   "outputs": [],
   "source": [
    "# code\n",
    "# calculate correlation and store as dataframe\n",
    "corr_df = X.corr()"
   ]
  },
  {
   "cell_type": "code",
   "execution_count": 125,
   "metadata": {
    "ExecuteTime": {
     "end_time": "2023-09-28T16:13:33.830254Z",
     "start_time": "2023-09-28T16:13:33.552185Z"
    }
   },
   "outputs": [
    {
     "data": {
      "text/plain": [
       "<Axes: >"
      ]
     },
     "execution_count": 125,
     "metadata": {},
     "output_type": "execute_result"
    },
    {
     "data": {
      "image/png": "[encoded data removed]",
      "text/plain": [
       "<Figure size 1000x600 with 2 Axes>"
      ]
     },
     "metadata": {},
     "output_type": "display_data"
    }
   ],
   "source": [
    "# seaborn correlation heatmap\n",
    "plt.figure(figsize=(10, 6))\n",
    "sns.heatmap(corr_df, cmap='coolwarm', annot=False)"
   ]
  },
  {
   "cell_type": "code",
   "execution_count": 126,
   "metadata": {
    "ExecuteTime": {
     "end_time": "2023-09-28T16:13:33.842388Z",
     "start_time": "2023-09-28T16:13:33.831178Z"
    }
   },
   "outputs": [
    {
     "data": {
      "text/plain": [
       "mean fractal dimension   mean radius               -0.311631\n",
       "mean radius              mean fractal dimension    -0.311631\n",
       "mean fractal dimension   mean area                 -0.283110\n",
       "mean area                mean fractal dimension    -0.283110\n",
       "mean perimeter           mean fractal dimension    -0.261477\n",
       "                                                      ...   \n",
       "worst smoothness         worst smoothness           1.000000\n",
       "worst compactness        worst compactness          1.000000\n",
       "worst concavity          worst concavity            1.000000\n",
       "smoothness error         smoothness error           1.000000\n",
       "worst fractal dimension  worst fractal dimension    1.000000\n",
       "Length: 900, dtype: float64"
      ]
     },
     "execution_count": 126,
     "metadata": {},
     "output_type": "execute_result"
    }
   ],
   "source": [
    "corr_df.unstack().sort_values()"
   ]
  },
  {
   "cell_type": "markdown",
   "metadata": {},
   "source": [
    "From above heatmap created using `sns.heatmap(data)` of the output of `df.corr()` code:\n",
    "- Features with darker (red or blue) indicate strong correlation between their corresponding row-column feature pair. Red gradient represents positive correlation while blue gradient shows negative correlation.\n",
    "- For example, `worst perimeter` and `mean radius` has strong positive correlation. Meaning, increase in `mean radius` will increase `worst perimeter`.\n",
    "- Similarly, `mean radius, mean area and mean perimeter` are strongly correlated to each other. This is expected as, radius is directly proportional to area and perimeter.\n",
    "- `perimeter error` and `concavity error` has no strong correlation. Similarly, `worst area` and `concave points error` has no strong correlation.\n",
    "- `mean fractal dimension` and `mean radius` has strong negative correlation. However, for negative correlation, the range does not go beyond ~-0.30 (see the gradient scale in heatmap). Meaning there is slight negative correlation among these 2 variables."
   ]
  },
  {
   "cell_type": "markdown",
   "metadata": {},
   "source": [
    "### Train - Test split \n",
    "- Use sklearn's `tran_test_split()` function to create the split.\n",
    "- Use `random_state = 55` to create consistent and repeatable train-test splits.\n",
    "\n",
    "- What is the proportion of cancer classes in train and test sets after splitting? Are they equal or very close to each other?\n",
    "- What is the importance of stratified sampling?"
   ]
  },
  {
   "cell_type": "code",
   "execution_count": 127,
   "metadata": {
    "ExecuteTime": {
     "end_time": "2023-09-28T16:13:33.853278Z",
     "start_time": "2023-09-28T16:13:33.843567Z"
    }
   },
   "outputs": [],
   "source": [
    "from sklearn.preprocessing import LabelBinarizer\n",
    "lb = LabelBinarizer()"
   ]
  },
  {
   "cell_type": "code",
   "execution_count": 128,
   "metadata": {
    "ExecuteTime": {
     "end_time": "2023-09-28T16:13:33.860972Z",
     "start_time": "2023-09-28T16:13:33.854984Z"
    }
   },
   "outputs": [
    {
     "data": {
      "text/plain": [
       "0      M\n",
       "1      M\n",
       "2      M\n",
       "3      M\n",
       "4      M\n",
       "      ..\n",
       "564    M\n",
       "565    M\n",
       "566    M\n",
       "567    M\n",
       "568    B\n",
       "Name: diagnosis, Length: 569, dtype: object"
      ]
     },
     "execution_count": 128,
     "metadata": {},
     "output_type": "execute_result"
    }
   ],
   "source": [
    "y"
   ]
  },
  {
   "cell_type": "code",
   "execution_count": 129,
   "metadata": {
    "ExecuteTime": {
     "end_time": "2023-09-28T16:13:33.868691Z",
     "start_time": "2023-09-28T16:13:33.863272Z"
    }
   },
   "outputs": [
    {
     "data": {
      "text/plain": [
       "diagnosis\n",
       "B    357\n",
       "M    212\n",
       "Name: count, dtype: int64"
      ]
     },
     "execution_count": 129,
     "metadata": {},
     "output_type": "execute_result"
    }
   ],
   "source": [
    "y.value_counts()"
   ]
  },
  {
   "cell_type": "code",
   "execution_count": 130,
   "metadata": {
    "ExecuteTime": {
     "end_time": "2023-09-28T16:13:33.877265Z",
     "start_time": "2023-09-28T16:13:33.870601Z"
    }
   },
   "outputs": [],
   "source": [
    "y = lb.fit_transform(y).ravel()"
   ]
  },
  {
   "cell_type": "code",
   "execution_count": 131,
   "metadata": {
    "ExecuteTime": {
     "end_time": "2023-09-28T16:13:33.883970Z",
     "start_time": "2023-09-28T16:13:33.879805Z"
    }
   },
   "outputs": [],
   "source": [
    "y = pd.Series(y)"
   ]
  },
  {
   "cell_type": "code",
   "execution_count": 132,
   "metadata": {
    "ExecuteTime": {
     "end_time": "2023-09-28T16:13:33.894060Z",
     "start_time": "2023-09-28T16:13:33.886567Z"
    }
   },
   "outputs": [
    {
     "data": {
      "text/plain": [
       "0    357\n",
       "1    212\n",
       "Name: count, dtype: int64"
      ]
     },
     "execution_count": 132,
     "metadata": {},
     "output_type": "execute_result"
    }
   ],
   "source": [
    "y.value_counts()"
   ]
  },
  {
   "cell_type": "code",
   "execution_count": 133,
   "metadata": {
    "ExecuteTime": {
     "end_time": "2023-09-28T16:13:33.907936Z",
     "start_time": "2023-09-28T16:13:33.897447Z"
    },
    "colab": {},
    "colab_type": "code",
    "id": "51JqRqv2JnOY"
   },
   "outputs": [],
   "source": [
    "# split the datasets into training and test data\n",
    "X_train, X_test, y_train, y_test = train_test_split(X, y, stratify=y, random_state = 55, test_size= 0.25)"
   ]
  },
  {
   "cell_type": "code",
   "execution_count": 134,
   "metadata": {
    "ExecuteTime": {
     "end_time": "2023-09-28T16:13:33.922810Z",
     "start_time": "2023-09-28T16:13:33.911800Z"
    }
   },
   "outputs": [
    {
     "data": {
      "text/plain": [
       "0    0.626761\n",
       "1    0.373239\n",
       "Name: proportion, dtype: float64"
      ]
     },
     "execution_count": 134,
     "metadata": {},
     "output_type": "execute_result"
    }
   ],
   "source": [
    "y_train.value_counts(normalize=True)"
   ]
  },
  {
   "cell_type": "code",
   "execution_count": 135,
   "metadata": {
    "ExecuteTime": {
     "end_time": "2023-09-28T16:13:33.938559Z",
     "start_time": "2023-09-28T16:13:33.926152Z"
    }
   },
   "outputs": [
    {
     "data": {
      "text/plain": [
       "0    0.629371\n",
       "1    0.370629\n",
       "Name: proportion, dtype: float64"
      ]
     },
     "execution_count": 135,
     "metadata": {},
     "output_type": "execute_result"
    }
   ],
   "source": [
    "y_test.value_counts(normalize=True)"
   ]
  },
  {
   "cell_type": "markdown",
   "metadata": {},
   "source": [
    "Stratified random sampling ensures that the splits keep their proportion of targets values. This is important to stay consistent with the data collected."
   ]
  },
  {
   "cell_type": "markdown",
   "metadata": {
    "colab_type": "text",
    "id": "oD3zVNeNQ1OE"
   },
   "source": [
    "Now let's train a logistic regression model on the breast cancer data. This is a binary classification problem."
   ]
  },
  {
   "cell_type": "markdown",
   "metadata": {},
   "source": [
    "### Question 4 [10 points]"
   ]
  },
  {
   "cell_type": "markdown",
   "metadata": {},
   "source": [
    "- Initiate the logistic regression classifier from the sklearn library as shown below.\n",
    "- Fit the model\n",
    "- Make predictions\n",
    "- Calculate accuracy score. What are the **training** and **testing** accuracies of the model?\n",
    "- Create confusion matrix\n",
    "- Either calculate using the confusion matrix, or use the methods in `metrics` to get the following metrics on the testing set:\n",
    "     - Recall (Sensitivity)\n",
    "     - Specificity\n",
    "     - Precision\n",
    "     - False Positive Rate\n",
    "     - F1 Score"
   ]
  },
  {
   "cell_type": "code",
   "execution_count": 136,
   "metadata": {
    "ExecuteTime": {
     "end_time": "2023-09-28T16:13:33.947674Z",
     "start_time": "2023-09-28T16:13:33.942102Z"
    }
   },
   "outputs": [],
   "source": [
    "from sklearn.linear_model import LogisticRegression"
   ]
  },
  {
   "cell_type": "code",
   "execution_count": 137,
   "metadata": {
    "ExecuteTime": {
     "end_time": "2023-09-28T16:13:33.956645Z",
     "start_time": "2023-09-28T16:13:33.951264Z"
    }
   },
   "outputs": [],
   "source": [
    "clf = LogisticRegression(max_iter = 10000, C=0.1)"
   ]
  },
  {
   "cell_type": "code",
   "execution_count": 138,
   "metadata": {
    "ExecuteTime": {
     "end_time": "2023-09-28T16:13:34.070324Z",
     "start_time": "2023-09-28T16:13:33.960888Z"
    }
   },
   "outputs": [
    {
     "data": {
      "text/html": [
       "<style>#sk-container-id-5 {color: black;}#sk-container-id-5 pre{padding: 0;}#sk-container-id-5 div.sk-toggleable {background-color: white;}#sk-container-id-5 label.sk-toggleable__label {cursor: pointer;display: block;width: 100%;margin-bottom: 0;padding: 0.3em;box-sizing: border-box;text-align: center;}#sk-container-id-5 label.sk-toggleable__label-arrow:before {content: \"▸\";float: left;margin-right: 0.25em;color: #696969;}#sk-container-id-5 label.sk-toggleable__label-arrow:hover:before {color: black;}#sk-container-id-5 div.sk-estimator:hover label.sk-toggleable__label-arrow:before {color: black;}#sk-container-id-5 div.sk-toggleable__content {max-height: 0;max-width: 0;overflow: hidden;text-align: left;background-color: #f0f8ff;}#sk-container-id-5 div.sk-toggleable__content pre {margin: 0.2em;color: black;border-radius: 0.25em;background-color: #f0f8ff;}#sk-container-id-5 input.sk-toggleable__control:checked~div.sk-toggleable__content {max-height: 200px;max-width: 100%;overflow: auto;}#sk-container-id-5 input.sk-toggleable__control:checked~label.sk-toggleable__label-arrow:before {content: \"▾\";}#sk-container-id-5 div.sk-estimator input.sk-toggleable__control:checked~label.sk-toggleable__label {background-color: #d4ebff;}#sk-container-id-5 div.sk-label input.sk-toggleable__control:checked~label.sk-toggleable__label {background-color: #d4ebff;}#sk-container-id-5 input.sk-hidden--visually {border: 0;clip: rect(1px 1px 1px 1px);clip: rect(1px, 1px, 1px, 1px);height: 1px;margin: -1px;overflow: hidden;padding: 0;position: absolute;width: 1px;}#sk-container-id-5 div.sk-estimator {font-family: monospace;background-color: #f0f8ff;border: 1px dotted black;border-radius: 0.25em;box-sizing: border-box;margin-bottom: 0.5em;}#sk-container-id-5 div.sk-estimator:hover {background-color: #d4ebff;}#sk-container-id-5 div.sk-parallel-item::after {content: \"\";width: 100%;border-bottom: 1px solid gray;flex-grow: 1;}#sk-container-id-5 div.sk-label:hover label.sk-toggleable__label {background-color: #d4ebff;}#sk-container-id-5 div.sk-serial::before {content: \"\";position: absolute;border-left: 1px solid gray;box-sizing: border-box;top: 0;bottom: 0;left: 50%;z-index: 0;}#sk-container-id-5 div.sk-serial {display: flex;flex-direction: column;align-items: center;background-color: white;padding-right: 0.2em;padding-left: 0.2em;position: relative;}#sk-container-id-5 div.sk-item {position: relative;z-index: 1;}#sk-container-id-5 div.sk-parallel {display: flex;align-items: stretch;justify-content: center;background-color: white;position: relative;}#sk-container-id-5 div.sk-item::before, #sk-container-id-5 div.sk-parallel-item::before {content: \"\";position: absolute;border-left: 1px solid gray;box-sizing: border-box;top: 0;bottom: 0;left: 50%;z-index: -1;}#sk-container-id-5 div.sk-parallel-item {display: flex;flex-direction: column;z-index: 1;position: relative;background-color: white;}#sk-container-id-5 div.sk-parallel-item:first-child::after {align-self: flex-end;width: 50%;}#sk-container-id-5 div.sk-parallel-item:last-child::after {align-self: flex-start;width: 50%;}#sk-container-id-5 div.sk-parallel-item:only-child::after {width: 0;}#sk-container-id-5 div.sk-dashed-wrapped {border: 1px dashed gray;margin: 0 0.4em 0.5em 0.4em;box-sizing: border-box;padding-bottom: 0.4em;background-color: white;}#sk-container-id-5 div.sk-label label {font-family: monospace;font-weight: bold;display: inline-block;line-height: 1.2em;}#sk-container-id-5 div.sk-label-container {text-align: center;}#sk-container-id-5 div.sk-container {/* jupyter's `normalize.less` sets `[hidden] { display: none; }` but bootstrap.min.css set `[hidden] { display: none !important; }` so we also need the `!important` here to be able to override the default hidden behavior on the sphinx rendered scikit-learn.org. See: https://github.com/scikit-learn/scikit-learn/issues/21755 */display: inline-block !important;position: relative;}#sk-container-id-5 div.sk-text-repr-fallback {display: none;}</style><div id=\"sk-container-id-5\" class=\"sk-top-container\"><div class=\"sk-text-repr-fallback\"><pre>LogisticRegression(C=0.1, max_iter=10000)</pre><b>In a Jupyter environment, please rerun this cell to show the HTML representation or trust the notebook. <br />On GitHub, the HTML representation is unable to render, please try loading this page with nbviewer.org.</b></div><div class=\"sk-container\" hidden><div class=\"sk-item\"><div class=\"sk-estimator sk-toggleable\"><input class=\"sk-toggleable__control sk-hidden--visually\" id=\"sk-estimator-id-5\" type=\"checkbox\" checked><label for=\"sk-estimator-id-5\" class=\"sk-toggleable__label sk-toggleable__label-arrow\">LogisticRegression</label><div class=\"sk-toggleable__content\"><pre>LogisticRegression(C=0.1, max_iter=10000)</pre></div></div></div></div></div>"
      ],
      "text/plain": [
       "LogisticRegression(C=0.1, max_iter=10000)"
      ]
     },
     "execution_count": 138,
     "metadata": {},
     "output_type": "execute_result"
    }
   ],
   "source": [
    "# code\n",
    "# fit logistic regression model\n",
    "clf.fit(X_train, y_train)"
   ]
  },
  {
   "cell_type": "code",
   "execution_count": 139,
   "metadata": {
    "ExecuteTime": {
     "end_time": "2023-09-28T16:13:34.075400Z",
     "start_time": "2023-09-28T16:13:34.071508Z"
    }
   },
   "outputs": [],
   "source": [
    "# predict on test data\n",
    "test_pred = clf.predict(X_test)\n",
    "train_pred = clf.predict(X_train)"
   ]
  },
  {
   "cell_type": "code",
   "execution_count": 140,
   "metadata": {
    "ExecuteTime": {
     "end_time": "2023-09-28T16:13:34.081012Z",
     "start_time": "2023-09-28T16:13:34.076920Z"
    }
   },
   "outputs": [
    {
     "name": "stdout",
     "output_type": "stream",
     "text": [
      "Accuracy score is: Train 0.9413145539906104\n",
      "Accuracy score is:  Test 0.986013986013986\n"
     ]
    }
   ],
   "source": [
    "# Accuracy\n",
    "print(f'Accuracy score is: Train {metrics.accuracy_score(y_true=y_train, y_pred=train_pred)}')\n",
    "print(f'Accuracy score is:  Test {metrics.accuracy_score(y_true=y_test, y_pred=test_pred)}')"
   ]
  },
  {
   "cell_type": "code",
   "execution_count": 141,
   "metadata": {
    "ExecuteTime": {
     "end_time": "2023-09-28T16:13:34.087107Z",
     "start_time": "2023-09-28T16:13:34.082342Z"
    }
   },
   "outputs": [
    {
     "name": "stdout",
     "output_type": "stream",
     "text": [
      "Confusion matrix\n",
      " [[89  1]\n",
      " [ 1 52]]\n"
     ]
    }
   ],
   "source": [
    "print('Confusion matrix\\n', metrics.confusion_matrix(y_true=y_test, y_pred=test_pred))"
   ]
  },
  {
   "cell_type": "markdown",
   "metadata": {},
   "source": [
    "Above is confusion matrix, generated using `sklearn.metrics.confusion_matrix` from scikit-learn.\n",
    "- Numbers across diagonal, `89 and 52` represents the correct predictions of label.\n",
    "- Rest are misclassified observations.\n",
    "- Here, only 2 observations have been misclassified by the model."
   ]
  },
  {
   "cell_type": "code",
   "execution_count": 142,
   "metadata": {
    "ExecuteTime": {
     "end_time": "2023-09-28T16:13:34.094433Z",
     "start_time": "2023-09-28T16:13:34.088925Z"
    }
   },
   "outputs": [],
   "source": [
    "# save confusion matrix into tp, tn, fp, fn\n",
    "\n",
    "tn, fp, fn, tp = metrics.confusion_matrix(y_test, test_pred).ravel()"
   ]
  },
  {
   "cell_type": "code",
   "execution_count": 143,
   "metadata": {
    "ExecuteTime": {
     "end_time": "2023-09-28T16:13:34.104513Z",
     "start_time": "2023-09-28T16:13:34.101196Z"
    }
   },
   "outputs": [],
   "source": [
    "rec = tp/(tp+fn)\n",
    "specf = tn/(tn+fp)\n",
    "prec = tp/(tp+fp)\n",
    "fps = fp/(fp+tn)"
   ]
  },
  {
   "cell_type": "code",
   "execution_count": 144,
   "metadata": {
    "ExecuteTime": {
     "end_time": "2023-09-28T16:13:34.111324Z",
     "start_time": "2023-09-28T16:13:34.106064Z"
    }
   },
   "outputs": [
    {
     "name": "stdout",
     "output_type": "stream",
     "text": [
      "Recall:  0.9811320754716981\n",
      "\n",
      "Specificity:  0.9888888888888889\n",
      "\n",
      "Precision:  0.9811320754716981\n",
      "\n",
      "False Positive rate:  0.011111111111111112\n"
     ]
    }
   ],
   "source": [
    "print('Recall: ', rec)\n",
    "\n",
    "print('\\nSpecificity: ', specf)\n",
    "\n",
    "print('\\nPrecision: ', prec)\n",
    "\n",
    "print('\\nFalse Positive rate: ', fps)"
   ]
  },
  {
   "cell_type": "code",
   "execution_count": 145,
   "metadata": {
    "ExecuteTime": {
     "end_time": "2023-09-28T16:13:34.114890Z",
     "start_time": "2023-09-28T16:13:34.112643Z"
    }
   },
   "outputs": [],
   "source": [
    "f1_score = ((prec*rec)/(prec+rec))*2"
   ]
  },
  {
   "cell_type": "code",
   "execution_count": 146,
   "metadata": {
    "ExecuteTime": {
     "end_time": "2023-09-28T16:13:34.118990Z",
     "start_time": "2023-09-28T16:13:34.116548Z"
    }
   },
   "outputs": [
    {
     "name": "stdout",
     "output_type": "stream",
     "text": [
      "F1 score:  0.9811320754716981\n"
     ]
    }
   ],
   "source": [
    "print('F1 score: ', f1_score)"
   ]
  },
  {
   "cell_type": "code",
   "execution_count": 147,
   "metadata": {
    "ExecuteTime": {
     "end_time": "2023-09-28T16:13:34.135509Z",
     "start_time": "2023-09-28T16:13:34.120674Z"
    }
   },
   "outputs": [
    {
     "name": "stdout",
     "output_type": "stream",
     "text": [
      "Classification report\n",
      "\n",
      "               precision    recall  f1-score   support\n",
      "\n",
      "           0       0.99      0.99      0.99        90\n",
      "           1       0.98      0.98      0.98        53\n",
      "\n",
      "    accuracy                           0.99       143\n",
      "   macro avg       0.99      0.99      0.99       143\n",
      "weighted avg       0.99      0.99      0.99       143\n",
      "\n"
     ]
    }
   ],
   "source": [
    "print('Classification report\\n\\n', metrics.classification_report(y_true=y_test, y_pred=test_pred))"
   ]
  },
  {
   "cell_type": "markdown",
   "metadata": {},
   "source": [
    "### Question 5 [10 points]"
   ]
  },
  {
   "cell_type": "markdown",
   "metadata": {},
   "source": [
    "- Initiate the k-nearest neighbours classifier from the sklearn library with n_neighbors=1. Keep the remaining parameters with their default values. (No need to specify anything)\n",
    "- Fit the model\n",
    "- Make predictions\n",
    "- Calculate accuracy score. What are the **training** and **testing** accuracies of the model?\n",
    "- Create confusion matrix\n",
    "- Either calculate using the confusion matrix, or using the methods in `metrics` to get the following metrics on the testing set:\n",
    "     - Recall (Sensitivity)\n",
    "     - Specificity\n",
    "     - Precision\n",
    "     - F1 Score"
   ]
  },
  {
   "cell_type": "code",
   "execution_count": 148,
   "metadata": {
    "ExecuteTime": {
     "end_time": "2023-09-28T16:13:34.141206Z",
     "start_time": "2023-09-28T16:13:34.137358Z"
    }
   },
   "outputs": [],
   "source": [
    "from sklearn.neighbors import KNeighborsClassifier"
   ]
  },
  {
   "cell_type": "code",
   "execution_count": 149,
   "metadata": {
    "ExecuteTime": {
     "end_time": "2023-09-28T16:13:34.146711Z",
     "start_time": "2023-09-28T16:13:34.143724Z"
    }
   },
   "outputs": [],
   "source": [
    "clf = KNeighborsClassifier(n_neighbors=1)"
   ]
  },
  {
   "cell_type": "code",
   "execution_count": 150,
   "metadata": {
    "ExecuteTime": {
     "end_time": "2023-09-28T16:13:34.157715Z",
     "start_time": "2023-09-28T16:13:34.148704Z"
    }
   },
   "outputs": [
    {
     "data": {
      "text/html": [
       "<style>#sk-container-id-6 {color: black;}#sk-container-id-6 pre{padding: 0;}#sk-container-id-6 div.sk-toggleable {background-color: white;}#sk-container-id-6 label.sk-toggleable__label {cursor: pointer;display: block;width: 100%;margin-bottom: 0;padding: 0.3em;box-sizing: border-box;text-align: center;}#sk-container-id-6 label.sk-toggleable__label-arrow:before {content: \"▸\";float: left;margin-right: 0.25em;color: #696969;}#sk-container-id-6 label.sk-toggleable__label-arrow:hover:before {color: black;}#sk-container-id-6 div.sk-estimator:hover label.sk-toggleable__label-arrow:before {color: black;}#sk-container-id-6 div.sk-toggleable__content {max-height: 0;max-width: 0;overflow: hidden;text-align: left;background-color: #f0f8ff;}#sk-container-id-6 div.sk-toggleable__content pre {margin: 0.2em;color: black;border-radius: 0.25em;background-color: #f0f8ff;}#sk-container-id-6 input.sk-toggleable__control:checked~div.sk-toggleable__content {max-height: 200px;max-width: 100%;overflow: auto;}#sk-container-id-6 input.sk-toggleable__control:checked~label.sk-toggleable__label-arrow:before {content: \"▾\";}#sk-container-id-6 div.sk-estimator input.sk-toggleable__control:checked~label.sk-toggleable__label {background-color: #d4ebff;}#sk-container-id-6 div.sk-label input.sk-toggleable__control:checked~label.sk-toggleable__label {background-color: #d4ebff;}#sk-container-id-6 input.sk-hidden--visually {border: 0;clip: rect(1px 1px 1px 1px);clip: rect(1px, 1px, 1px, 1px);height: 1px;margin: -1px;overflow: hidden;padding: 0;position: absolute;width: 1px;}#sk-container-id-6 div.sk-estimator {font-family: monospace;background-color: #f0f8ff;border: 1px dotted black;border-radius: 0.25em;box-sizing: border-box;margin-bottom: 0.5em;}#sk-container-id-6 div.sk-estimator:hover {background-color: #d4ebff;}#sk-container-id-6 div.sk-parallel-item::after {content: \"\";width: 100%;border-bottom: 1px solid gray;flex-grow: 1;}#sk-container-id-6 div.sk-label:hover label.sk-toggleable__label {background-color: #d4ebff;}#sk-container-id-6 div.sk-serial::before {content: \"\";position: absolute;border-left: 1px solid gray;box-sizing: border-box;top: 0;bottom: 0;left: 50%;z-index: 0;}#sk-container-id-6 div.sk-serial {display: flex;flex-direction: column;align-items: center;background-color: white;padding-right: 0.2em;padding-left: 0.2em;position: relative;}#sk-container-id-6 div.sk-item {position: relative;z-index: 1;}#sk-container-id-6 div.sk-parallel {display: flex;align-items: stretch;justify-content: center;background-color: white;position: relative;}#sk-container-id-6 div.sk-item::before, #sk-container-id-6 div.sk-parallel-item::before {content: \"\";position: absolute;border-left: 1px solid gray;box-sizing: border-box;top: 0;bottom: 0;left: 50%;z-index: -1;}#sk-container-id-6 div.sk-parallel-item {display: flex;flex-direction: column;z-index: 1;position: relative;background-color: white;}#sk-container-id-6 div.sk-parallel-item:first-child::after {align-self: flex-end;width: 50%;}#sk-container-id-6 div.sk-parallel-item:last-child::after {align-self: flex-start;width: 50%;}#sk-container-id-6 div.sk-parallel-item:only-child::after {width: 0;}#sk-container-id-6 div.sk-dashed-wrapped {border: 1px dashed gray;margin: 0 0.4em 0.5em 0.4em;box-sizing: border-box;padding-bottom: 0.4em;background-color: white;}#sk-container-id-6 div.sk-label label {font-family: monospace;font-weight: bold;display: inline-block;line-height: 1.2em;}#sk-container-id-6 div.sk-label-container {text-align: center;}#sk-container-id-6 div.sk-container {/* jupyter's `normalize.less` sets `[hidden] { display: none; }` but bootstrap.min.css set `[hidden] { display: none !important; }` so we also need the `!important` here to be able to override the default hidden behavior on the sphinx rendered scikit-learn.org. See: https://github.com/scikit-learn/scikit-learn/issues/21755 */display: inline-block !important;position: relative;}#sk-container-id-6 div.sk-text-repr-fallback {display: none;}</style><div id=\"sk-container-id-6\" class=\"sk-top-container\"><div class=\"sk-text-repr-fallback\"><pre>KNeighborsClassifier(n_neighbors=1)</pre><b>In a Jupyter environment, please rerun this cell to show the HTML representation or trust the notebook. <br />On GitHub, the HTML representation is unable to render, please try loading this page with nbviewer.org.</b></div><div class=\"sk-container\" hidden><div class=\"sk-item\"><div class=\"sk-estimator sk-toggleable\"><input class=\"sk-toggleable__control sk-hidden--visually\" id=\"sk-estimator-id-6\" type=\"checkbox\" checked><label for=\"sk-estimator-id-6\" class=\"sk-toggleable__label sk-toggleable__label-arrow\">KNeighborsClassifier</label><div class=\"sk-toggleable__content\"><pre>KNeighborsClassifier(n_neighbors=1)</pre></div></div></div></div></div>"
      ],
      "text/plain": [
       "KNeighborsClassifier(n_neighbors=1)"
      ]
     },
     "execution_count": 150,
     "metadata": {},
     "output_type": "execute_result"
    }
   ],
   "source": [
    "# code\n",
    "# fit k-nearest neighbors model\n",
    "clf.fit(X_train, y_train)"
   ]
  },
  {
   "cell_type": "code",
   "execution_count": 151,
   "metadata": {
    "ExecuteTime": {
     "end_time": "2023-09-28T16:13:34.189915Z",
     "start_time": "2023-09-28T16:13:34.159691Z"
    }
   },
   "outputs": [],
   "source": [
    "# predict\n",
    "train_pred = clf.predict(X_train.values)\n",
    "test_pred = clf.predict(X_test.values)"
   ]
  },
  {
   "cell_type": "code",
   "execution_count": 152,
   "metadata": {
    "ExecuteTime": {
     "end_time": "2023-09-28T16:13:34.194933Z",
     "start_time": "2023-09-28T16:13:34.191042Z"
    }
   },
   "outputs": [
    {
     "name": "stdout",
     "output_type": "stream",
     "text": [
      "Accuracy score is: Train 1.0\n",
      "Accuracy score is:  Test 0.9440559440559441\n"
     ]
    }
   ],
   "source": [
    "# Accuracy\n",
    "print(f'Accuracy score is: Train {metrics.accuracy_score(y_true=y_train, y_pred=train_pred)}')\n",
    "print(f'Accuracy score is:  Test {metrics.accuracy_score(y_true=y_test, y_pred=test_pred)}')"
   ]
  },
  {
   "cell_type": "code",
   "execution_count": 153,
   "metadata": {
    "ExecuteTime": {
     "end_time": "2023-09-28T16:13:34.200470Z",
     "start_time": "2023-09-28T16:13:34.196659Z"
    }
   },
   "outputs": [
    {
     "name": "stdout",
     "output_type": "stream",
     "text": [
      "Confusion matrix\n",
      " [[86  4]\n",
      " [ 4 49]]\n"
     ]
    }
   ],
   "source": [
    "print('Confusion matrix\\n', metrics.confusion_matrix(y_true=y_test, y_pred=test_pred))"
   ]
  },
  {
   "cell_type": "code",
   "execution_count": 154,
   "metadata": {
    "ExecuteTime": {
     "end_time": "2023-09-28T16:13:34.204454Z",
     "start_time": "2023-09-28T16:13:34.201848Z"
    }
   },
   "outputs": [],
   "source": [
    "# save confusion matrix in tp, tn, fp, fn\n",
    "tn, fp, fn, tp = metrics.confusion_matrix(y_test, test_pred).ravel()"
   ]
  },
  {
   "cell_type": "code",
   "execution_count": 155,
   "metadata": {
    "ExecuteTime": {
     "end_time": "2023-09-28T16:13:34.208089Z",
     "start_time": "2023-09-28T16:13:34.205658Z"
    }
   },
   "outputs": [],
   "source": [
    "rec = tp/(tp+fn)\n",
    "specf = tn/(tn+fp)\n",
    "prec = tp/(tp+fp)\n",
    "fps = fp/(fp+tn)"
   ]
  },
  {
   "cell_type": "code",
   "execution_count": 156,
   "metadata": {
    "ExecuteTime": {
     "end_time": "2023-09-28T16:13:34.211384Z",
     "start_time": "2023-09-28T16:13:34.209214Z"
    }
   },
   "outputs": [
    {
     "name": "stdout",
     "output_type": "stream",
     "text": [
      "Recall:  0.9245283018867925\n",
      "\n",
      "Specificity:  0.9555555555555556\n",
      "\n",
      "Precision:  0.9245283018867925\n",
      "\n",
      "False Positive rate:  0.044444444444444446\n"
     ]
    }
   ],
   "source": [
    "print('Recall: ', rec)\n",
    "\n",
    "print('\\nSpecificity: ', specf)\n",
    "\n",
    "print('\\nPrecision: ', prec)\n",
    "\n",
    "print('\\nFalse Positive rate: ', fps)"
   ]
  },
  {
   "cell_type": "code",
   "execution_count": 157,
   "metadata": {
    "ExecuteTime": {
     "end_time": "2023-09-28T16:13:34.214855Z",
     "start_time": "2023-09-28T16:13:34.212670Z"
    }
   },
   "outputs": [],
   "source": [
    "f1_score = ((prec*rec)/(prec+rec))*2"
   ]
  },
  {
   "cell_type": "code",
   "execution_count": 158,
   "metadata": {
    "ExecuteTime": {
     "end_time": "2023-09-28T16:13:34.218499Z",
     "start_time": "2023-09-28T16:13:34.216194Z"
    }
   },
   "outputs": [
    {
     "name": "stdout",
     "output_type": "stream",
     "text": [
      "F1 score:  0.9245283018867925\n"
     ]
    }
   ],
   "source": [
    "print('F1 score: ', f1_score)"
   ]
  },
  {
   "cell_type": "code",
   "execution_count": 159,
   "metadata": {
    "ExecuteTime": {
     "end_time": "2023-09-28T16:13:34.227446Z",
     "start_time": "2023-09-28T16:13:34.219705Z"
    }
   },
   "outputs": [
    {
     "name": "stdout",
     "output_type": "stream",
     "text": [
      "Classification report\n",
      "\n",
      "               precision    recall  f1-score   support\n",
      "\n",
      "           0       0.96      0.96      0.96        90\n",
      "           1       0.92      0.92      0.92        53\n",
      "\n",
      "    accuracy                           0.94       143\n",
      "   macro avg       0.94      0.94      0.94       143\n",
      "weighted avg       0.94      0.94      0.94       143\n",
      "\n"
     ]
    }
   ],
   "source": [
    "print('Classification report\\n\\n', metrics.classification_report(y_true=y_test, y_pred=test_pred))"
   ]
  },
  {
   "cell_type": "markdown",
   "metadata": {},
   "source": [
    "### Question 6 [10 points]"
   ]
  },
  {
   "cell_type": "markdown",
   "metadata": {},
   "source": [
    "In logistic regression keeping the other parameters constant try these values for C: `C_list = [0.0001, 0.0005, 0.001, 0.005, 0.01, 0.05, 0.1, 0.5, 1, 2, 10, 50, 100, 200, 500, 1000, 2000, 5000, 10000]`.  \n",
    "C is the inverse of the regularization parameter $\\lambda$. As C increases, the penalty decreases.\n",
    "- Create a loop and fit the models using each C value. \n",
    "- Make predictions\n",
    "- Calculate accuracy scores for **training** and **testing** datasets. Create a list of accuracy results for train and test accuracies. Show these lists.\n",
    "- Create the validation curve based on each C value and the corresponding train and test accuracies. \n",
    "> Create this curve yourself. Do not use sklearn built-in function."
   ]
  },
  {
   "cell_type": "code",
   "execution_count": 160,
   "metadata": {
    "ExecuteTime": {
     "end_time": "2023-09-28T16:13:34.603812Z",
     "start_time": "2023-09-28T16:13:34.228360Z"
    }
   },
   "outputs": [
    {
     "name": "stdout",
     "output_type": "stream",
     "text": [
      "Train accuracy list:\n",
      " [0.9248826291079812, 0.931924882629108, 0.9248826291079812, 0.9295774647887324, 0.931924882629108, 0.931924882629108, 0.9342723004694836, 0.9366197183098591, 0.9389671361502347, 0.9389671361502347, 0.9436619718309859, 0.9342723004694836, 0.9483568075117371, 0.9507042253521126, 0.9436619718309859, 0.9460093896713615, 0.9507042253521126, 0.9460093896713615, 0.9507042253521126]\n",
      "\n",
      "Test accuracy list:\n",
      " [0.9370629370629371, 0.958041958041958, 0.9300699300699301, 0.9370629370629371, 0.9440559440559441, 0.972027972027972, 0.986013986013986, 0.986013986013986, 0.9790209790209791, 0.9790209790209791, 0.9790209790209791, 0.9790209790209791, 0.9790209790209791, 0.986013986013986, 0.972027972027972, 0.9790209790209791, 0.986013986013986, 0.9790209790209791, 0.986013986013986]\n"
     ]
    }
   ],
   "source": [
    "# code\n",
    "# list of C values\n",
    "C_list = [0.0001, 0.0005, 0.001, 0.005, 0.01, 0.05, 0.1, 0.5, 1, 2, 10, 50, 100, 200, 500, 1000, 2000, 5000, 10000]\n",
    "train_acc_list = []\n",
    "test_acc_list = []\n",
    "\n",
    "for c_val in C_list:\n",
    "    # initiate and fit model\n",
    "    clf = LogisticRegression(C=c_val)\n",
    "    clf.fit(X_train, y_train)\n",
    "    \n",
    "    # predict on train test\n",
    "    train_pred = clf.predict(X_train)\n",
    "    test_pred = clf.predict(X_test)\n",
    "    \n",
    "    # get train test accuracy\n",
    "    train_acc_list.append(metrics.accuracy_score(y_train, train_pred))\n",
    "    test_acc_list.append(metrics.accuracy_score(y_test, test_pred))\n",
    "\n",
    "print('Train accuracy list:\\n', train_acc_list)\n",
    "print('\\nTest accuracy list:\\n', test_acc_list)"
   ]
  },
  {
   "cell_type": "code",
   "execution_count": 162,
   "metadata": {
    "ExecuteTime": {
     "end_time": "2023-09-28T16:14:58.704653Z",
     "start_time": "2023-09-28T16:14:58.429329Z"
    }
   },
   "outputs": [
    {
     "data": {
      "text/plain": [
       "Text(0.5, 1.0, 'Train Test accuracy of LogisticRegression model')"
      ]
     },
     "execution_count": 162,
     "metadata": {},
     "output_type": "execute_result"
    },
    {
     "data": {
      "image/png": "[encoded data removed]",
      "text/plain": [
       "<Figure size 800x500 with 1 Axes>"
      ]
     },
     "metadata": {},
     "output_type": "display_data"
    }
   ],
   "source": [
    "plt.figure(figsize=(8, 5))\n",
    "plt.plot([str(c) for c in C_list], train_acc_list, label='train_accuracy', marker='o')\n",
    "plt.plot([str(c) for c in C_list], test_acc_list, label='test_accuracy', marker='o')\n",
    "plt.legend()\n",
    "plt.grid()\n",
    "plt.xlabel('C')\n",
    "plt.ylabel('Accuracy')\n",
    "plt.xticks(rotation=90)\n",
    "plt.title(\"Train Test accuracy of LogisticRegression model\")"
   ]
  },
  {
   "cell_type": "markdown",
   "metadata": {},
   "source": [
    "### Question 7 [10 points]"
   ]
  },
  {
   "cell_type": "markdown",
   "metadata": {},
   "source": [
    "In K Nearest Neighbors keeping the other parameters constant try these values for K (n_neighbors): `K_list = [1,3,5,7,9,15,19,25,29,35,39,45,49]`.  \n",
    "- Create a loop and fit the models using each K value. \n",
    "- Make predictions\n",
    "- Calculate accuracy scores for **training** and **testing** datasets. Create a list of accuracy results for train and test accuracies. Show these lists.\n",
    "- Create the validation curve based on each K value and the corresponding train and test accuracies. \n",
    "> Create this curve yourself. Do not use sklearn built-in function."
   ]
  },
  {
   "cell_type": "code",
   "execution_count": 163,
   "metadata": {
    "ExecuteTime": {
     "end_time": "2023-09-28T16:15:03.901708Z",
     "start_time": "2023-09-28T16:15:03.504642Z"
    }
   },
   "outputs": [
    {
     "name": "stdout",
     "output_type": "stream",
     "text": [
      "Train accuracy list:\n",
      " [1.0, 0.9483568075117371, 0.9460093896713615, 0.9389671361502347, 0.931924882629108, 0.9248826291079812, 0.9272300469483568, 0.9248826291079812, 0.9225352112676056, 0.9225352112676056, 0.9225352112676056, 0.9131455399061033, 0.9084507042253521]\n",
      "\n",
      "Test accuracy list:\n",
      " [0.9440559440559441, 0.965034965034965, 0.9370629370629371, 0.9440559440559441, 0.9370629370629371, 0.9440559440559441, 0.9440559440559441, 0.9370629370629371, 0.9370629370629371, 0.9370629370629371, 0.9300699300699301, 0.9230769230769231, 0.9300699300699301]\n"
     ]
    }
   ],
   "source": [
    "# code\n",
    "# code\n",
    "# list of K values\n",
    "K_list = [1,3,5,7,9,15,19,25,29,35,39,45,49]\n",
    "train_acc_list = []\n",
    "test_acc_list = []\n",
    "\n",
    "for k_neighbors in K_list:\n",
    "    # initiate and fit model\n",
    "    clf = KNeighborsClassifier(n_neighbors=k_neighbors)\n",
    "    clf.fit(X_train, y_train)\n",
    "    \n",
    "    # predict on train test\n",
    "    train_pred = clf.predict(X_train.values)\n",
    "    test_pred = clf.predict(X_test.values)\n",
    "    \n",
    "    # get train test accuracy\n",
    "    train_acc_list.append(metrics.accuracy_score(y_train, train_pred))\n",
    "    test_acc_list.append(metrics.accuracy_score(y_test, test_pred))\n",
    "\n",
    "print('Train accuracy list:\\n', train_acc_list)\n",
    "print('\\nTest accuracy list:\\n', test_acc_list)"
   ]
  },
  {
   "cell_type": "code",
   "execution_count": 164,
   "metadata": {
    "ExecuteTime": {
     "end_time": "2023-09-28T16:15:07.631669Z",
     "start_time": "2023-09-28T16:15:07.421095Z"
    }
   },
   "outputs": [
    {
     "data": {
      "text/plain": [
       "Text(0.5, 1.0, 'Train Test accuracy of KNearestNeighbors model')"
      ]
     },
     "execution_count": 164,
     "metadata": {},
     "output_type": "execute_result"
    },
    {
     "data": {
      "image/png": "[encoded data removed]",
      "text/plain": [
       "<Figure size 500x300 with 1 Axes>"
      ]
     },
     "metadata": {},
     "output_type": "display_data"
    }
   ],
   "source": [
    "plt.figure(figsize=(5, 3))\n",
    "plt.plot([str(k) for k in K_list], train_acc_list, label='train_accuracy', marker='o')\n",
    "plt.plot([str(k) for k in K_list], test_acc_list, label='test_accuracy', marker='o')\n",
    "plt.legend()\n",
    "plt.grid()\n",
    "plt.xlabel('K Neighbors')\n",
    "plt.ylabel('Accuracy')\n",
    "plt.xticks(rotation=90)\n",
    "plt.title(\"Train Test accuracy of KNearestNeighbors model\")"
   ]
  },
  {
   "cell_type": "code",
   "execution_count": 50,
   "metadata": {
    "deletable": false,
    "editable": false,
    "run_control": {
     "frozen": true
    }
   },
   "outputs": [
    {
     "data": {
      "image/png": "[encoded data removed]",
      "text/plain": [
       "<Figure size 432x288 with 1 Axes>"
      ]
     },
     "metadata": {
      "needs_background": "light"
     },
     "output_type": "display_data"
    }
   ],
   "source": [
    "# code"
   ]
  },
  {
   "cell_type": "markdown",
   "metadata": {},
   "source": [
    "### Question 8 [10 points]"
   ]
  },
  {
   "cell_type": "markdown",
   "metadata": {},
   "source": [
    "- The validation curve for logistic regression seems a bit weird. That might have to do with the fact that the data is not normalized.\n",
    "- Apply standardization to the data.\n",
    "- In logistic regression keeping the other parameters constant try these values for C: `C_list = [0.0001, 0.0005, 0.001, 0.005, 0.01, 0.05, 0.1, 0.5, 1, 2, 10, 50, 100, 200, 500, 1000, 2000, 5000, 10000]`.  \n",
    "- Plot validation curves. What do you see? \n",
    "- Which value would you choose for C in logistic regression?"
   ]
  },
  {
   "cell_type": "code",
   "execution_count": 165,
   "metadata": {
    "ExecuteTime": {
     "end_time": "2023-09-28T16:15:16.514145Z",
     "start_time": "2023-09-28T16:15:16.509443Z"
    }
   },
   "outputs": [],
   "source": [
    "from sklearn import preprocessing"
   ]
  },
  {
   "cell_type": "code",
   "execution_count": 166,
   "metadata": {
    "ExecuteTime": {
     "end_time": "2023-09-28T16:15:16.769717Z",
     "start_time": "2023-09-28T16:15:16.754854Z"
    }
   },
   "outputs": [],
   "source": [
    "ss = preprocessing.StandardScaler()\n",
    "X_train_ss = ss.fit_transform(X_train)\n",
    "X_test_ss = ss.transform(X_test)"
   ]
  },
  {
   "cell_type": "code",
   "execution_count": 167,
   "metadata": {
    "ExecuteTime": {
     "end_time": "2023-09-28T16:15:17.254717Z",
     "start_time": "2023-09-28T16:15:16.938455Z"
    }
   },
   "outputs": [
    {
     "name": "stdout",
     "output_type": "stream",
     "text": [
      "Train accuracy list:\n",
      " [0.6455399061032864, 0.8356807511737089, 0.8849765258215962, 0.9460093896713615, 0.9483568075117371, 0.9788732394366197, 0.9835680751173709, 0.9906103286384976, 0.9906103286384976, 0.9929577464788732, 0.9929577464788732, 0.9929577464788732, 0.9929577464788732, 0.9953051643192489, 0.9976525821596244, 0.9976525821596244, 1.0, 1.0, 1.0]\n",
      "\n",
      "Test accuracy list:\n",
      " [0.6363636363636364, 0.8671328671328671, 0.9300699300699301, 0.965034965034965, 0.965034965034965, 0.9790209790209791, 0.986013986013986, 0.986013986013986, 0.9790209790209791, 0.9790209790209791, 0.9790209790209791, 0.972027972027972, 0.972027972027972, 0.972027972027972, 0.972027972027972, 0.972027972027972, 0.965034965034965, 0.965034965034965, 0.965034965034965]\n"
     ]
    }
   ],
   "source": [
    "# define list of values for C\n",
    "C_list = [0.0001, 0.0005, 0.001, 0.005, 0.01, 0.05, 0.1, 0.5, 1, 2, 10, 50, 100, 200, 500, 1000, 2000, 5000, 10000]\n",
    "\n",
    "train_acc_list = []\n",
    "test_acc_list = []\n",
    "\n",
    "for c_val in C_list:\n",
    "    # initiate and fit model\n",
    "    clf = LogisticRegression(C=c_val)\n",
    "    clf.fit(X_train_ss, y_train)\n",
    "    \n",
    "    # predict on train test\n",
    "    train_pred = clf.predict(X_train_ss)\n",
    "    test_pred = clf.predict(X_test_ss)\n",
    "    \n",
    "    # get train test accuracy\n",
    "    train_acc_list.append(metrics.accuracy_score(y_train, train_pred))\n",
    "    test_acc_list.append(metrics.accuracy_score(y_test, test_pred))\n",
    "\n",
    "print('Train accuracy list:\\n', train_acc_list)\n",
    "print('\\nTest accuracy list:\\n', test_acc_list)"
   ]
  },
  {
   "cell_type": "code",
   "execution_count": 168,
   "metadata": {
    "ExecuteTime": {
     "end_time": "2023-09-28T16:15:36.569070Z",
     "start_time": "2023-09-28T16:15:36.331650Z"
    }
   },
   "outputs": [
    {
     "data": {
      "text/plain": [
       "Text(0.5, 1.0, 'Train Test accuracy of LogisticRegression model - Standardized features')"
      ]
     },
     "execution_count": 168,
     "metadata": {},
     "output_type": "execute_result"
    },
    {
     "data": {
      "image/png": "[encoded data removed]",
      "text/plain": [
       "<Figure size 800x500 with 1 Axes>"
      ]
     },
     "metadata": {},
     "output_type": "display_data"
    }
   ],
   "source": [
    "plt.figure(figsize=(8, 5))\n",
    "plt.plot([str(c) for c in C_list], train_acc_list, label='train_accuracy', marker='o')\n",
    "plt.plot([str(c) for c in C_list], test_acc_list, label='test_accuracy', marker='o')\n",
    "plt.legend()\n",
    "plt.grid()\n",
    "plt.xlabel('C')\n",
    "plt.ylabel('Accuracy')\n",
    "plt.xticks(rotation=90)\n",
    "plt.title(\"Train Test accuracy of LogisticRegression model - Standardized features\")"
   ]
  },
  {
   "cell_type": "code",
   "execution_count": 56,
   "metadata": {
    "deletable": false,
    "editable": false,
    "run_control": {
     "frozen": true
    },
    "scrolled": true
   },
   "outputs": [
    {
     "data": {
      "image/png": "[encoded data removed]",
      "text/plain": [
       "<Figure size 432x288 with 1 Axes>"
      ]
     },
     "metadata": {
      "needs_background": "light"
     },
     "output_type": "display_data"
    }
   ],
   "source": [
    "# code"
   ]
  },
  {
   "cell_type": "markdown",
   "metadata": {},
   "source": [
    "### Question 9 [10 points]"
   ]
  },
  {
   "cell_type": "markdown",
   "metadata": {},
   "source": [
    "- After choosing your best C value, let's check the learning curve.\n",
    "- Create a logistic regression model of your chosen C value.\n",
    "- Starting from 10 data points in the training set, increase your training set size by 1 points in each iteration, fit the model, get the accuracy scores for both the current training and test sets.\n",
    "- Increase the training set size consecutively. Do not randomly select data points. (`X_train_ss[0:N,:] where N = {1,2,3,...,len(X_train_ss)}`)\n",
    "- Plot the learning curve. What do you see? Comment on your finding. "
   ]
  },
  {
   "cell_type": "code",
   "execution_count": 169,
   "metadata": {
    "ExecuteTime": {
     "end_time": "2023-09-28T16:18:04.474011Z",
     "start_time": "2023-09-28T16:18:04.468117Z"
    }
   },
   "outputs": [
    {
     "data": {
      "text/plain": [
       "(426, 30)"
      ]
     },
     "execution_count": 169,
     "metadata": {},
     "output_type": "execute_result"
    }
   ],
   "source": [
    "X_train_ss.shape"
   ]
  },
  {
   "cell_type": "code",
   "execution_count": 170,
   "metadata": {
    "ExecuteTime": {
     "end_time": "2023-09-28T16:18:05.387141Z",
     "start_time": "2023-09-28T16:18:05.379704Z"
    }
   },
   "outputs": [
    {
     "data": {
      "text/plain": [
       "array([[-0.50323613,  1.73953408, -0.44053352, -0.49664617,  0.53358854,\n",
       "         0.59839524,  0.25384105, -0.07259947,  0.47589812,  0.94655516,\n",
       "         0.01943197,  1.10918571, -0.08331186, -0.11344568,  0.73341644,\n",
       "         0.68332997,  0.17965816,  0.26900086, -0.2116796 ,  0.6599449 ,\n",
       "        -0.12918496,  2.17946516, -0.1622508 , -0.19511526,  1.9967161 ,\n",
       "         1.31027091,  0.79584853,  0.47330699,  0.45100311,  1.90561739]])"
      ]
     },
     "execution_count": 170,
     "metadata": {},
     "output_type": "execute_result"
    }
   ],
   "source": [
    "# list(range(1, X_train_ss.shape[0]))\n",
    "n=1\n",
    "X_train_ss[0:n,:]"
   ]
  },
  {
   "cell_type": "code",
   "execution_count": 171,
   "metadata": {
    "ExecuteTime": {
     "end_time": "2023-09-28T16:18:05.897604Z",
     "start_time": "2023-09-28T16:18:05.889933Z"
    }
   },
   "outputs": [
    {
     "data": {
      "text/plain": [
       "193    1\n",
       "543    0\n",
       "255    1\n",
       "142    0\n",
       "330    1\n",
       "      ..\n",
       "167    1\n",
       "73     1\n",
       "366    1\n",
       "245    0\n",
       "239    1\n",
       "Length: 426, dtype: int64"
      ]
     },
     "execution_count": 171,
     "metadata": {},
     "output_type": "execute_result"
    }
   ],
   "source": [
    "y_train"
   ]
  },
  {
   "cell_type": "code",
   "execution_count": 172,
   "metadata": {
    "ExecuteTime": {
     "end_time": "2023-09-28T16:18:08.361665Z",
     "start_time": "2023-09-28T16:18:07.227289Z"
    }
   },
   "outputs": [],
   "source": [
    "accuracy_train = []\n",
    "accuracy_test = []\n",
    "for n in range(10, X_train_ss.shape[0]):\n",
    "    clf = LogisticRegression(max_iter = 100, solver='lbfgs', penalty='l2', C=0.5, verbose=0)\n",
    "    clf.fit(X_train_ss[0:n,:], y_train[0:n])\n",
    "    pred_trn = clf.predict(X_train_ss[0:n,:])\n",
    "    accuracy_train.append(metrics.accuracy_score(y_true = y_train[0:n], y_pred = pred_trn))\n",
    "    pred_tst = clf.predict(X_test_ss)\n",
    "    accuracy_test.append(metrics.accuracy_score(y_true = y_test, y_pred = pred_tst))"
   ]
  },
  {
   "cell_type": "code",
   "execution_count": 175,
   "metadata": {
    "ExecuteTime": {
     "end_time": "2023-09-28T16:20:04.632702Z",
     "start_time": "2023-09-28T16:20:04.412888Z"
    }
   },
   "outputs": [
    {
     "data": {
      "text/plain": [
       "Text(0.5, 1.0, 'Train Test accuracy of LogisticRegression model - Standardized features with C=.5')"
      ]
     },
     "execution_count": 175,
     "metadata": {},
     "output_type": "execute_result"
    },
    {
     "data": {
      "image/png": "[encoded data removed]",
      "text/plain": [
       "<Figure size 800x500 with 1 Axes>"
      ]
     },
     "metadata": {},
     "output_type": "display_data"
    }
   ],
   "source": [
    "plt.figure(figsize=(8, 5))\n",
    "plt.plot([i for i in range(10, X_train_ss.shape[0])], accuracy_train, label='train_accuracy')\n",
    "plt.plot([i for i in range(10, X_train_ss.shape[0])], accuracy_test, label='test_accuracy')\n",
    "plt.legend()\n",
    "plt.grid()\n",
    "plt.xlabel('Number of points')\n",
    "plt.ylabel('Accuracy')\n",
    "plt.title(\"Train Test accuracy of LogisticRegression model - Standardized features with C=.5\")"
   ]
  },
  {
   "cell_type": "markdown",
   "metadata": {},
   "source": [
    "From the plot above:\n",
    "- The model is performing well with the given data. Although, it might show similar behavior in new data instances.\n",
    "- test_accuracy increases with number of data instances. It might be good to collect more data in order to achieve good accuracy. \n",
    "- However, the accuracy does not improve beyond certain point (.985).\n",
    "- In order to achieve more robust model, it might be good to include more data and do some feature engineering."
   ]
  },
  {
   "cell_type": "code",
   "execution_count": 61,
   "metadata": {},
   "outputs": [
    {
     "data": {
      "image/png": "[encoded data removed]",
      "text/plain": [
       "<Figure size 432x288 with 1 Axes>"
      ]
     },
     "metadata": {
      "needs_background": "light"
     },
     "output_type": "display_data"
    }
   ],
   "source": [
    "# code\n"
   ]
  },
  {
   "cell_type": "markdown",
   "metadata": {
    "tags": []
   },
   "source": [
    "### Question 10 [20 points]\n",
    "- Think of other ways of improving the accuracy and list at least two possibilities.\n",
    "- Implement both the methods you proposed. \n",
    "- Is the model accuracy increasing? Why do you think this might have helped?\n",
    "- If both of them did not impove, can you think of anything else? (Optional to apply)"
   ]
  },
  {
   "cell_type": "markdown",
   "metadata": {},
   "source": [
    "At first we will look at the distribution of features and see how they are distributed"
   ]
  },
  {
   "cell_type": "code",
   "execution_count": 220,
   "metadata": {
    "ExecuteTime": {
     "end_time": "2023-09-28T18:14:40.818260Z",
     "start_time": "2023-09-28T18:14:40.808387Z"
    }
   },
   "outputs": [],
   "source": [
    "plt_df = pd.DataFrame(X_train.stack()).reset_index(drop=False).rename({'level_1':'column', 0:'value'}, axis=1)"
   ]
  },
  {
   "cell_type": "code",
   "execution_count": 221,
   "metadata": {
    "ExecuteTime": {
     "end_time": "2023-09-28T18:14:44.475588Z",
     "start_time": "2023-09-28T18:14:44.469584Z"
    }
   },
   "outputs": [
    {
     "data": {
      "text/plain": [
       "(12780, 3)"
      ]
     },
     "execution_count": 221,
     "metadata": {},
     "output_type": "execute_result"
    }
   ],
   "source": [
    "plt_df.shape"
   ]
  },
  {
   "cell_type": "code",
   "execution_count": 222,
   "metadata": {
    "ExecuteTime": {
     "end_time": "2023-09-28T18:14:46.030112Z",
     "start_time": "2023-09-28T18:14:45.689962Z"
    }
   },
   "outputs": [
    {
     "data": {
      "text/plain": [
       "<Axes: xlabel='value', ylabel='column'>"
      ]
     },
     "execution_count": 222,
     "metadata": {},
     "output_type": "execute_result"
    },
    {
     "data": {
      "image/png": "[encoded data removed]",
      "text/plain": [
       "<Figure size 1000x800 with 1 Axes>"
      ]
     },
     "metadata": {},
     "output_type": "display_data"
    }
   ],
   "source": [
    "plt.figure(figsize=(10, 8))\n",
    "sns.boxplot(y='column', x='value', data=plt_df)"
   ]
  },
  {
   "cell_type": "markdown",
   "metadata": {},
   "source": [
    "As seen above, the model performance is already good. However, it fluctuates for new data instances (between 0.98-0.99). This is a sign that the model has not generalized well on all possible data instances. \n",
    "\n",
    "In order to further improve the model accuracy, it might be good to try out one of the following techniques:\n",
    "1. **Outlier handling** - removing or treating outliers correctly. Since, we're using logistic regression model, it is very sensitive to outliers given that it's a linear model. This can lead to lower accuracy. Treating the outliers by removing it or replacing it with mean/median to remove noise from the data and improve the accuracy of the model.\n",
    "2. **feature engineering** - it might be good to perform some feature engineering of the existing features and see the performance. \n",
    "3. **p-value of features** - Looks like linear model is performing well on this dataset rather than non-linear one. It might be good to check the p-values of features and remove non-significant features from the dataset. Also, it will help us in incorporating interaction terms in the model."
   ]
  },
  {
   "cell_type": "markdown",
   "metadata": {},
   "source": [
    "## Outlier handling"
   ]
  },
  {
   "cell_type": "markdown",
   "metadata": {},
   "source": [
    "From the distribution plot above, almost all the features have outliers. There might be few instances which has different bevahior than normal. \n",
    "\n",
    "We will remove these outlier instances from the dataset and check model performance."
   ]
  },
  {
   "cell_type": "markdown",
   "metadata": {
    "ExecuteTime": {
     "end_time": "2023-09-28T18:08:35.059737Z",
     "start_time": "2023-09-28T18:08:35.055065Z"
    }
   },
   "source": [
    "We will use IQR technique to remove such outliers."
   ]
  },
  {
   "cell_type": "markdown",
   "metadata": {},
   "source": [
    "This technique will define the normal range of a feature, ignoring the data points that lie beyond +/- 1.5 times of inter quartile range"
   ]
  },
  {
   "cell_type": "code",
   "execution_count": 253,
   "metadata": {
    "ExecuteTime": {
     "end_time": "2023-09-28T18:21:28.441939Z",
     "start_time": "2023-09-28T18:21:28.436877Z"
    }
   },
   "outputs": [],
   "source": [
    "col = 'worst area'"
   ]
  },
  {
   "cell_type": "code",
   "execution_count": 254,
   "metadata": {
    "ExecuteTime": {
     "end_time": "2023-09-28T18:21:28.460079Z",
     "start_time": "2023-09-28T18:21:28.446452Z"
    }
   },
   "outputs": [],
   "source": [
    "q1 = X_train[col].quantile(0.25)\n",
    "q3 = X_train[col].quantile(0.75)"
   ]
  },
  {
   "cell_type": "code",
   "execution_count": 255,
   "metadata": {
    "ExecuteTime": {
     "end_time": "2023-09-28T18:21:28.468712Z",
     "start_time": "2023-09-28T18:21:28.464215Z"
    }
   },
   "outputs": [],
   "source": [
    "iqr = q3-q1"
   ]
  },
  {
   "cell_type": "code",
   "execution_count": 256,
   "metadata": {
    "ExecuteTime": {
     "end_time": "2023-09-28T18:21:28.479298Z",
     "start_time": "2023-09-28T18:21:28.472114Z"
    }
   },
   "outputs": [],
   "source": [
    "new_X_train = X_train[((X_train[col]) > (q1 - 1.5*iqr)) & \n",
    "                     ((X_train[col]) < (q3 + 1.5*iqr))]"
   ]
  },
  {
   "cell_type": "code",
   "execution_count": 257,
   "metadata": {
    "ExecuteTime": {
     "end_time": "2023-09-28T18:21:28.488385Z",
     "start_time": "2023-09-28T18:21:28.483409Z"
    }
   },
   "outputs": [
    {
     "name": "stdout",
     "output_type": "stream",
     "text": [
      "(426, 30) (400, 30)\n"
     ]
    }
   ],
   "source": [
    "print(X_train.shape, new_X_train.shape)"
   ]
  },
  {
   "cell_type": "markdown",
   "metadata": {},
   "source": [
    "Now, we will build a model on new dataset."
   ]
  },
  {
   "cell_type": "code",
   "execution_count": 258,
   "metadata": {
    "ExecuteTime": {
     "end_time": "2023-09-28T18:21:28.531799Z",
     "start_time": "2023-09-28T18:21:28.491605Z"
    }
   },
   "outputs": [
    {
     "data": {
      "text/html": [
       "<div>\n",
       "<style scoped>\n",
       "    .dataframe tbody tr th:only-of-type {\n",
       "        vertical-align: middle;\n",
       "    }\n",
       "\n",
       "    .dataframe tbody tr th {\n",
       "        vertical-align: top;\n",
       "    }\n",
       "\n",
       "    .dataframe thead th {\n",
       "        text-align: right;\n",
       "    }\n",
       "</style>\n",
       "<table border=\"1\" class=\"dataframe\">\n",
       "  <thead>\n",
       "    <tr style=\"text-align: right;\">\n",
       "      <th></th>\n",
       "      <th>mean radius</th>\n",
       "      <th>mean texture</th>\n",
       "      <th>mean perimeter</th>\n",
       "      <th>mean area</th>\n",
       "      <th>mean smoothness</th>\n",
       "      <th>mean compactness</th>\n",
       "      <th>mean concavity</th>\n",
       "      <th>mean concave points</th>\n",
       "      <th>mean symmetry</th>\n",
       "      <th>mean fractal dimension</th>\n",
       "      <th>radius error</th>\n",
       "      <th>texture error</th>\n",
       "      <th>perimeter error</th>\n",
       "      <th>area error</th>\n",
       "      <th>smoothness error</th>\n",
       "      <th>compactness error</th>\n",
       "      <th>concavity error</th>\n",
       "      <th>concave points error</th>\n",
       "      <th>symmetry error</th>\n",
       "      <th>fractal dimension error</th>\n",
       "      <th>worst radius</th>\n",
       "      <th>worst texture</th>\n",
       "      <th>worst perimeter</th>\n",
       "      <th>worst area</th>\n",
       "      <th>worst smoothness</th>\n",
       "      <th>worst compactness</th>\n",
       "      <th>worst concavity</th>\n",
       "      <th>worst concave points</th>\n",
       "      <th>worst symmetry</th>\n",
       "      <th>worst fractal dimension</th>\n",
       "    </tr>\n",
       "  </thead>\n",
       "  <tbody>\n",
       "    <tr>\n",
       "      <th>193</th>\n",
       "      <td>12.34</td>\n",
       "      <td>26.86</td>\n",
       "      <td>81.15</td>\n",
       "      <td>477.4</td>\n",
       "      <td>0.10340</td>\n",
       "      <td>0.13530</td>\n",
       "      <td>0.10850</td>\n",
       "      <td>0.04562</td>\n",
       "      <td>0.1943</td>\n",
       "      <td>0.06937</td>\n",
       "      <td>0.4053</td>\n",
       "      <td>1.8090</td>\n",
       "      <td>2.642</td>\n",
       "      <td>34.44</td>\n",
       "      <td>0.009098</td>\n",
       "      <td>0.03845</td>\n",
       "      <td>0.03763</td>\n",
       "      <td>0.013210</td>\n",
       "      <td>0.01878</td>\n",
       "      <td>0.005672</td>\n",
       "      <td>15.65</td>\n",
       "      <td>39.34</td>\n",
       "      <td>101.70</td>\n",
       "      <td>768.9</td>\n",
       "      <td>0.1785</td>\n",
       "      <td>0.4706</td>\n",
       "      <td>0.44250</td>\n",
       "      <td>0.14590</td>\n",
       "      <td>0.3215</td>\n",
       "      <td>0.12050</td>\n",
       "    </tr>\n",
       "    <tr>\n",
       "      <th>543</th>\n",
       "      <td>13.21</td>\n",
       "      <td>28.06</td>\n",
       "      <td>84.88</td>\n",
       "      <td>538.4</td>\n",
       "      <td>0.08671</td>\n",
       "      <td>0.06877</td>\n",
       "      <td>0.02987</td>\n",
       "      <td>0.03275</td>\n",
       "      <td>0.1628</td>\n",
       "      <td>0.05781</td>\n",
       "      <td>0.2351</td>\n",
       "      <td>1.5970</td>\n",
       "      <td>1.539</td>\n",
       "      <td>17.85</td>\n",
       "      <td>0.004973</td>\n",
       "      <td>0.01372</td>\n",
       "      <td>0.01498</td>\n",
       "      <td>0.009117</td>\n",
       "      <td>0.01724</td>\n",
       "      <td>0.001343</td>\n",
       "      <td>14.37</td>\n",
       "      <td>37.17</td>\n",
       "      <td>92.48</td>\n",
       "      <td>629.6</td>\n",
       "      <td>0.1072</td>\n",
       "      <td>0.1381</td>\n",
       "      <td>0.10620</td>\n",
       "      <td>0.07958</td>\n",
       "      <td>0.2473</td>\n",
       "      <td>0.06443</td>\n",
       "    </tr>\n",
       "    <tr>\n",
       "      <th>255</th>\n",
       "      <td>13.96</td>\n",
       "      <td>17.05</td>\n",
       "      <td>91.43</td>\n",
       "      <td>602.4</td>\n",
       "      <td>0.10960</td>\n",
       "      <td>0.12790</td>\n",
       "      <td>0.09789</td>\n",
       "      <td>0.05246</td>\n",
       "      <td>0.1908</td>\n",
       "      <td>0.06130</td>\n",
       "      <td>0.4250</td>\n",
       "      <td>0.8098</td>\n",
       "      <td>2.563</td>\n",
       "      <td>35.74</td>\n",
       "      <td>0.006351</td>\n",
       "      <td>0.02679</td>\n",
       "      <td>0.03119</td>\n",
       "      <td>0.013420</td>\n",
       "      <td>0.02062</td>\n",
       "      <td>0.002695</td>\n",
       "      <td>16.39</td>\n",
       "      <td>22.07</td>\n",
       "      <td>108.10</td>\n",
       "      <td>826.0</td>\n",
       "      <td>0.1512</td>\n",
       "      <td>0.3262</td>\n",
       "      <td>0.32090</td>\n",
       "      <td>0.13740</td>\n",
       "      <td>0.3068</td>\n",
       "      <td>0.07957</td>\n",
       "    </tr>\n",
       "    <tr>\n",
       "      <th>142</th>\n",
       "      <td>11.43</td>\n",
       "      <td>17.31</td>\n",
       "      <td>73.66</td>\n",
       "      <td>398.0</td>\n",
       "      <td>0.10920</td>\n",
       "      <td>0.09486</td>\n",
       "      <td>0.02031</td>\n",
       "      <td>0.01861</td>\n",
       "      <td>0.1645</td>\n",
       "      <td>0.06562</td>\n",
       "      <td>0.2843</td>\n",
       "      <td>1.9080</td>\n",
       "      <td>1.937</td>\n",
       "      <td>21.38</td>\n",
       "      <td>0.006664</td>\n",
       "      <td>0.01735</td>\n",
       "      <td>0.01158</td>\n",
       "      <td>0.009520</td>\n",
       "      <td>0.02282</td>\n",
       "      <td>0.003526</td>\n",
       "      <td>12.78</td>\n",
       "      <td>26.76</td>\n",
       "      <td>82.66</td>\n",
       "      <td>503.0</td>\n",
       "      <td>0.1413</td>\n",
       "      <td>0.1792</td>\n",
       "      <td>0.07708</td>\n",
       "      <td>0.06402</td>\n",
       "      <td>0.2584</td>\n",
       "      <td>0.08096</td>\n",
       "    </tr>\n",
       "    <tr>\n",
       "      <th>330</th>\n",
       "      <td>16.03</td>\n",
       "      <td>15.51</td>\n",
       "      <td>105.80</td>\n",
       "      <td>793.2</td>\n",
       "      <td>0.09491</td>\n",
       "      <td>0.13710</td>\n",
       "      <td>0.12040</td>\n",
       "      <td>0.07041</td>\n",
       "      <td>0.1782</td>\n",
       "      <td>0.05976</td>\n",
       "      <td>0.3371</td>\n",
       "      <td>0.7476</td>\n",
       "      <td>2.629</td>\n",
       "      <td>33.27</td>\n",
       "      <td>0.005839</td>\n",
       "      <td>0.03245</td>\n",
       "      <td>0.03715</td>\n",
       "      <td>0.014590</td>\n",
       "      <td>0.01467</td>\n",
       "      <td>0.003121</td>\n",
       "      <td>18.76</td>\n",
       "      <td>21.98</td>\n",
       "      <td>124.30</td>\n",
       "      <td>1070.0</td>\n",
       "      <td>0.1435</td>\n",
       "      <td>0.4478</td>\n",
       "      <td>0.49560</td>\n",
       "      <td>0.19810</td>\n",
       "      <td>0.3019</td>\n",
       "      <td>0.09124</td>\n",
       "    </tr>\n",
       "    <tr>\n",
       "      <th>...</th>\n",
       "      <td>...</td>\n",
       "      <td>...</td>\n",
       "      <td>...</td>\n",
       "      <td>...</td>\n",
       "      <td>...</td>\n",
       "      <td>...</td>\n",
       "      <td>...</td>\n",
       "      <td>...</td>\n",
       "      <td>...</td>\n",
       "      <td>...</td>\n",
       "      <td>...</td>\n",
       "      <td>...</td>\n",
       "      <td>...</td>\n",
       "      <td>...</td>\n",
       "      <td>...</td>\n",
       "      <td>...</td>\n",
       "      <td>...</td>\n",
       "      <td>...</td>\n",
       "      <td>...</td>\n",
       "      <td>...</td>\n",
       "      <td>...</td>\n",
       "      <td>...</td>\n",
       "      <td>...</td>\n",
       "      <td>...</td>\n",
       "      <td>...</td>\n",
       "      <td>...</td>\n",
       "      <td>...</td>\n",
       "      <td>...</td>\n",
       "      <td>...</td>\n",
       "      <td>...</td>\n",
       "    </tr>\n",
       "    <tr>\n",
       "      <th>167</th>\n",
       "      <td>16.78</td>\n",
       "      <td>18.80</td>\n",
       "      <td>109.30</td>\n",
       "      <td>886.3</td>\n",
       "      <td>0.08865</td>\n",
       "      <td>0.09182</td>\n",
       "      <td>0.08422</td>\n",
       "      <td>0.06576</td>\n",
       "      <td>0.1893</td>\n",
       "      <td>0.05534</td>\n",
       "      <td>0.5990</td>\n",
       "      <td>1.3910</td>\n",
       "      <td>4.129</td>\n",
       "      <td>67.34</td>\n",
       "      <td>0.006123</td>\n",
       "      <td>0.02470</td>\n",
       "      <td>0.02626</td>\n",
       "      <td>0.016040</td>\n",
       "      <td>0.02091</td>\n",
       "      <td>0.003493</td>\n",
       "      <td>20.05</td>\n",
       "      <td>26.30</td>\n",
       "      <td>130.70</td>\n",
       "      <td>1260.0</td>\n",
       "      <td>0.1168</td>\n",
       "      <td>0.2119</td>\n",
       "      <td>0.23180</td>\n",
       "      <td>0.14740</td>\n",
       "      <td>0.2810</td>\n",
       "      <td>0.07228</td>\n",
       "    </tr>\n",
       "    <tr>\n",
       "      <th>73</th>\n",
       "      <td>13.80</td>\n",
       "      <td>15.79</td>\n",
       "      <td>90.43</td>\n",
       "      <td>584.1</td>\n",
       "      <td>0.10070</td>\n",
       "      <td>0.12800</td>\n",
       "      <td>0.07789</td>\n",
       "      <td>0.05069</td>\n",
       "      <td>0.1662</td>\n",
       "      <td>0.06566</td>\n",
       "      <td>0.2787</td>\n",
       "      <td>0.6205</td>\n",
       "      <td>1.957</td>\n",
       "      <td>23.35</td>\n",
       "      <td>0.004717</td>\n",
       "      <td>0.02065</td>\n",
       "      <td>0.01759</td>\n",
       "      <td>0.009206</td>\n",
       "      <td>0.01220</td>\n",
       "      <td>0.003130</td>\n",
       "      <td>16.57</td>\n",
       "      <td>20.86</td>\n",
       "      <td>110.30</td>\n",
       "      <td>812.4</td>\n",
       "      <td>0.1411</td>\n",
       "      <td>0.3542</td>\n",
       "      <td>0.27790</td>\n",
       "      <td>0.13830</td>\n",
       "      <td>0.2589</td>\n",
       "      <td>0.10300</td>\n",
       "    </tr>\n",
       "    <tr>\n",
       "      <th>366</th>\n",
       "      <td>20.20</td>\n",
       "      <td>26.83</td>\n",
       "      <td>133.70</td>\n",
       "      <td>1234.0</td>\n",
       "      <td>0.09905</td>\n",
       "      <td>0.16690</td>\n",
       "      <td>0.16410</td>\n",
       "      <td>0.12650</td>\n",
       "      <td>0.1875</td>\n",
       "      <td>0.06020</td>\n",
       "      <td>0.9761</td>\n",
       "      <td>1.8920</td>\n",
       "      <td>7.128</td>\n",
       "      <td>103.60</td>\n",
       "      <td>0.008439</td>\n",
       "      <td>0.04674</td>\n",
       "      <td>0.05904</td>\n",
       "      <td>0.025360</td>\n",
       "      <td>0.03710</td>\n",
       "      <td>0.004286</td>\n",
       "      <td>24.19</td>\n",
       "      <td>33.81</td>\n",
       "      <td>160.00</td>\n",
       "      <td>1671.0</td>\n",
       "      <td>0.1278</td>\n",
       "      <td>0.3416</td>\n",
       "      <td>0.37030</td>\n",
       "      <td>0.21520</td>\n",
       "      <td>0.3271</td>\n",
       "      <td>0.07632</td>\n",
       "    </tr>\n",
       "    <tr>\n",
       "      <th>245</th>\n",
       "      <td>10.48</td>\n",
       "      <td>19.86</td>\n",
       "      <td>66.72</td>\n",
       "      <td>337.7</td>\n",
       "      <td>0.10700</td>\n",
       "      <td>0.05971</td>\n",
       "      <td>0.04831</td>\n",
       "      <td>0.03070</td>\n",
       "      <td>0.1737</td>\n",
       "      <td>0.06440</td>\n",
       "      <td>0.3719</td>\n",
       "      <td>2.6120</td>\n",
       "      <td>2.517</td>\n",
       "      <td>23.22</td>\n",
       "      <td>0.016040</td>\n",
       "      <td>0.01386</td>\n",
       "      <td>0.01865</td>\n",
       "      <td>0.011330</td>\n",
       "      <td>0.03476</td>\n",
       "      <td>0.003560</td>\n",
       "      <td>11.48</td>\n",
       "      <td>29.46</td>\n",
       "      <td>73.68</td>\n",
       "      <td>402.8</td>\n",
       "      <td>0.1515</td>\n",
       "      <td>0.1026</td>\n",
       "      <td>0.11810</td>\n",
       "      <td>0.06736</td>\n",
       "      <td>0.2883</td>\n",
       "      <td>0.07748</td>\n",
       "    </tr>\n",
       "    <tr>\n",
       "      <th>239</th>\n",
       "      <td>17.46</td>\n",
       "      <td>39.28</td>\n",
       "      <td>113.40</td>\n",
       "      <td>920.6</td>\n",
       "      <td>0.09812</td>\n",
       "      <td>0.12980</td>\n",
       "      <td>0.14170</td>\n",
       "      <td>0.08811</td>\n",
       "      <td>0.1809</td>\n",
       "      <td>0.05966</td>\n",
       "      <td>0.5366</td>\n",
       "      <td>0.8561</td>\n",
       "      <td>3.002</td>\n",
       "      <td>49.00</td>\n",
       "      <td>0.004860</td>\n",
       "      <td>0.02785</td>\n",
       "      <td>0.02602</td>\n",
       "      <td>0.013740</td>\n",
       "      <td>0.01226</td>\n",
       "      <td>0.002759</td>\n",
       "      <td>22.51</td>\n",
       "      <td>44.87</td>\n",
       "      <td>141.20</td>\n",
       "      <td>1408.0</td>\n",
       "      <td>0.1365</td>\n",
       "      <td>0.3735</td>\n",
       "      <td>0.32410</td>\n",
       "      <td>0.20660</td>\n",
       "      <td>0.2853</td>\n",
       "      <td>0.08496</td>\n",
       "    </tr>\n",
       "  </tbody>\n",
       "</table>\n",
       "<p>426 rows × 30 columns</p>\n",
       "</div>"
      ],
      "text/plain": [
       "     mean radius  mean texture  mean perimeter  mean area  mean smoothness  \\\n",
       "193        12.34         26.86           81.15      477.4          0.10340   \n",
       "543        13.21         28.06           84.88      538.4          0.08671   \n",
       "255        13.96         17.05           91.43      602.4          0.10960   \n",
       "142        11.43         17.31           73.66      398.0          0.10920   \n",
       "330        16.03         15.51          105.80      793.2          0.09491   \n",
       "..           ...           ...             ...        ...              ...   \n",
       "167        16.78         18.80          109.30      886.3          0.08865   \n",
       "73         13.80         15.79           90.43      584.1          0.10070   \n",
       "366        20.20         26.83          133.70     1234.0          0.09905   \n",
       "245        10.48         19.86           66.72      337.7          0.10700   \n",
       "239        17.46         39.28          113.40      920.6          0.09812   \n",
       "\n",
       "     mean compactness  mean concavity  mean concave points  mean symmetry  \\\n",
       "193           0.13530         0.10850              0.04562         0.1943   \n",
       "543           0.06877         0.02987              0.03275         0.1628   \n",
       "255           0.12790         0.09789              0.05246         0.1908   \n",
       "142           0.09486         0.02031              0.01861         0.1645   \n",
       "330           0.13710         0.12040              0.07041         0.1782   \n",
       "..                ...             ...                  ...            ...   \n",
       "167           0.09182         0.08422              0.06576         0.1893   \n",
       "73            0.12800         0.07789              0.05069         0.1662   \n",
       "366           0.16690         0.16410              0.12650         0.1875   \n",
       "245           0.05971         0.04831              0.03070         0.1737   \n",
       "239           0.12980         0.14170              0.08811         0.1809   \n",
       "\n",
       "     mean fractal dimension  radius error  texture error  perimeter error  \\\n",
       "193                 0.06937        0.4053         1.8090            2.642   \n",
       "543                 0.05781        0.2351         1.5970            1.539   \n",
       "255                 0.06130        0.4250         0.8098            2.563   \n",
       "142                 0.06562        0.2843         1.9080            1.937   \n",
       "330                 0.05976        0.3371         0.7476            2.629   \n",
       "..                      ...           ...            ...              ...   \n",
       "167                 0.05534        0.5990         1.3910            4.129   \n",
       "73                  0.06566        0.2787         0.6205            1.957   \n",
       "366                 0.06020        0.9761         1.8920            7.128   \n",
       "245                 0.06440        0.3719         2.6120            2.517   \n",
       "239                 0.05966        0.5366         0.8561            3.002   \n",
       "\n",
       "     area error  smoothness error  compactness error  concavity error  \\\n",
       "193       34.44          0.009098            0.03845          0.03763   \n",
       "543       17.85          0.004973            0.01372          0.01498   \n",
       "255       35.74          0.006351            0.02679          0.03119   \n",
       "142       21.38          0.006664            0.01735          0.01158   \n",
       "330       33.27          0.005839            0.03245          0.03715   \n",
       "..          ...               ...                ...              ...   \n",
       "167       67.34          0.006123            0.02470          0.02626   \n",
       "73        23.35          0.004717            0.02065          0.01759   \n",
       "366      103.60          0.008439            0.04674          0.05904   \n",
       "245       23.22          0.016040            0.01386          0.01865   \n",
       "239       49.00          0.004860            0.02785          0.02602   \n",
       "\n",
       "     concave points error  symmetry error  fractal dimension error  \\\n",
       "193              0.013210         0.01878                 0.005672   \n",
       "543              0.009117         0.01724                 0.001343   \n",
       "255              0.013420         0.02062                 0.002695   \n",
       "142              0.009520         0.02282                 0.003526   \n",
       "330              0.014590         0.01467                 0.003121   \n",
       "..                    ...             ...                      ...   \n",
       "167              0.016040         0.02091                 0.003493   \n",
       "73               0.009206         0.01220                 0.003130   \n",
       "366              0.025360         0.03710                 0.004286   \n",
       "245              0.011330         0.03476                 0.003560   \n",
       "239              0.013740         0.01226                 0.002759   \n",
       "\n",
       "     worst radius  worst texture  worst perimeter  worst area  \\\n",
       "193         15.65          39.34           101.70       768.9   \n",
       "543         14.37          37.17            92.48       629.6   \n",
       "255         16.39          22.07           108.10       826.0   \n",
       "142         12.78          26.76            82.66       503.0   \n",
       "330         18.76          21.98           124.30      1070.0   \n",
       "..            ...            ...              ...         ...   \n",
       "167         20.05          26.30           130.70      1260.0   \n",
       "73          16.57          20.86           110.30       812.4   \n",
       "366         24.19          33.81           160.00      1671.0   \n",
       "245         11.48          29.46            73.68       402.8   \n",
       "239         22.51          44.87           141.20      1408.0   \n",
       "\n",
       "     worst smoothness  worst compactness  worst concavity  \\\n",
       "193            0.1785             0.4706          0.44250   \n",
       "543            0.1072             0.1381          0.10620   \n",
       "255            0.1512             0.3262          0.32090   \n",
       "142            0.1413             0.1792          0.07708   \n",
       "330            0.1435             0.4478          0.49560   \n",
       "..                ...                ...              ...   \n",
       "167            0.1168             0.2119          0.23180   \n",
       "73             0.1411             0.3542          0.27790   \n",
       "366            0.1278             0.3416          0.37030   \n",
       "245            0.1515             0.1026          0.11810   \n",
       "239            0.1365             0.3735          0.32410   \n",
       "\n",
       "     worst concave points  worst symmetry  worst fractal dimension  \n",
       "193               0.14590          0.3215                  0.12050  \n",
       "543               0.07958          0.2473                  0.06443  \n",
       "255               0.13740          0.3068                  0.07957  \n",
       "142               0.06402          0.2584                  0.08096  \n",
       "330               0.19810          0.3019                  0.09124  \n",
       "..                    ...             ...                      ...  \n",
       "167               0.14740          0.2810                  0.07228  \n",
       "73                0.13830          0.2589                  0.10300  \n",
       "366               0.21520          0.3271                  0.07632  \n",
       "245               0.06736          0.2883                  0.07748  \n",
       "239               0.20660          0.2853                  0.08496  \n",
       "\n",
       "[426 rows x 30 columns]"
      ]
     },
     "execution_count": 258,
     "metadata": {},
     "output_type": "execute_result"
    }
   ],
   "source": [
    "X_train"
   ]
  },
  {
   "cell_type": "code",
   "execution_count": 259,
   "metadata": {
    "ExecuteTime": {
     "end_time": "2023-09-28T18:21:28.539834Z",
     "start_time": "2023-09-28T18:21:28.534427Z"
    }
   },
   "outputs": [],
   "source": [
    "new_y_train = y_train[y_train.index.isin(new_X_train.index)]"
   ]
  },
  {
   "cell_type": "code",
   "execution_count": 260,
   "metadata": {
    "ExecuteTime": {
     "end_time": "2023-09-28T18:21:28.553567Z",
     "start_time": "2023-09-28T18:21:28.543542Z"
    }
   },
   "outputs": [],
   "source": [
    "ss = preprocessing.StandardScaler()\n",
    "X_train_ss = ss.fit_transform(new_X_train)\n",
    "X_test_ss = ss.transform(X_test)"
   ]
  },
  {
   "cell_type": "code",
   "execution_count": 266,
   "metadata": {
    "ExecuteTime": {
     "end_time": "2023-09-28T18:23:07.187979Z",
     "start_time": "2023-09-28T18:23:06.118262Z"
    }
   },
   "outputs": [],
   "source": [
    "accuracy_train = []\n",
    "accuracy_test = []\n",
    "for n in range(10, X_train_ss.shape[0]):\n",
    "    clf = LogisticRegression(max_iter = 100, solver='lbfgs', penalty='l2', C=0.5, verbose=0)\n",
    "    clf.fit(X_train_ss[0:n,:], new_y_train[0:n])\n",
    "    pred_trn = clf.predict(X_train_ss[0:n,:])\n",
    "    accuracy_train.append(metrics.accuracy_score(y_true = new_y_train[0:n], y_pred = pred_trn))\n",
    "    pred_tst = clf.predict(X_test_ss)\n",
    "    accuracy_test.append(metrics.accuracy_score(y_true = y_test, y_pred = pred_tst))"
   ]
  },
  {
   "cell_type": "code",
   "execution_count": 268,
   "metadata": {
    "ExecuteTime": {
     "end_time": "2023-09-28T18:23:29.579946Z",
     "start_time": "2023-09-28T18:23:29.331361Z"
    }
   },
   "outputs": [
    {
     "data": {
      "text/plain": [
       "Text(0.5, 1.0, 'Train Test accuracy of LogisticRegression model - Standardized features with C=.5 (without Outliers)')"
      ]
     },
     "execution_count": 268,
     "metadata": {},
     "output_type": "execute_result"
    },
    {
     "data": {
      "image/png": "[encoded data removed]",
      "text/plain": [
       "<Figure size 800x500 with 1 Axes>"
      ]
     },
     "metadata": {},
     "output_type": "display_data"
    }
   ],
   "source": [
    "plt.figure(figsize=(8, 5))\n",
    "plt.plot([i for i in range(10, X_train_ss.shape[0])], accuracy_train, label='train_accuracy')\n",
    "plt.plot([i for i in range(10, X_train_ss.shape[0])], accuracy_test, label='test_accuracy')\n",
    "plt.legend()\n",
    "plt.grid()\n",
    "plt.xlabel('Number of points')\n",
    "plt.ylabel('Accuracy')\n",
    "plt.title(\"Train Test accuracy of LogisticRegression model - Standardized features with C=.5 (without Outliers)\")"
   ]
  },
  {
   "cell_type": "markdown",
   "metadata": {},
   "source": [
    "*Model is showing similar behavior as before. The accuracy has not improved*"
   ]
  },
  {
   "cell_type": "markdown",
   "metadata": {},
   "source": [
    "## p-value of features/feature engineering/feature selection"
   ]
  },
  {
   "cell_type": "markdown",
   "metadata": {},
   "source": [
    "Now, we will try to look at p-values of features using `statsmodel` package. \n",
    "\n",
    "`statsmodel` shows the regression model summary including p-values, f-statistics of model. This will give us a clear picutre on which features are significant and choose features accordingly."
   ]
  },
  {
   "cell_type": "code",
   "execution_count": 279,
   "metadata": {
    "ExecuteTime": {
     "end_time": "2023-09-28T18:33:08.373206Z",
     "start_time": "2023-09-28T18:33:08.369467Z"
    }
   },
   "outputs": [],
   "source": [
    "import statsmodels.formula.api as smf"
   ]
  },
  {
   "cell_type": "code",
   "execution_count": 289,
   "metadata": {
    "ExecuteTime": {
     "end_time": "2023-09-28T18:35:08.919708Z",
     "start_time": "2023-09-28T18:35:08.915222Z"
    }
   },
   "outputs": [],
   "source": [
    "logit_df = pd.DataFrame(X_train_ss)"
   ]
  },
  {
   "cell_type": "code",
   "execution_count": 290,
   "metadata": {
    "ExecuteTime": {
     "end_time": "2023-09-28T18:35:09.136752Z",
     "start_time": "2023-09-28T18:35:09.129773Z"
    }
   },
   "outputs": [],
   "source": [
    "logit_df.columns = ['mean radius', 'mean texture', 'mean perimeter', 'mean area',\n",
    "       'mean smoothness', 'mean compactness', 'mean concavity',\n",
    "       'mean concave points', 'mean symmetry', 'mean fractal dimension',\n",
    "       'radius error', 'texture error', 'perimeter error', 'area error',\n",
    "       'smoothness error', 'compactness error', 'concavity error',\n",
    "       'concave points error', 'symmetry error', 'fractal dimension error',\n",
    "       'worst radius', 'worst texture', 'worst perimeter', 'worst area',\n",
    "       'worst smoothness', 'worst compactness', 'worst concavity',\n",
    "       'worst concave points', 'worst symmetry', 'worst fractal dimension']"
   ]
  },
  {
   "cell_type": "code",
   "execution_count": 303,
   "metadata": {
    "ExecuteTime": {
     "end_time": "2023-09-28T18:37:25.595420Z",
     "start_time": "2023-09-28T18:37:25.587461Z"
    }
   },
   "outputs": [
    {
     "data": {
      "text/plain": [
       "['mean radius',\n",
       " 'mean texture',\n",
       " 'mean perimeter',\n",
       " 'mean area',\n",
       " 'mean smoothness',\n",
       " 'mean compactness',\n",
       " 'mean concavity',\n",
       " 'mean concave points',\n",
       " 'mean symmetry',\n",
       " 'mean fractal dimension',\n",
       " 'radius error',\n",
       " 'texture error',\n",
       " 'perimeter error',\n",
       " 'area error',\n",
       " 'smoothness error',\n",
       " 'compactness error',\n",
       " 'concavity error',\n",
       " 'concave points error',\n",
       " 'symmetry error',\n",
       " 'fractal dimension error',\n",
       " 'worst radius',\n",
       " 'worst texture',\n",
       " 'worst perimeter',\n",
       " 'worst area',\n",
       " 'worst smoothness',\n",
       " 'worst compactness',\n",
       " 'worst concavity',\n",
       " 'worst concave points',\n",
       " 'worst symmetry',\n",
       " 'worst fractal dimension',\n",
       " 'target']"
      ]
     },
     "execution_count": 303,
     "metadata": {},
     "output_type": "execute_result"
    }
   ],
   "source": [
    "[i for i in logit_df.columns]"
   ]
  },
  {
   "cell_type": "code",
   "execution_count": 291,
   "metadata": {
    "ExecuteTime": {
     "end_time": "2023-09-28T18:35:09.308260Z",
     "start_time": "2023-09-28T18:35:09.301071Z"
    }
   },
   "outputs": [],
   "source": [
    "logit_df['target'] = new_y_train"
   ]
  },
  {
   "cell_type": "code",
   "execution_count": 296,
   "metadata": {
    "ExecuteTime": {
     "end_time": "2023-09-28T18:36:29.061042Z",
     "start_time": "2023-09-28T18:36:29.053945Z"
    }
   },
   "outputs": [
    {
     "data": {
      "text/plain": [
       "\"'mean radius', 'mean texture', 'mean perimeter', 'mean area',\\n'mean smoothness', 'mean compactness', 'mean concavity',\\n'mean concave points', 'mean symmetry', 'mean fractal dimension',\\n'radius error', 'texture error', 'perimeter error', 'area error',\\n'smoothness error', 'compactness error', 'concavity error',\\n'concave points error', 'symmetry error', 'fractal dimension error',\\n'worst radius', 'worst texture', 'worst perimeter', 'worst area',\\n'worst smoothness', 'worst compactness', 'worst concavity',\\n'worst concave points', 'worst symmetry', 'worst fractal dimension'\""
      ]
     },
     "execution_count": 296,
     "metadata": {},
     "output_type": "execute_result"
    }
   ],
   "source": [
    "log"
   ]
  },
  {
   "cell_type": "code",
   "execution_count": 282,
   "metadata": {
    "ExecuteTime": {
     "end_time": "2023-09-28T18:33:16.514149Z",
     "start_time": "2023-09-28T18:33:16.496940Z"
    },
    "scrolled": true
   },
   "outputs": [
    {
     "ename": "SyntaxError",
     "evalue": "invalid syntax (<unknown>, line 1)",
     "output_type": "error",
     "traceback": [
      "Traceback \u001b[0;36m(most recent call last)\u001b[0m:\n",
      "\u001b[0m  File \u001b[1;32m~/miniconda3/envs/py310/lib/python3.10/site-packages/IPython/core/interactiveshell.py:3508\u001b[0m in \u001b[1;35mrun_code\u001b[0m\n    exec(code_obj, self.user_global_ns, self.user_ns)\u001b[0m\n",
      "\u001b[0m  Cell \u001b[1;32mIn[282], line 2\u001b[0m\n    log_reg = smf.logit(\"target ~ .\", data=logit_df).fit()\u001b[0m\n",
      "\u001b[0m  File \u001b[1;32m~/miniconda3/envs/py310/lib/python3.10/site-packages/statsmodels/base/model.py:203\u001b[0m in \u001b[1;35mfrom_formula\u001b[0m\n    tmp = handle_formula_data(data, None, formula, depth=eval_env,\u001b[0m\n",
      "\u001b[0m  File \u001b[1;32m~/miniconda3/envs/py310/lib/python3.10/site-packages/statsmodels/formula/formulatools.py:63\u001b[0m in \u001b[1;35mhandle_formula_data\u001b[0m\n    result = dmatrices(formula, Y, depth, return_type='dataframe',\u001b[0m\n",
      "\u001b[0m  File \u001b[1;32m~/miniconda3/envs/py310/lib/python3.10/site-packages/patsy/highlevel.py:309\u001b[0m in \u001b[1;35mdmatrices\u001b[0m\n    (lhs, rhs) = _do_highlevel_design(formula_like, data, eval_env,\u001b[0m\n",
      "\u001b[0m  File \u001b[1;32m~/miniconda3/envs/py310/lib/python3.10/site-packages/patsy/highlevel.py:164\u001b[0m in \u001b[1;35m_do_highlevel_design\u001b[0m\n    design_infos = _try_incr_builders(formula_like, data_iter_maker, eval_env,\u001b[0m\n",
      "\u001b[0m  File \u001b[1;32m~/miniconda3/envs/py310/lib/python3.10/site-packages/patsy/highlevel.py:66\u001b[0m in \u001b[1;35m_try_incr_builders\u001b[0m\n    return design_matrix_builders([formula_like.lhs_termlist,\u001b[0m\n",
      "\u001b[0m  File \u001b[1;32m~/miniconda3/envs/py310/lib/python3.10/site-packages/patsy/build.py:689\u001b[0m in \u001b[1;35mdesign_matrix_builders\u001b[0m\n    factor_states = _factors_memorize(all_factors, data_iter_maker, eval_env)\u001b[0m\n",
      "\u001b[0m  File \u001b[1;32m~/miniconda3/envs/py310/lib/python3.10/site-packages/patsy/build.py:354\u001b[0m in \u001b[1;35m_factors_memorize\u001b[0m\n    which_pass = factor.memorize_passes_needed(state, eval_env)\u001b[0m\n",
      "\u001b[0m  File \u001b[1;32m~/miniconda3/envs/py310/lib/python3.10/site-packages/patsy/eval.py:478\u001b[0m in \u001b[1;35mmemorize_passes_needed\u001b[0m\n    subset_names = [name for name in ast_names(self.code)\u001b[0m\n",
      "\u001b[0m  File \u001b[1;32m~/miniconda3/envs/py310/lib/python3.10/site-packages/patsy/eval.py:478\u001b[0m in \u001b[1;35m<listcomp>\u001b[0m\n    subset_names = [name for name in ast_names(self.code)\u001b[0m\n",
      "\u001b[0m  File \u001b[1;32m~/miniconda3/envs/py310/lib/python3.10/site-packages/patsy/eval.py:109\u001b[0m in \u001b[1;35mast_names\u001b[0m\n    for node in ast.walk(ast.parse(code)):\u001b[0m\n",
      "\u001b[0;36m  File \u001b[0;32m~/miniconda3/envs/py310/lib/python3.10/ast.py:50\u001b[0;36m in \u001b[0;35mparse\u001b[0;36m\n\u001b[0;31m    return compile(source, filename, mode, flags,\u001b[0;36m\n",
      "\u001b[0;36m  File \u001b[0;32m<unknown>:1\u001b[0;36m\u001b[0m\n\u001b[0;31m    .\u001b[0m\n\u001b[0m    ^\u001b[0m\n\u001b[0;31mSyntaxError\u001b[0m\u001b[0;31m:\u001b[0m invalid syntax\n"
     ]
    }
   ],
   "source": [
    "# model build\n",
    "log_reg = smf.logit(\"target ~ .\", data=logit_df).fit()"
   ]
  },
  {
   "cell_type": "code",
   "execution_count": null,
   "metadata": {},
   "outputs": [],
   "source": []
  }
 ],
 "metadata": {
  "colab": {
   "collapsed_sections": [],
   "name": "Copy of Multiclass Classification.ipynb",
   "provenance": [],
   "version": "0.3.2"
  },
  "kernelspec": {
   "display_name": "Python 3 (ipykernel)",
   "language": "python",
   "name": "python3"
  },
  "language_info": {
   "codemirror_mode": {
    "name": "ipython",
    "version": 3
   },
   "file_extension": ".py",
   "mimetype": "text/x-python",
   "name": "python",
   "nbconvert_exporter": "python",
   "pygments_lexer": "ipython3",
   "version": "3.10.12"
  },
  "toc": {
   "base_numbering": 1,
   "nav_menu": {},
   "number_sections": false,
   "sideBar": false,
   "skip_h1_title": false,
   "title_cell": "Table of Contents",
   "title_sidebar": "Contents",
   "toc_cell": false,
   "toc_position": {},
   "toc_section_display": false,
   "toc_window_display": false
  }
 },
 "nbformat": 4,
 "nbformat_minor": 4
}
