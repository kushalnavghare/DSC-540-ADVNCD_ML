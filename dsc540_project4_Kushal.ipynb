{
  "cells": [
    {
      "cell_type": "markdown",
      "metadata": {
        "id": "view-in-github",
        "colab_type": "text"
      },
      "source": [
        "<a href=\"https://colab.research.google.com/github/kushalnavghare/DSC-540-ADVNCD_ML/blob/master/dsc540_project4_Kushal.ipynb\" target=\"_parent\"><img src=\"https://colab.research.google.com/assets/colab-badge.svg\" alt=\"Open In Colab\"/></a>"
      ]
    },
    {
      "cell_type": "markdown",
      "metadata": {
        "id": "4t6bEVMERl4i"
      },
      "source": [
        "# DSC540 Project 4"
      ]
    },
    {
      "cell_type": "markdown",
      "metadata": {
        "id": "I-vMi-X8Rl4k"
      },
      "source": [
        "DePaul University  \n",
        "Ilyas Ustun, PhD  \n",
        "Chicago, IL  "
      ]
    },
    {
      "cell_type": "markdown",
      "metadata": {
        "id": "EKx09CbHRl4l"
      },
      "source": [
        "## Rules\n",
        "- Write your code under the corresponding questions where you see `# Code here`. You are encouraged to use more than one cell.\n",
        "- Provide explanation in a separate Markdown formatted cell.\n",
        "- You can change the cell type by:\n",
        "    - Clicking on the outer area of the cell type you want to change,\n",
        "    - Go to the top, and select either Code or Markdown from the dropdown menu.\n",
        "- Be concise in your explanations and conclusions.\n",
        "- Write clear code and provide explanation to functions you create by using `#` comment sign.\n",
        "- For built-in function and methods you use from libraries, provide a very brief explanation of what they do.\n",
        "- Try to answer the questions by yourself. Use documentation from pandas, sklearn and similar libraries to solve the problem.\n",
        "- If you are stuck you can use different resources. Do not find an identical project and copy paste the solutions.\n",
        "- Write your name before beginning to code.\n",
        "\n",
        "\n",
        "Important:  \n",
        "- **Do NOT share the solutions with other people.**\n",
        "- **Do NOT share the solutions on the internet including but not limited to Github and other platforms.**\n",
        "- Sign the Honor Pledge below indicating that you have agreed to these rules listed here, and any other ethical and honor rules as required by the university.\n",
        "\n",
        "\n",
        "\n",
        "- **Deliverables:**\n",
        "    1. The Python Jupyter notebook file named properly with your name. Example: dsc540_project1_john_doe.ipynb\n",
        "    2. The HTML output of this code notebook names the same way. Example: dsc540_project1_john_doe.html\n",
        "        - File -> Download as -> HTML   \n",
        "\n",
        "Good Luck!"
      ]
    },
    {
      "cell_type": "markdown",
      "metadata": {
        "id": "_Kd54dyURl4l"
      },
      "source": [
        "### Kushal Navghare"
      ]
    },
    {
      "cell_type": "markdown",
      "metadata": {
        "id": "Pi0abq7CRl4m"
      },
      "source": [
        "**Honor Pledge:**  \n",
        "I pledge on my honor that I, **Kushal Navghare**, have followed the rules listed above, that I have not given or received any unauthorized assistance on this assignment.\n"
      ]
    },
    {
      "cell_type": "markdown",
      "metadata": {
        "id": "aiDkTjnJRl4m"
      },
      "source": [
        "## Q1 [10]"
      ]
    },
    {
      "cell_type": "markdown",
      "metadata": {
        "id": "uhAk65GARl4m"
      },
      "source": [
        "A drug company would like to introduce a drug to help patients with Alzheimer's. It is desirable to estimate $θ$, the proportion of the market share that this drug will capture.\n",
        "- The company interviews 100 people and 15 of them say that they will buy the drug. (This the observed data: n=100, observed=15) $->$ likelihood\n",
        "- If in the past new drugs tend to capture a proportion between say .10 and .40 of the market, and if all values in between are assumed equally likely, then $θ ∼ Unif(0.10, 0.40)$ $->$ prior"
      ]
    },
    {
      "cell_type": "markdown",
      "metadata": {
        "id": "o6QKbpUNRl4m"
      },
      "source": [
        "### What is the traceplot of $\\theta$ using Bayesian analysis to estimate the market share for the new drug?\n",
        "- Sample 10000 draws\n",
        "- Plot the traceplot"
      ]
    },
    {
      "cell_type": "code",
      "source": [
        "# !pip install --upgrade mkl==2023.0.0"
      ],
      "metadata": {
        "id": "SziCklus-oT1"
      },
      "execution_count": 1,
      "outputs": []
    },
    {
      "cell_type": "code",
      "source": [
        "# !pip install --upgrade numpy==1.21.1"
      ],
      "metadata": {
        "id": "Ku-bC-n9-s7f"
      },
      "execution_count": 2,
      "outputs": []
    },
    {
      "cell_type": "code",
      "source": [
        "# !pip install pymc3==3.11.5"
      ],
      "metadata": {
        "id": "3iOT0_t5-mfD"
      },
      "execution_count": 3,
      "outputs": []
    },
    {
      "cell_type": "code",
      "execution_count": 1,
      "metadata": {
        "id": "5pkfWPjLRl4n"
      },
      "outputs": [],
      "source": [
        "import pymc as pm\n",
        "import arviz as az"
      ]
    },
    {
      "cell_type": "code",
      "source": [
        "import warnings\n",
        "warnings.filterwarnings(action='ignore')"
      ],
      "metadata": {
        "id": "SBog06Lqb5pZ"
      },
      "execution_count": 5,
      "outputs": []
    },
    {
      "cell_type": "code",
      "source": [
        "import matplotlib.pyplot as plt"
      ],
      "metadata": {
        "id": "0xJexrY0cJAh"
      },
      "execution_count": 8,
      "outputs": []
    },
    {
      "cell_type": "code",
      "source": [
        "# constants\n",
        "N=100\n",
        "OBSERVED=15"
      ],
      "metadata": {
        "id": "0oUOj1TSLRq5"
      },
      "execution_count": 2,
      "outputs": []
    },
    {
      "cell_type": "code",
      "source": [
        "with pm.Model() as model:\n",
        "\n",
        "    # Priors for unknown model parameters\n",
        "    theta = pm.Uniform(\"theta\", .1, .4)\n",
        "\n",
        "    # Likelihood\n",
        "    x = pm.Binomial('x', n=N, p=theta, observed=OBSERVED)\n",
        "\n",
        "    # Posterior\n",
        "    # draw 10000 posterior samples\n",
        "    trace = pm.sample(10000, tune=1000, cores=2)\n",
        "\n",
        "    # Plot the trace plot\n",
        "    az.plot_trace(trace, var_names=['theta'])"
      ],
      "metadata": {
        "colab": {
          "base_uri": "https://localhost:8080/",
          "height": 255
        },
        "id": "Kj_XQltsJoyh",
        "outputId": "4674d4a7-b533-45e0-b0f2-aa11917a06d7"
      },
      "execution_count": 6,
      "outputs": [
        {
          "output_type": "display_data",
          "data": {
            "text/plain": [
              "<IPython.core.display.HTML object>"
            ],
            "text/html": [
              "\n",
              "<style>\n",
              "    /* Turns off some styling */\n",
              "    progress {\n",
              "        /* gets rid of default border in Firefox and Opera. */\n",
              "        border: none;\n",
              "        /* Needs to be in here for Safari polyfill so background images work as expected. */\n",
              "        background-size: auto;\n",
              "    }\n",
              "    progress:not([value]), progress:not([value])::-webkit-progress-bar {\n",
              "        background: repeating-linear-gradient(45deg, #7e7e7e, #7e7e7e 10px, #5c5c5c 10px, #5c5c5c 20px);\n",
              "    }\n",
              "    .progress-bar-interrupted, .progress-bar-interrupted::-webkit-progress-bar {\n",
              "        background: #F44336;\n",
              "    }\n",
              "</style>\n"
            ]
          },
          "metadata": {}
        },
        {
          "output_type": "display_data",
          "data": {
            "text/plain": [
              "<IPython.core.display.HTML object>"
            ],
            "text/html": [
              "\n",
              "    <div>\n",
              "      <progress value='22000' class='' max='22000' style='width:300px; height:20px; vertical-align: middle;'></progress>\n",
              "      100.00% [22000/22000 00:18&lt;00:00 Sampling 2 chains, 0 divergences]\n",
              "    </div>\n",
              "    "
            ]
          },
          "metadata": {}
        },
        {
          "output_type": "display_data",
          "data": {
            "text/plain": [
              "<Figure size 1200x200 with 2 Axes>"
            ],
            "image/png": "[encoded data removed]"
          },
          "metadata": {}
        }
      ]
    },
    {
      "cell_type": "code",
      "execution_count": null,
      "metadata": {
        "id": "b3-GmDhARl4o",
        "outputId": "dbcad49f-8262-4e5c-e4d6-92b68fb9fc37"
      },
      "outputs": [
        {
          "name": "stderr",
          "output_type": "stream",
          "text": [
            "Auto-assigning NUTS sampler...\n",
            "Initializing NUTS using jitter+adapt_diag...\n",
            "Multiprocess sampling (4 chains in 4 jobs)\n",
            "NUTS: [theta]\n"
          ]
        },
        {
          "data": {
            "text/html": [
              "\n",
              "    <div>\n",
              "        <style>\n",
              "            /* Turns off some styling */\n",
              "            progress {\n",
              "                /* gets rid of default border in Firefox and Opera. */\n",
              "                border: none;\n",
              "                /* Needs to be in here for Safari polyfill so background images work as expected. */\n",
              "                background-size: auto;\n",
              "            }\n",
              "            .progress-bar-interrupted, .progress-bar-interrupted::-webkit-progress-bar {\n",
              "                background: #F44336;\n",
              "            }\n",
              "        </style>\n",
              "      <progress value='44000' class='' max='44000' style='width:300px; height:20px; vertical-align: middle;'></progress>\n",
              "      100.00% [44000/44000 00:57<00:00 Sampling 4 chains, 0 divergences]\n",
              "    </div>\n",
              "    "
            ],
            "text/plain": [
              "<IPython.core.display.HTML object>"
            ]
          },
          "metadata": {},
          "output_type": "display_data"
        },
        {
          "name": "stderr",
          "output_type": "stream",
          "text": [
            "Sampling 4 chains for 1_000 tune and 10_000 draw iterations (4_000 + 40_000 draws total) took 77 seconds.\n",
            "The acceptance probability does not match the target. It is 0.5591206347418158, but should be close to 0.8. Try to increase the number of tuning steps.\n",
            "The acceptance probability does not match the target. It is 0.8869751249580462, but should be close to 0.8. Try to increase the number of tuning steps.\n",
            "The acceptance probability does not match the target. It is 0.6365985480511342, but should be close to 0.8. Try to increase the number of tuning steps.\n"
          ]
        },
        {
          "data": {
            "image/png": "[encoded data removed]",
            "text/plain": [
              "<Figure size 864x144 with 2 Axes>"
            ]
          },
          "metadata": {
            "needs_background": "light"
          },
          "output_type": "display_data"
        }
      ],
      "source": [
        "with pm.Model() as model:\n",
        "\n",
        "    # Priors for unknown model parameters\n",
        "    theta = pm.Uniform(........)\n",
        "\n",
        "    # Likelihood\n",
        "    x = pm.Binomial(.........)\n",
        "\n",
        "    # Posterior\n",
        "    # draw 10000 posterior samples\n",
        "    trace = pm.sample(.........)\n",
        "\n",
        "    # Plot the trace plot\n",
        "    az.____(____)"
      ]
    },
    {
      "cell_type": "markdown",
      "metadata": {
        "id": "_sOJO9wbRl4p"
      },
      "source": [
        "### Plot the posterior distribution plot of $ \\theta $\n",
        "- What is the mean posterior value?"
      ]
    },
    {
      "cell_type": "code",
      "source": [
        "plt.figure(figsize=(10, 6))\n",
        "az.plot_posterior(trace, var_names=['theta'])"
      ],
      "metadata": {
        "colab": {
          "base_uri": "https://localhost:8080/",
          "height": 494
        },
        "id": "SGd-0v0QMar2",
        "outputId": "554f4515-b3b5-41c1-fb4e-4de354ede4a8"
      },
      "execution_count": 9,
      "outputs": [
        {
          "output_type": "execute_result",
          "data": {
            "text/plain": [
              "<Axes: title={'center': 'theta'}>"
            ]
          },
          "metadata": {},
          "execution_count": 9
        },
        {
          "output_type": "display_data",
          "data": {
            "text/plain": [
              "<Figure size 1000x600 with 0 Axes>"
            ]
          },
          "metadata": {}
        },
        {
          "output_type": "display_data",
          "data": {
            "text/plain": [
              "<Figure size 640x480 with 1 Axes>"
            ],
            "image/png": "[encoded data removed]"
          },
          "metadata": {}
        }
      ]
    },
    {
      "cell_type": "code",
      "execution_count": 13,
      "metadata": {
        "id": "cHKdjopcRl4p",
        "outputId": "0137763c-1273-4d21-c56e-8d7273aa3e88",
        "colab": {
          "base_uri": "https://localhost:8080/",
          "height": 476
        }
      },
      "outputs": [
        {
          "output_type": "execute_result",
          "data": {
            "text/plain": [
              "<Axes: title={'center': 'theta'}>"
            ]
          },
          "metadata": {},
          "execution_count": 13
        },
        {
          "output_type": "display_data",
          "data": {
            "text/plain": [
              "<Figure size 640x480 with 1 Axes>"
            ],
            "image/png": "[encoded data removed]"
          },
          "metadata": {}
        }
      ],
      "source": [
        "# Plot the posterior of trace\n",
        "az.plot_posterior(trace, var_names = ['theta'])"
      ]
    },
    {
      "cell_type": "markdown",
      "metadata": {
        "id": "VBMYT4NyRl4p"
      },
      "source": [
        "\n",
        "## Bayesian Network Analysis\n",
        "\n",
        "In this part we will be analyzing medical diagnosis using Bayes Nets. The structure and the Conditional Probabability Distribution tables are shown in the figure below."
      ]
    },
    {
      "cell_type": "markdown",
      "metadata": {
        "id": "4HHeY1rdRl4p"
      },
      "source": [
        "![MedicalDiagnosis](Med-diag-bnet.jpg)"
      ]
    },
    {
      "cell_type": "markdown",
      "metadata": {
        "id": "2_NNWJAZRl4q"
      },
      "source": [
        "- In the first few questions you will build the Bayes Net, set up the Conditional Probability Distribution tables, and associate the CPDs to the network.   \n",
        "- These steps are extremely important and crucial. Make sure you do the set up correctly, as everything else depends on that.   "
      ]
    },
    {
      "cell_type": "markdown",
      "metadata": {
        "id": "hW2oksaNRl4q"
      },
      "source": [
        "## Import Libraries\n",
        "\n",
        "**Import the usual libraries for pandas and plotting, and sklearn.**"
      ]
    },
    {
      "cell_type": "code",
      "execution_count": 10,
      "metadata": {
        "id": "KuncPSwsRl4q"
      },
      "outputs": [],
      "source": [
        "import pandas as pd\n",
        "import numpy as np\n",
        "import matplotlib.pyplot as plt\n",
        "import seaborn as sns\n",
        "\n",
        "from sklearn import metrics"
      ]
    },
    {
      "cell_type": "code",
      "source": [
        "# !pip install -q pgmpy"
      ],
      "metadata": {
        "id": "gZwCZbXH0xxf"
      },
      "execution_count": 15,
      "outputs": []
    },
    {
      "cell_type": "code",
      "execution_count": 11,
      "metadata": {
        "id": "xe-3yo00Rl4q"
      },
      "outputs": [],
      "source": [
        "# import pgmpy\n",
        "from pgmpy.models import BayesianModel\n",
        "from pgmpy.factors.discrete import TabularCPD"
      ]
    },
    {
      "cell_type": "code",
      "execution_count": 12,
      "metadata": {
        "id": "X1PZFo0eRl4r",
        "outputId": "9e35dbe9-3c57-4083-8909-15f4aebc6430",
        "colab": {
          "base_uri": "https://localhost:8080/",
          "height": 36
        }
      },
      "outputs": [
        {
          "output_type": "execute_result",
          "data": {
            "text/plain": [
              "'1.2.2'"
            ],
            "application/vnd.google.colaboratory.intrinsic+json": {
              "type": "string"
            }
          },
          "metadata": {},
          "execution_count": 12
        }
      ],
      "source": [
        "import sklearn\n",
        "sklearn.__version__"
      ]
    },
    {
      "cell_type": "markdown",
      "metadata": {
        "id": "r05pmr9QRl4r"
      },
      "source": [
        "### These are the packages I used"
      ]
    },
    {
      "cell_type": "code",
      "execution_count": 13,
      "metadata": {
        "id": "mYZd45oKRl4r"
      },
      "outputs": [],
      "source": [
        "import warnings\n",
        "warnings.filterwarnings(action='ignore')"
      ]
    },
    {
      "cell_type": "markdown",
      "metadata": {
        "id": "3487rFUoRl4s"
      },
      "source": [
        "## Q2 [10]\n",
        "\n",
        "**Define the model structure.**\n",
        "\n",
        "You need to define the network by passing a list of edges."
      ]
    },
    {
      "cell_type": "code",
      "execution_count": 14,
      "metadata": {
        "id": "55743gxGRl4s",
        "colab": {
          "base_uri": "https://localhost:8080/"
        },
        "outputId": "58f2d00d-e0f0-4ddc-c1ad-80aa4f78a2d9"
      },
      "outputs": [
        {
          "output_type": "stream",
          "name": "stderr",
          "text": [
            "WARNING:pgmpy:BayesianModel has been renamed to BayesianNetwork. Please use BayesianNetwork class, BayesianModel will be removed in future.\n"
          ]
        }
      ],
      "source": [
        "# define model\n",
        "model = BayesianModel([('Smokes', 'LungDisease'),\n",
        "                       ('LungDisease', 'ShortnessBreath'),\n",
        "                       ('LungDisease', 'ChestPain'),\n",
        "                       ('LungDisease', 'Cough'),\n",
        "                       ('Cold', 'Cough'),\n",
        "                       ('Cold', 'Fever')])"
      ]
    },
    {
      "cell_type": "code",
      "execution_count": 16,
      "metadata": {
        "id": "KiQUbR15Rl4s",
        "colab": {
          "base_uri": "https://localhost:8080/",
          "height": 0
        },
        "outputId": "683ebaf2-201f-4c5b-d7ae-b58a25fb67b2"
      },
      "outputs": [
        {
          "output_type": "stream",
          "name": "stderr",
          "text": [
            "WARNING:pgmpy:BayesianModel has been renamed to BayesianNetwork. Please use BayesianNetwork class, BayesianModel will be removed in future.\n"
          ]
        }
      ],
      "source": [
        "model = BayesianModel([('Smokes', 'LungDisease'),\n",
        "                       ('LungDisease', 'ShortnessBreath'),\n",
        "                       ('LungDisease', 'ChestPain'),\n",
        "                       ('LungDisease', 'Cough'),\n",
        "                       ('Cold', 'Cough'),\n",
        "                       ('Cold', 'Fever')])"
      ]
    },
    {
      "cell_type": "markdown",
      "metadata": {
        "id": "symVyPX0Rl4t"
      },
      "source": [
        "## Q3 [15]\n",
        "\n",
        "**Define individual CPDs**\n",
        "- Define the CPDs using the state names of the variables."
      ]
    },
    {
      "cell_type": "code",
      "source": [
        "cpd_Smokes = TabularCPD(variable='Smokes', variable_card=2, values=[[0.2], [0.8]], state_names={'Smokes' : ['T', 'F']})"
      ],
      "metadata": {
        "id": "YaW_9OHwaWqM"
      },
      "execution_count": 15,
      "outputs": []
    },
    {
      "cell_type": "code",
      "source": [
        "cpd_LungDisease = TabularCPD(variable='LungDisease',\n",
        "                             variable_card=2,\n",
        "                             values=[[0.1009, 0.001],\n",
        "                                     [0.8991, 0.999]],\n",
        "                             evidence=['Smokes'],\n",
        "                             evidence_card=[2],\n",
        "                            state_names={'Smokes' : ['T', 'F'], 'LungDisease' : ['T', 'F']})"
      ],
      "metadata": {
        "id": "oNesewDSaY_A"
      },
      "execution_count": 16,
      "outputs": []
    },
    {
      "cell_type": "code",
      "source": [
        "cpd_ShortnessBreath = TabularCPD(variable='ShortnessBreath',\n",
        "                                 variable_card=2,\n",
        "                                 values=[[0.9, 0.2],\n",
        "                                         [0.1, 0.8]],\n",
        "                                 evidence=['LungDisease'],\n",
        "                                 evidence_card=[2],\n",
        "                                 state_names={'ShortnessBreath': ['T', 'F'], 'LungDisease': ['T', 'F']})"
      ],
      "metadata": {
        "id": "pbSlfrk_abG6"
      },
      "execution_count": 17,
      "outputs": []
    },
    {
      "cell_type": "code",
      "source": [
        "cpd_ChestPain = TabularCPD(variable='ChestPain',\n",
        "                           variable_card=2,\n",
        "                           values=[[0.7, 0.3],\n",
        "                                   [0.3, 0.7]],\n",
        "                           evidence=['LungDisease'],\n",
        "                           evidence_card=[2],\n",
        "                           state_names={'ChestPain': ['T', 'F'], 'LungDisease': ['T', 'F']})"
      ],
      "metadata": {
        "id": "hPznfg-4acvN"
      },
      "execution_count": 18,
      "outputs": []
    },
    {
      "cell_type": "code",
      "source": [
        "cpd_Cough = TabularCPD(variable='Cough',\n",
        "                      variable_card=2,\n",
        "                      values=[[0.8, 0.1, 0.7, 0.2],\n",
        "                              [0.2, 0.9, 0.3, 0.8]],\n",
        "                      evidence=['LungDisease', 'Cold'],\n",
        "                      evidence_card=[2, 2],\n",
        "                      state_names={'Cough': ['T', 'F'], 'LungDisease': ['T', 'F'], 'Cold': ['T', 'F']})"
      ],
      "metadata": {
        "id": "varK9NWqaeXl"
      },
      "execution_count": 19,
      "outputs": []
    },
    {
      "cell_type": "code",
      "source": [
        "cpd_Cold = TabularCPD(variable='Cold',\n",
        "                     variable_card=2,\n",
        "                     values=[[0.1], [0.9]],\n",
        "                     state_names={'Cold': ['T', 'F']})"
      ],
      "metadata": {
        "id": "c4-ipFQdafs2"
      },
      "execution_count": 20,
      "outputs": []
    },
    {
      "cell_type": "code",
      "execution_count": 21,
      "metadata": {
        "scrolled": true,
        "id": "n6JGk9U-Rl4t"
      },
      "outputs": [],
      "source": [
        "cpd_Fever = TabularCPD(variable='Fever',\n",
        "                      variable_card=2,\n",
        "                      values=[[0.95, 0.05],\n",
        "                              [0.05, 0.95]],\n",
        "                      evidence=['Cold'],\n",
        "                      evidence_card=[2],\n",
        "                      state_names={'Fever': ['T', 'F'], 'Cold': ['T', 'F']})\n"
      ]
    },
    {
      "cell_type": "markdown",
      "metadata": {
        "id": "jW1hul3LRl4t"
      },
      "source": [
        "## Q4 [5]\n",
        "- Check that each of the CPDs are correct"
      ]
    },
    {
      "cell_type": "code",
      "execution_count": 22,
      "metadata": {
        "colab": {
          "base_uri": "https://localhost:8080/"
        },
        "id": "kRoOevvy6MXk",
        "outputId": "4e53c63a-08e6-4ae7-b43b-7ad516c97bf4"
      },
      "outputs": [
        {
          "output_type": "stream",
          "name": "stdout",
          "text": [
            "+-----------+-----+\n",
            "| Smokes(T) | 0.2 |\n",
            "+-----------+-----+\n",
            "| Smokes(F) | 0.8 |\n",
            "+-----------+-----+\n"
          ]
        }
      ],
      "source": [
        "print(cpd_Smokes)"
      ]
    },
    {
      "cell_type": "code",
      "execution_count": 23,
      "metadata": {
        "colab": {
          "base_uri": "https://localhost:8080/"
        },
        "id": "lTgFpyPs6MXk",
        "outputId": "34e71639-4352-41d0-edac-199712cb553d"
      },
      "outputs": [
        {
          "output_type": "stream",
          "name": "stdout",
          "text": [
            "+----------------+-----------+-----------+\n",
            "| Smokes         | Smokes(T) | Smokes(F) |\n",
            "+----------------+-----------+-----------+\n",
            "| LungDisease(T) | 0.1009    | 0.001     |\n",
            "+----------------+-----------+-----------+\n",
            "| LungDisease(F) | 0.8991    | 0.999     |\n",
            "+----------------+-----------+-----------+\n"
          ]
        }
      ],
      "source": [
        "print(cpd_LungDisease)"
      ]
    },
    {
      "cell_type": "code",
      "source": [
        "print(cpd_ShortnessBreath)"
      ],
      "metadata": {
        "colab": {
          "base_uri": "https://localhost:8080/"
        },
        "id": "Ii-9Yax3BzSD",
        "outputId": "34813592-36b0-4343-ed27-dacb7ce0999d"
      },
      "execution_count": 24,
      "outputs": [
        {
          "output_type": "stream",
          "name": "stdout",
          "text": [
            "+--------------------+----------------+----------------+\n",
            "| LungDisease        | LungDisease(T) | LungDisease(F) |\n",
            "+--------------------+----------------+----------------+\n",
            "| ShortnessBreath(T) | 0.9            | 0.2            |\n",
            "+--------------------+----------------+----------------+\n",
            "| ShortnessBreath(F) | 0.1            | 0.8            |\n",
            "+--------------------+----------------+----------------+\n"
          ]
        }
      ]
    },
    {
      "cell_type": "code",
      "source": [
        "print(cpd_Cold)"
      ],
      "metadata": {
        "colab": {
          "base_uri": "https://localhost:8080/"
        },
        "id": "d5_fZO5JCXzP",
        "outputId": "5b67ed1b-e387-4037-f1c2-6caefd68d4b3"
      },
      "execution_count": 25,
      "outputs": [
        {
          "output_type": "stream",
          "name": "stdout",
          "text": [
            "+---------+-----+\n",
            "| Cold(T) | 0.1 |\n",
            "+---------+-----+\n",
            "| Cold(F) | 0.9 |\n",
            "+---------+-----+\n"
          ]
        }
      ]
    },
    {
      "cell_type": "code",
      "source": [
        "print(cpd_Fever)"
      ],
      "metadata": {
        "colab": {
          "base_uri": "https://localhost:8080/"
        },
        "id": "AiWuyyuQCcQN",
        "outputId": "b647847e-ecb5-46c5-992a-7e0e4b39198e"
      },
      "execution_count": 26,
      "outputs": [
        {
          "output_type": "stream",
          "name": "stdout",
          "text": [
            "+----------+---------+---------+\n",
            "| Cold     | Cold(T) | Cold(F) |\n",
            "+----------+---------+---------+\n",
            "| Fever(T) | 0.95    | 0.05    |\n",
            "+----------+---------+---------+\n",
            "| Fever(F) | 0.05    | 0.95    |\n",
            "+----------+---------+---------+\n"
          ]
        }
      ]
    },
    {
      "cell_type": "code",
      "source": [
        "print(cpd_Cough)"
      ],
      "metadata": {
        "colab": {
          "base_uri": "https://localhost:8080/"
        },
        "id": "4Z8p20zoCg60",
        "outputId": "350254a2-05c7-4b68-f7f0-9664c6b38f33"
      },
      "execution_count": 27,
      "outputs": [
        {
          "output_type": "stream",
          "name": "stdout",
          "text": [
            "+-------------+----------------+----------------+----------------+----------------+\n",
            "| LungDisease | LungDisease(T) | LungDisease(T) | LungDisease(F) | LungDisease(F) |\n",
            "+-------------+----------------+----------------+----------------+----------------+\n",
            "| Cold        | Cold(T)        | Cold(F)        | Cold(T)        | Cold(F)        |\n",
            "+-------------+----------------+----------------+----------------+----------------+\n",
            "| Cough(T)    | 0.8            | 0.1            | 0.7            | 0.2            |\n",
            "+-------------+----------------+----------------+----------------+----------------+\n",
            "| Cough(F)    | 0.2            | 0.9            | 0.3            | 0.8            |\n",
            "+-------------+----------------+----------------+----------------+----------------+\n"
          ]
        }
      ]
    },
    {
      "cell_type": "code",
      "source": [
        "print(cpd_ChestPain)"
      ],
      "metadata": {
        "colab": {
          "base_uri": "https://localhost:8080/"
        },
        "id": "37FyL8kkC4q8",
        "outputId": "0eebefd3-e022-414a-ffa1-b3b6783561b1"
      },
      "execution_count": 28,
      "outputs": [
        {
          "output_type": "stream",
          "name": "stdout",
          "text": [
            "+--------------+----------------+----------------+\n",
            "| LungDisease  | LungDisease(T) | LungDisease(F) |\n",
            "+--------------+----------------+----------------+\n",
            "| ChestPain(T) | 0.7            | 0.3            |\n",
            "+--------------+----------------+----------------+\n",
            "| ChestPain(F) | 0.3            | 0.7            |\n",
            "+--------------+----------------+----------------+\n"
          ]
        }
      ]
    },
    {
      "cell_type": "markdown",
      "metadata": {
        "id": "2hs6-gv5Rl4u"
      },
      "source": [
        "## Q5 [5]\n",
        "- Add the defined CPDs to the model (Associate the CPDs with the network)"
      ]
    },
    {
      "cell_type": "code",
      "execution_count": 29,
      "metadata": {
        "id": "vzku3mvVRl4u",
        "outputId": "7eb1962b-9ef6-46ad-fc63-4cfa26f9a020",
        "colab": {
          "base_uri": "https://localhost:8080/"
        }
      },
      "outputs": [
        {
          "output_type": "execute_result",
          "data": {
            "text/plain": [
              "True"
            ]
          },
          "metadata": {},
          "execution_count": 29
        }
      ],
      "source": [
        "model.add_cpds(cpd_Smokes, cpd_LungDisease, cpd_ChestPain, cpd_ShortnessBreath, cpd_Cough,cpd_Fever, cpd_Cold )\n",
        "\n",
        "model.check_model()"
      ]
    },
    {
      "cell_type": "markdown",
      "metadata": {
        "id": "PeP8hHSLRl4u"
      },
      "source": [
        "## Q6 [5]\n",
        "- The cardinality of each of the nodes is 2 - True or False?"
      ]
    },
    {
      "cell_type": "code",
      "execution_count": 30,
      "metadata": {
        "id": "TlPEcV3tRl4u",
        "outputId": "5a10b6b5-1bed-4a51-927f-ed8788d9e055",
        "colab": {
          "base_uri": "https://localhost:8080/"
        }
      },
      "outputs": [
        {
          "output_type": "stream",
          "name": "stdout",
          "text": [
            "2\n",
            "2\n",
            "2\n",
            "2\n",
            "2\n",
            "2\n",
            "2\n"
          ]
        }
      ],
      "source": [
        "for x in model.nodes():\n",
        "  if x in model.nodes:\n",
        "    card = model.get_cpds(x).variable_card\n",
        "    print(card)"
      ]
    },
    {
      "cell_type": "markdown",
      "metadata": {
        "id": "Ad8iKC_uRl4v"
      },
      "source": [
        "### Q7 [10]\n",
        "**Find the probability of each event hapenning using the variable elimination method.**\n",
        "- $ P(Smokes) $\n",
        "- $ P(Cold) $\n",
        "- $ P(LungDisease) $\n",
        "- $ P(ShortnessBreath) $\n",
        "- $ P(ChestPain) $\n",
        "- $ P(Fever) $\n",
        "- $ P(Cough) $\n",
        "- $ P(LungDisease|Smokes=True) $\n",
        "- $ P(LungDisease|Cough=True) $\n",
        "- $ P(ShortnessBreath|Smokes=True) $\n",
        "- $ P(ChestPain|Fever=True) $"
      ]
    },
    {
      "cell_type": "code",
      "execution_count": 31,
      "metadata": {
        "id": "CUs34MSjRl40"
      },
      "outputs": [],
      "source": [
        "from pgmpy.inference import VariableElimination\n",
        "infer = VariableElimination(model)"
      ]
    },
    {
      "cell_type": "code",
      "execution_count": 32,
      "metadata": {
        "id": "j42_yLCLRl40",
        "outputId": "a70d4a90-e3e4-4bc6-f8ed-b17eeb4e3f1a",
        "colab": {
          "base_uri": "https://localhost:8080/"
        }
      },
      "outputs": [
        {
          "output_type": "stream",
          "name": "stderr",
          "text": [
            "WARNING:pgmpy:BayesianModel has been renamed to BayesianNetwork. Please use BayesianNetwork class, BayesianModel will be removed in future.\n",
            "WARNING:pgmpy:BayesianModel has been renamed to BayesianNetwork. Please use BayesianNetwork class, BayesianModel will be removed in future.\n",
            "WARNING:pgmpy:BayesianModel has been renamed to BayesianNetwork. Please use BayesianNetwork class, BayesianModel will be removed in future.\n",
            "WARNING:pgmpy:BayesianModel has been renamed to BayesianNetwork. Please use BayesianNetwork class, BayesianModel will be removed in future.\n",
            "WARNING:pgmpy:BayesianModel has been renamed to BayesianNetwork. Please use BayesianNetwork class, BayesianModel will be removed in future.\n",
            "WARNING:pgmpy:BayesianModel has been renamed to BayesianNetwork. Please use BayesianNetwork class, BayesianModel will be removed in future.\n",
            "WARNING:pgmpy:BayesianModel has been renamed to BayesianNetwork. Please use BayesianNetwork class, BayesianModel will be removed in future.\n",
            "WARNING:pgmpy:BayesianModel has been renamed to BayesianNetwork. Please use BayesianNetwork class, BayesianModel will be removed in future.\n",
            "WARNING:pgmpy:BayesianModel has been renamed to BayesianNetwork. Please use BayesianNetwork class, BayesianModel will be removed in future.\n",
            "WARNING:pgmpy:BayesianModel has been renamed to BayesianNetwork. Please use BayesianNetwork class, BayesianModel will be removed in future.\n",
            "WARNING:pgmpy:BayesianModel has been renamed to BayesianNetwork. Please use BayesianNetwork class, BayesianModel will be removed in future.\n",
            "WARNING:pgmpy:BayesianModel has been renamed to BayesianNetwork. Please use BayesianNetwork class, BayesianModel will be removed in future.\n",
            "WARNING:pgmpy:BayesianModel has been renamed to BayesianNetwork. Please use BayesianNetwork class, BayesianModel will be removed in future.\n",
            "WARNING:pgmpy:BayesianModel has been renamed to BayesianNetwork. Please use BayesianNetwork class, BayesianModel will be removed in future.\n",
            "WARNING:pgmpy:BayesianModel has been renamed to BayesianNetwork. Please use BayesianNetwork class, BayesianModel will be removed in future.\n",
            "WARNING:pgmpy:BayesianModel has been renamed to BayesianNetwork. Please use BayesianNetwork class, BayesianModel will be removed in future.\n",
            "WARNING:pgmpy:BayesianModel has been renamed to BayesianNetwork. Please use BayesianNetwork class, BayesianModel will be removed in future.\n",
            "WARNING:pgmpy:BayesianModel has been renamed to BayesianNetwork. Please use BayesianNetwork class, BayesianModel will be removed in future.\n",
            "WARNING:pgmpy:BayesianModel has been renamed to BayesianNetwork. Please use BayesianNetwork class, BayesianModel will be removed in future.\n",
            "WARNING:pgmpy:BayesianModel has been renamed to BayesianNetwork. Please use BayesianNetwork class, BayesianModel will be removed in future.\n",
            "WARNING:pgmpy:BayesianModel has been renamed to BayesianNetwork. Please use BayesianNetwork class, BayesianModel will be removed in future.\n",
            "WARNING:pgmpy:BayesianModel has been renamed to BayesianNetwork. Please use BayesianNetwork class, BayesianModel will be removed in future.\n"
          ]
        },
        {
          "output_type": "stream",
          "name": "stdout",
          "text": [
            "+-----------+---------------+\n",
            "| Smokes    |   phi(Smokes) |\n",
            "+===========+===============+\n",
            "| Smokes(T) |        0.2000 |\n",
            "+-----------+---------------+\n",
            "| Smokes(F) |        0.8000 |\n",
            "+-----------+---------------+\n",
            "+---------+-------------+\n",
            "| Cold    |   phi(Cold) |\n",
            "+=========+=============+\n",
            "| Cold(T) |      0.1000 |\n",
            "+---------+-------------+\n",
            "| Cold(F) |      0.9000 |\n",
            "+---------+-------------+\n",
            "+----------------+--------------------+\n",
            "| LungDisease    |   phi(LungDisease) |\n",
            "+================+====================+\n",
            "| LungDisease(T) |             0.0210 |\n",
            "+----------------+--------------------+\n",
            "| LungDisease(F) |             0.9790 |\n",
            "+----------------+--------------------+\n",
            "+--------------------+------------------------+\n",
            "| ShortnessBreath    |   phi(ShortnessBreath) |\n",
            "+====================+========================+\n",
            "| ShortnessBreath(T) |                 0.2147 |\n",
            "+--------------------+------------------------+\n",
            "| ShortnessBreath(F) |                 0.7853 |\n",
            "+--------------------+------------------------+\n",
            "+--------------+------------------+\n",
            "| ChestPain    |   phi(ChestPain) |\n",
            "+==============+==================+\n",
            "| ChestPain(T) |           0.3084 |\n",
            "+--------------+------------------+\n",
            "| ChestPain(F) |           0.6916 |\n",
            "+--------------+------------------+\n",
            "+----------+--------------+\n",
            "| Fever    |   phi(Fever) |\n",
            "+==========+==============+\n",
            "| Fever(T) |       0.1400 |\n",
            "+----------+--------------+\n",
            "| Fever(F) |       0.8600 |\n",
            "+----------+--------------+\n",
            "+----------+--------------+\n",
            "| Cough    |   phi(Cough) |\n",
            "+==========+==============+\n",
            "| Cough(T) |       0.2483 |\n",
            "+----------+--------------+\n",
            "| Cough(F) |       0.7517 |\n",
            "+----------+--------------+\n",
            "+----------------+--------------------+\n",
            "| LungDisease    |   phi(LungDisease) |\n",
            "+================+====================+\n",
            "| LungDisease(T) |             0.1009 |\n",
            "+----------------+--------------------+\n",
            "| LungDisease(F) |             0.8991 |\n",
            "+----------------+--------------------+\n",
            "+----------------+--------------------+\n",
            "| LungDisease    |   phi(LungDisease) |\n",
            "+================+====================+\n",
            "| LungDisease(T) |             0.0144 |\n",
            "+----------------+--------------------+\n",
            "| LungDisease(F) |             0.9856 |\n",
            "+----------------+--------------------+\n",
            "+--------------------+------------------------+\n",
            "| ShortnessBreath    |   phi(ShortnessBreath) |\n",
            "+====================+========================+\n",
            "| ShortnessBreath(T) |                 0.2706 |\n",
            "+--------------------+------------------------+\n",
            "| ShortnessBreath(F) |                 0.7294 |\n",
            "+--------------------+------------------------+\n",
            "+--------------+------------------+\n",
            "| ChestPain    |   phi(ChestPain) |\n",
            "+==============+==================+\n",
            "| ChestPain(T) |           0.3084 |\n",
            "+--------------+------------------+\n",
            "| ChestPain(F) |           0.6916 |\n",
            "+--------------+------------------+\n"
          ]
        }
      ],
      "source": [
        "dist = infer.query(['Smokes'])\n",
        "print(dist)\n",
        "\n",
        "dist_cold = infer.query(['Cold'])\n",
        "print(dist_cold)\n",
        "\n",
        "dist_lung = infer.query(variables=['LungDisease'])\n",
        "print(dist_lung)\n",
        "\n",
        "dist_breath = infer.query(variables=['ShortnessBreath'])\n",
        "print(dist_breath)\n",
        "\n",
        "dist_chest = infer.query(variables=['ChestPain'])\n",
        "print(dist_chest)\n",
        "\n",
        "dist_fever = infer.query(variables=['Fever'])\n",
        "print(dist_fever)\n",
        "\n",
        "dist_cough = infer.query(variables=['Cough'])\n",
        "print(dist_cough)\n",
        "\n",
        "dist_Lung_Somkes_T = infer.query(variables=['LungDisease'], evidence={'Smokes': 'T'})\n",
        "print(dist_Lung_Somkes_T)\n",
        "\n",
        "dist_Lung_Cough_T = infer.query(variables=['LungDisease'], evidence={'Cough': 'T'})\n",
        "print(dist_Lung_Cough_T)\n",
        "\n",
        "dist_breath_Smokes_T = infer.query(variables=['ShortnessBreath'], evidence={'Smokes': 'T'})\n",
        "print(dist_breath_Smokes_T)\n",
        "\n",
        "dist_Chest_Fever_T = infer.query(variables=['ChestPain'], evidence={'Fever': 'T'})\n",
        "print(dist_Chest_Fever_T)"
      ]
    },
    {
      "cell_type": "markdown",
      "metadata": {
        "id": "KjUw1WimRl40"
      },
      "source": []
    },
    {
      "cell_type": "markdown",
      "metadata": {
        "id": "xJ1zxmPcRl40"
      },
      "source": [
        "## Q8 [15]\n",
        "**Are the following  true? If not, can you make them independent by including info on the parent?**\n",
        "1. Cough is independent from Fever. (Having knowledge about Fever does not change the probability of Cough)\n",
        "2. Fever is independent from Smokes.\n",
        "3. ChestPain is independent from Smokes.\n",
        "4. ChestPain is independent from Smokes given LungDisease.\n"
      ]
    },
    {
      "cell_type": "markdown",
      "metadata": {
        "id": "dByfrGPXRl41"
      },
      "source": [
        "##### 1. Cough is independent from Fever"
      ]
    },
    {
      "cell_type": "code",
      "execution_count": 33,
      "metadata": {
        "id": "zs6bX-5qRl41",
        "outputId": "3c1524c4-27bf-4cd6-d173-2b85639d979c",
        "colab": {
          "base_uri": "https://localhost:8080/"
        }
      },
      "outputs": [
        {
          "output_type": "stream",
          "name": "stderr",
          "text": [
            "WARNING:pgmpy:BayesianModel has been renamed to BayesianNetwork. Please use BayesianNetwork class, BayesianModel will be removed in future.\n",
            "WARNING:pgmpy:BayesianModel has been renamed to BayesianNetwork. Please use BayesianNetwork class, BayesianModel will be removed in future.\n",
            "WARNING:pgmpy:BayesianModel has been renamed to BayesianNetwork. Please use BayesianNetwork class, BayesianModel will be removed in future.\n",
            "WARNING:pgmpy:BayesianModel has been renamed to BayesianNetwork. Please use BayesianNetwork class, BayesianModel will be removed in future.\n",
            "WARNING:pgmpy:BayesianModel has been renamed to BayesianNetwork. Please use BayesianNetwork class, BayesianModel will be removed in future.\n",
            "WARNING:pgmpy:BayesianModel has been renamed to BayesianNetwork. Please use BayesianNetwork class, BayesianModel will be removed in future.\n"
          ]
        },
        {
          "output_type": "stream",
          "name": "stdout",
          "text": [
            "+----------+--------------+\n",
            "| Cough    |   phi(Cough) |\n",
            "+==========+==============+\n",
            "| Cough(T) |       0.2483 |\n",
            "+----------+--------------+\n",
            "| Cough(F) |       0.7517 |\n",
            "+----------+--------------+\n",
            "+----------+--------------+\n",
            "| Cough    |   phi(Cough) |\n",
            "+==========+==============+\n",
            "| Cough(T) |       0.5400 |\n",
            "+----------+--------------+\n",
            "| Cough(F) |       0.4600 |\n",
            "+----------+--------------+\n",
            "+----------+--------------+\n",
            "| Cough    |   phi(Cough) |\n",
            "+==========+==============+\n",
            "| Cough(T) |       0.2008 |\n",
            "+----------+--------------+\n",
            "| Cough(F) |       0.7992 |\n",
            "+----------+--------------+\n"
          ]
        }
      ],
      "source": [
        "dist = infer.query(['Cough'])\n",
        "print(dist)\n",
        "\n",
        "dist = infer.query(['Cough'], evidence={'Fever':'T'})\n",
        "print(dist)\n",
        "\n",
        "dist = infer.query(['Cough'], evidence={'Fever':'F'})\n",
        "print(dist)"
      ]
    },
    {
      "cell_type": "markdown",
      "metadata": {
        "id": "XI1zqdr0Rl41"
      },
      "source": [
        "- Fever does affect Cough -> Not independent\n",
        "- However, given the parent of both Fever and Cough (Cold), they should be independent."
      ]
    },
    {
      "cell_type": "code",
      "execution_count": 34,
      "metadata": {
        "id": "tU2nIas5Rl41",
        "outputId": "c3b95e16-757b-493e-85d7-eb344b9ec4d3",
        "colab": {
          "base_uri": "https://localhost:8080/"
        }
      },
      "outputs": [
        {
          "output_type": "stream",
          "name": "stderr",
          "text": [
            "WARNING:pgmpy:BayesianModel has been renamed to BayesianNetwork. Please use BayesianNetwork class, BayesianModel will be removed in future.\n",
            "WARNING:pgmpy:BayesianModel has been renamed to BayesianNetwork. Please use BayesianNetwork class, BayesianModel will be removed in future.\n",
            "WARNING:pgmpy:BayesianModel has been renamed to BayesianNetwork. Please use BayesianNetwork class, BayesianModel will be removed in future.\n",
            "WARNING:pgmpy:BayesianModel has been renamed to BayesianNetwork. Please use BayesianNetwork class, BayesianModel will be removed in future.\n",
            "WARNING:pgmpy:BayesianModel has been renamed to BayesianNetwork. Please use BayesianNetwork class, BayesianModel will be removed in future.\n",
            "WARNING:pgmpy:BayesianModel has been renamed to BayesianNetwork. Please use BayesianNetwork class, BayesianModel will be removed in future.\n",
            "WARNING:pgmpy:BayesianModel has been renamed to BayesianNetwork. Please use BayesianNetwork class, BayesianModel will be removed in future.\n",
            "WARNING:pgmpy:BayesianModel has been renamed to BayesianNetwork. Please use BayesianNetwork class, BayesianModel will be removed in future.\n"
          ]
        },
        {
          "output_type": "stream",
          "name": "stdout",
          "text": [
            "+----------+--------------+\n",
            "| Cough    |   phi(Cough) |\n",
            "+==========+==============+\n",
            "| Cough(T) |       0.1979 |\n",
            "+----------+--------------+\n",
            "| Cough(F) |       0.8021 |\n",
            "+----------+--------------+\n",
            "+----------+--------------+\n",
            "| Cough    |   phi(Cough) |\n",
            "+==========+==============+\n",
            "| Cough(T) |       0.1979 |\n",
            "+----------+--------------+\n",
            "| Cough(F) |       0.8021 |\n",
            "+----------+--------------+\n",
            "+----------+--------------+\n",
            "| Cough    |   phi(Cough) |\n",
            "+==========+==============+\n",
            "| Cough(T) |       0.7021 |\n",
            "+----------+--------------+\n",
            "| Cough(F) |       0.2979 |\n",
            "+----------+--------------+\n",
            "+----------+--------------+\n",
            "| Cough    |   phi(Cough) |\n",
            "+==========+==============+\n",
            "| Cough(T) |       0.7021 |\n",
            "+----------+--------------+\n",
            "| Cough(F) |       0.2979 |\n",
            "+----------+--------------+\n"
          ]
        }
      ],
      "source": [
        "dist = infer.query(['Cough'], evidence={'Cold':'F', 'Fever':'T'})\n",
        "print(dist)\n",
        "\n",
        "dist = infer.query(['Cough'], evidence={'Cold':'F', 'Fever':'F'})\n",
        "print(dist)\n",
        "\n",
        "dist = infer.query(['Cough'], evidence={'Cold':'T', 'Fever':'T'})\n",
        "print(dist)\n",
        "\n",
        "dist = infer.query(['Cough'], evidence={'Cold':'T', 'Fever':'F'})\n",
        "print(dist)"
      ]
    },
    {
      "cell_type": "markdown",
      "metadata": {
        "id": "AAIcs4BiRl41"
      },
      "source": [
        "##### 2. Fever is independent from Smokes."
      ]
    },
    {
      "cell_type": "code",
      "execution_count": 35,
      "metadata": {
        "colab": {
          "base_uri": "https://localhost:8080/"
        },
        "id": "Q3jQblxW6MXq",
        "outputId": "5b98013c-a86d-4c75-cce5-045387972657"
      },
      "outputs": [
        {
          "output_type": "stream",
          "name": "stderr",
          "text": [
            "WARNING:pgmpy:BayesianModel has been renamed to BayesianNetwork. Please use BayesianNetwork class, BayesianModel will be removed in future.\n",
            "WARNING:pgmpy:BayesianModel has been renamed to BayesianNetwork. Please use BayesianNetwork class, BayesianModel will be removed in future.\n",
            "WARNING:pgmpy:BayesianModel has been renamed to BayesianNetwork. Please use BayesianNetwork class, BayesianModel will be removed in future.\n",
            "WARNING:pgmpy:BayesianModel has been renamed to BayesianNetwork. Please use BayesianNetwork class, BayesianModel will be removed in future.\n"
          ]
        },
        {
          "output_type": "stream",
          "name": "stdout",
          "text": [
            "+----------+--------------+\n",
            "| Fever    |   phi(Fever) |\n",
            "+==========+==============+\n",
            "| Fever(T) |       0.9500 |\n",
            "+----------+--------------+\n",
            "| Fever(F) |       0.0500 |\n",
            "+----------+--------------+\n"
          ]
        }
      ],
      "source": [
        "dist_fever_cold_Smokes = infer.query(['Fever'], evidence={'Cold': 'T', 'Smokes': 'T'})\n",
        "dist_fever_cold_Smokes_F = infer.query(['Fever'], evidence={'Cold': 'T', 'Smokes': 'F'})\n",
        "print(dist_fever_cold_Smokes_F)\n"
      ]
    },
    {
      "cell_type": "markdown",
      "metadata": {
        "id": "_6T7hJcHRl42"
      },
      "source": [
        "##### 3. ChestPain is independent from Smokes."
      ]
    },
    {
      "cell_type": "code",
      "execution_count": 36,
      "metadata": {
        "colab": {
          "base_uri": "https://localhost:8080/"
        },
        "id": "he8jjO1E6MXq",
        "outputId": "c2fe9dff-1285-4ed2-8771-cb89878fc99e"
      },
      "outputs": [
        {
          "output_type": "stream",
          "name": "stderr",
          "text": [
            "WARNING:pgmpy:BayesianModel has been renamed to BayesianNetwork. Please use BayesianNetwork class, BayesianModel will be removed in future.\n",
            "WARNING:pgmpy:BayesianModel has been renamed to BayesianNetwork. Please use BayesianNetwork class, BayesianModel will be removed in future.\n",
            "WARNING:pgmpy:BayesianModel has been renamed to BayesianNetwork. Please use BayesianNetwork class, BayesianModel will be removed in future.\n",
            "WARNING:pgmpy:BayesianModel has been renamed to BayesianNetwork. Please use BayesianNetwork class, BayesianModel will be removed in future.\n",
            "WARNING:pgmpy:BayesianModel has been renamed to BayesianNetwork. Please use BayesianNetwork class, BayesianModel will be removed in future.\n",
            "WARNING:pgmpy:BayesianModel has been renamed to BayesianNetwork. Please use BayesianNetwork class, BayesianModel will be removed in future.\n",
            "WARNING:pgmpy:BayesianModel has been renamed to BayesianNetwork. Please use BayesianNetwork class, BayesianModel will be removed in future.\n",
            "WARNING:pgmpy:BayesianModel has been renamed to BayesianNetwork. Please use BayesianNetwork class, BayesianModel will be removed in future.\n"
          ]
        },
        {
          "output_type": "stream",
          "name": "stdout",
          "text": [
            "+----------+--------------+\n",
            "| Cough    |   phi(Cough) |\n",
            "+==========+==============+\n",
            "| Cough(T) |       0.7021 |\n",
            "+----------+--------------+\n",
            "| Cough(F) |       0.2979 |\n",
            "+----------+--------------+\n"
          ]
        }
      ],
      "source": [
        "dist_chest_lung_T_smokes_T = infer.query(['ChestPain'], evidence={'LungDisease': 'T', 'Smokes': 'T'})\n",
        "\n",
        "dist_chest_lung_T_smokes_F = infer.query(['ChestPain'], evidence={'LungDisease': 'T', 'Smokes': 'F'})\n",
        "\n",
        "dist_chest_lung_F_smokes_T = infer.query(['ChestPain'], evidence={'LungDisease': 'F', 'Smokes': 'T'})\n",
        "\n",
        "dist_chest_lung_F_smokes_F = infer.query(['ChestPain'], evidence={'LungDisease': 'F', 'Smokes': 'F'})\n",
        "print(dist)"
      ]
    },
    {
      "cell_type": "markdown",
      "metadata": {
        "id": "spBCM7USRl42"
      },
      "source": [
        "## Q9 [20]\n",
        "1. Does having the knowledge that the person is coughing increase the probability of lung disease?\n",
        "2. Does having the knowledge that the person is coughing increase the probability that the person has Cold?\n",
        "3. Does having the knowledge that the person is coughing increase the probability that there is Fever?\n",
        "4. Does having the knowledge that the person is coughing increase the probability that there is Fever, given the person has Cold?\n",
        "5. Does having the knowledge that the person has Fever increase the probability that there is Lung Disease?\n"
      ]
    },
    {
      "cell_type": "markdown",
      "metadata": {
        "id": "t9QmbDhHRl42"
      },
      "source": [
        "##### 1. Does having the knowledge that the person is coughing increase the probability of lung disease? [5]"
      ]
    },
    {
      "cell_type": "code",
      "execution_count": 37,
      "metadata": {
        "id": "_qsYv2z-Rl42",
        "outputId": "eef44727-ff4b-4e27-cab1-f2ff41d0cbcd",
        "colab": {
          "base_uri": "https://localhost:8080/"
        }
      },
      "outputs": [
        {
          "output_type": "stream",
          "name": "stderr",
          "text": [
            "WARNING:pgmpy:BayesianModel has been renamed to BayesianNetwork. Please use BayesianNetwork class, BayesianModel will be removed in future.\n",
            "WARNING:pgmpy:BayesianModel has been renamed to BayesianNetwork. Please use BayesianNetwork class, BayesianModel will be removed in future.\n",
            "WARNING:pgmpy:BayesianModel has been renamed to BayesianNetwork. Please use BayesianNetwork class, BayesianModel will be removed in future.\n",
            "WARNING:pgmpy:BayesianModel has been renamed to BayesianNetwork. Please use BayesianNetwork class, BayesianModel will be removed in future.\n"
          ]
        },
        {
          "output_type": "stream",
          "name": "stdout",
          "text": [
            "+----------------+--------------------+\n",
            "| LungDisease    |   phi(LungDisease) |\n",
            "+================+====================+\n",
            "| LungDisease(T) |             0.0210 |\n",
            "+----------------+--------------------+\n",
            "| LungDisease(F) |             0.9790 |\n",
            "+----------------+--------------------+\n",
            "+----------------+--------------------+\n",
            "| LungDisease    |   phi(LungDisease) |\n",
            "+================+====================+\n",
            "| LungDisease(T) |             0.0144 |\n",
            "+----------------+--------------------+\n",
            "| LungDisease(F) |             0.9856 |\n",
            "+----------------+--------------------+\n"
          ]
        }
      ],
      "source": [
        "dist = infer.query(['LungDisease'])\n",
        "print(dist)\n",
        "dist = infer.query(['LungDisease'], evidence={'Cough': 'T'})\n",
        "print(dist)"
      ]
    },
    {
      "cell_type": "markdown",
      "metadata": {
        "id": "PUfqtpCARl42"
      },
      "source": [
        "Having the knowledge that the person is coughing increases the probability of lung disease."
      ]
    },
    {
      "cell_type": "markdown",
      "metadata": {
        "id": "6ECZXwAKRl42"
      },
      "source": [
        "##### 2. Does having the knowledge that the person is coughing increase the probability that the person has Cold? [5]"
      ]
    },
    {
      "cell_type": "code",
      "execution_count": 38,
      "metadata": {
        "id": "-tuYkOEsRl42",
        "colab": {
          "base_uri": "https://localhost:8080/"
        },
        "outputId": "c0de157d-bef3-4291-90e4-792f7749a865"
      },
      "outputs": [
        {
          "output_type": "stream",
          "name": "stderr",
          "text": [
            "WARNING:pgmpy:BayesianModel has been renamed to BayesianNetwork. Please use BayesianNetwork class, BayesianModel will be removed in future.\n",
            "WARNING:pgmpy:BayesianModel has been renamed to BayesianNetwork. Please use BayesianNetwork class, BayesianModel will be removed in future.\n",
            "WARNING:pgmpy:BayesianModel has been renamed to BayesianNetwork. Please use BayesianNetwork class, BayesianModel will be removed in future.\n",
            "WARNING:pgmpy:BayesianModel has been renamed to BayesianNetwork. Please use BayesianNetwork class, BayesianModel will be removed in future.\n"
          ]
        },
        {
          "output_type": "stream",
          "name": "stdout",
          "text": [
            "+---------+-------------+\n",
            "| Cold    |   phi(Cold) |\n",
            "+=========+=============+\n",
            "| Cold(T) |      0.2827 |\n",
            "+---------+-------------+\n",
            "| Cold(F) |      0.7173 |\n",
            "+---------+-------------+\n",
            "+---------+-------------+\n",
            "| Cold    |   phi(Cold) |\n",
            "+=========+=============+\n",
            "| Cold(T) |      0.0396 |\n",
            "+---------+-------------+\n",
            "| Cold(F) |      0.9604 |\n",
            "+---------+-------------+\n"
          ]
        }
      ],
      "source": [
        "dist_Cold_Cough_T = infer.query(variables=['Cold'], evidence={'Cough': 'T'})\n",
        "print(dist_Cold_Cough_T)\n",
        "\n",
        "dist_Cold_Cough_F = infer.query(variables=['Cold'], evidence={'Cough': 'F'})\n",
        "print(dist_Cold_Cough_F)"
      ]
    },
    {
      "cell_type": "markdown",
      "metadata": {
        "id": "y9tkAL8xRl42"
      },
      "source": [
        "##### 3. Does having the knowledge that the person is coughing increase the probability that there is Fever? [5]"
      ]
    },
    {
      "cell_type": "code",
      "execution_count": 39,
      "metadata": {
        "scrolled": true,
        "id": "sw6ST64ZRl43",
        "colab": {
          "base_uri": "https://localhost:8080/"
        },
        "outputId": "05122767-0793-4c81-fb7a-489994e202ff"
      },
      "outputs": [
        {
          "output_type": "stream",
          "name": "stderr",
          "text": [
            "WARNING:pgmpy:BayesianModel has been renamed to BayesianNetwork. Please use BayesianNetwork class, BayesianModel will be removed in future.\n",
            "WARNING:pgmpy:BayesianModel has been renamed to BayesianNetwork. Please use BayesianNetwork class, BayesianModel will be removed in future.\n",
            "WARNING:pgmpy:BayesianModel has been renamed to BayesianNetwork. Please use BayesianNetwork class, BayesianModel will be removed in future.\n",
            "WARNING:pgmpy:BayesianModel has been renamed to BayesianNetwork. Please use BayesianNetwork class, BayesianModel will be removed in future.\n"
          ]
        },
        {
          "output_type": "stream",
          "name": "stdout",
          "text": [
            "+----------+--------------+\n",
            "| Fever    |   phi(Fever) |\n",
            "+==========+==============+\n",
            "| Fever(T) |       0.3045 |\n",
            "+----------+--------------+\n",
            "| Fever(F) |       0.6955 |\n",
            "+----------+--------------+\n",
            "+----------+--------------+\n",
            "| Fever    |   phi(Fever) |\n",
            "+==========+==============+\n",
            "| Fever(T) |       0.0857 |\n",
            "+----------+--------------+\n",
            "| Fever(F) |       0.9143 |\n",
            "+----------+--------------+\n"
          ]
        }
      ],
      "source": [
        "dist_Fever_Cough_T = infer.query(variables=['Fever'], evidence={'Cough': 'T'})\n",
        "print(dist_Fever_Cough_T)\n",
        "\n",
        "dist_Fever_Cough_F = infer.query(variables=['Fever'], evidence={'Cough': 'F'})\n",
        "print(dist_Fever_Cough_F)"
      ]
    },
    {
      "cell_type": "markdown",
      "metadata": {
        "id": "hAdDxUuqRl43"
      },
      "source": [
        "##### 4. Does having the knowledge that the person is coughing increase the probability that there is Fever, given the person has Cold?"
      ]
    },
    {
      "cell_type": "code",
      "execution_count": 40,
      "metadata": {
        "id": "iegv6Dd1Rl43",
        "colab": {
          "base_uri": "https://localhost:8080/"
        },
        "outputId": "677b1cd4-1932-4095-e9d3-7c579280da5d"
      },
      "outputs": [
        {
          "output_type": "stream",
          "name": "stderr",
          "text": [
            "WARNING:pgmpy:BayesianModel has been renamed to BayesianNetwork. Please use BayesianNetwork class, BayesianModel will be removed in future.\n",
            "WARNING:pgmpy:BayesianModel has been renamed to BayesianNetwork. Please use BayesianNetwork class, BayesianModel will be removed in future.\n",
            "WARNING:pgmpy:BayesianModel has been renamed to BayesianNetwork. Please use BayesianNetwork class, BayesianModel will be removed in future.\n",
            "WARNING:pgmpy:BayesianModel has been renamed to BayesianNetwork. Please use BayesianNetwork class, BayesianModel will be removed in future.\n",
            "WARNING:pgmpy:BayesianModel has been renamed to BayesianNetwork. Please use BayesianNetwork class, BayesianModel will be removed in future.\n",
            "WARNING:pgmpy:BayesianModel has been renamed to BayesianNetwork. Please use BayesianNetwork class, BayesianModel will be removed in future.\n",
            "WARNING:pgmpy:BayesianModel has been renamed to BayesianNetwork. Please use BayesianNetwork class, BayesianModel will be removed in future.\n",
            "WARNING:pgmpy:BayesianModel has been renamed to BayesianNetwork. Please use BayesianNetwork class, BayesianModel will be removed in future.\n"
          ]
        },
        {
          "output_type": "stream",
          "name": "stdout",
          "text": [
            "+----------+--------------+\n",
            "| Fever    |   phi(Fever) |\n",
            "+==========+==============+\n",
            "| Fever(T) |       0.9500 |\n",
            "+----------+--------------+\n",
            "| Fever(F) |       0.0500 |\n",
            "+----------+--------------+\n",
            "+----------+--------------+\n",
            "| Fever    |   phi(Fever) |\n",
            "+==========+==============+\n",
            "| Fever(T) |       0.0500 |\n",
            "+----------+--------------+\n",
            "| Fever(F) |       0.9500 |\n",
            "+----------+--------------+\n",
            "+----------+--------------+\n",
            "| Fever    |   phi(Fever) |\n",
            "+==========+==============+\n",
            "| Fever(T) |       0.9500 |\n",
            "+----------+--------------+\n",
            "| Fever(F) |       0.0500 |\n",
            "+----------+--------------+\n",
            "+----------+--------------+\n",
            "| Fever    |   phi(Fever) |\n",
            "+==========+==============+\n",
            "| Fever(T) |       0.0500 |\n",
            "+----------+--------------+\n",
            "| Fever(F) |       0.9500 |\n",
            "+----------+--------------+\n"
          ]
        }
      ],
      "source": [
        "\n",
        "dist_Fever_CoughT_ColdT = infer.query(variables=['Fever'], evidence={'Cough': 'T', 'Cold': 'T'})\n",
        "print(dist_Fever_CoughT_ColdT)\n",
        "\n",
        "dist_Fever_CoughT_ColdF = infer.query(variables=['Fever'], evidence={'Cough': 'T', 'Cold': 'F'})\n",
        "print(dist_Fever_CoughT_ColdF)\n",
        "\n",
        "dist_Fever_CoughF_ColdT = infer.query(variables=['Fever'], evidence={'Cough': 'F', 'Cold': 'T'})\n",
        "print(dist_Fever_CoughF_ColdT)\n",
        "\n",
        "dist_Fever_CoughF_ColdF = infer.query(variables=['Fever'], evidence={'Cough': 'F', 'Cold': 'F'})\n",
        "print(dist_Fever_CoughF_ColdF)\n"
      ]
    },
    {
      "cell_type": "markdown",
      "metadata": {
        "id": "4pIuszl-Rl43"
      },
      "source": [
        "##### 5. Does having the knowledge that the person has Fever increase the probability that there is Lung Disease?"
      ]
    },
    {
      "cell_type": "code",
      "execution_count": 41,
      "metadata": {
        "id": "0pF7qKW9Rl43",
        "colab": {
          "base_uri": "https://localhost:8080/"
        },
        "outputId": "e6896972-1aef-40af-d5a3-ff74a0090098"
      },
      "outputs": [
        {
          "output_type": "stream",
          "name": "stderr",
          "text": [
            "WARNING:pgmpy:BayesianModel has been renamed to BayesianNetwork. Please use BayesianNetwork class, BayesianModel will be removed in future.\n",
            "WARNING:pgmpy:BayesianModel has been renamed to BayesianNetwork. Please use BayesianNetwork class, BayesianModel will be removed in future.\n",
            "WARNING:pgmpy:BayesianModel has been renamed to BayesianNetwork. Please use BayesianNetwork class, BayesianModel will be removed in future.\n",
            "WARNING:pgmpy:BayesianModel has been renamed to BayesianNetwork. Please use BayesianNetwork class, BayesianModel will be removed in future.\n"
          ]
        },
        {
          "output_type": "stream",
          "name": "stdout",
          "text": [
            "+----------------+--------------------+\n",
            "| LungDisease    |   phi(LungDisease) |\n",
            "+================+====================+\n",
            "| LungDisease(T) |             0.0210 |\n",
            "+----------------+--------------------+\n",
            "| LungDisease(F) |             0.9790 |\n",
            "+----------------+--------------------+\n",
            "+----------------+--------------------+\n",
            "| LungDisease    |   phi(LungDisease) |\n",
            "+================+====================+\n",
            "| LungDisease(T) |             0.0210 |\n",
            "+----------------+--------------------+\n",
            "| LungDisease(F) |             0.9790 |\n",
            "+----------------+--------------------+\n"
          ]
        }
      ],
      "source": [
        "dist_Lung_FeverT = infer.query(variables=['LungDisease'], evidence={'Fever': 'T'})\n",
        "print(dist_Lung_FeverT)\n",
        "\n",
        "dist_Lung_FeverF = infer.query(variables=['LungDisease'], evidence={'Fever': 'F'})\n",
        "print(dist_Lung_FeverF)"
      ]
    },
    {
      "cell_type": "markdown",
      "metadata": {
        "id": "aXgo3mW7Rl43"
      },
      "source": [
        "## Q10 [5]\n",
        "1. What's the most probable state of Cough?\n",
        "2. What's the most probable state of Cough given Cold is True?\n",
        "3. What's the most probable state of Cough given Cold is True and Lung Disease is True?"
      ]
    },
    {
      "cell_type": "markdown",
      "metadata": {
        "id": "RQm1QlszRl43"
      },
      "source": [
        "##### 1. What's the most probable state of Cough?"
      ]
    },
    {
      "cell_type": "code",
      "execution_count": 42,
      "metadata": {
        "id": "yQcWEiAGRl43",
        "outputId": "769ed7c3-f4ca-49da-dd8f-aa6f5a265c3c",
        "colab": {
          "base_uri": "https://localhost:8080/",
          "height": 135,
          "referenced_widgets": [
            "2c8c5bb7379346899ecd4b50f4c20677",
            "6c449c4cb23d4df4ad42c1f19a1b6439",
            "1e3c8829e74e4f51a91949a0b88d3233",
            "cce269b574404f8d8881d92fa9636147",
            "45cb8aaae9d04f3fa661a224cba16d66",
            "c17897ae37fe492bb4006f66e7ea0d95",
            "503f8f8277ba4663bd9ad8890ef74f17",
            "515bc1bb8e9f4bba9204eafd3690ca1a",
            "6a2a2cac698e449bbd7627c8e543d34a",
            "b63523f71bce4be7b5152ca0b955d989",
            "1062a39998fb4c2cafd129e71ff98575",
            "58ae33c7ec8a457babfe2494886f6618",
            "354fef654d9344f1b8f287028dd628be",
            "150b01f92185420c9a01812839e0021d",
            "02e7b49237b94d75bb3c8b430d71c26c",
            "a9901d3f38174bb3a6387ed0daf5804c",
            "16606c707208432b8cebd519dd49ecb2",
            "5fce86bd9c9a4e87a62199d693c893c5",
            "303d6d06a9ac4627bee17d88dbae60ca",
            "bdb2f3e7b52942fa9f8e9eb8f0416843",
            "5c17a2b1b1d64a3d8d14529169bfbb9a",
            "d5af0956022a412d9a5f989f4cde0b27"
          ]
        }
      },
      "outputs": [
        {
          "output_type": "stream",
          "name": "stderr",
          "text": [
            "WARNING:pgmpy:BayesianModel has been renamed to BayesianNetwork. Please use BayesianNetwork class, BayesianModel will be removed in future.\n",
            "WARNING:pgmpy:BayesianModel has been renamed to BayesianNetwork. Please use BayesianNetwork class, BayesianModel will be removed in future.\n"
          ]
        },
        {
          "output_type": "display_data",
          "data": {
            "text/plain": [
              "  0%|          | 0/3 [00:00<?, ?it/s]"
            ],
            "application/vnd.jupyter.widget-view+json": {
              "version_major": 2,
              "version_minor": 0,
              "model_id": "2c8c5bb7379346899ecd4b50f4c20677"
            }
          },
          "metadata": {}
        },
        {
          "output_type": "display_data",
          "data": {
            "text/plain": [
              "  0%|          | 0/3 [00:00<?, ?it/s]"
            ],
            "application/vnd.jupyter.widget-view+json": {
              "version_major": 2,
              "version_minor": 0,
              "model_id": "58ae33c7ec8a457babfe2494886f6618"
            }
          },
          "metadata": {}
        },
        {
          "output_type": "execute_result",
          "data": {
            "text/plain": [
              "{'Cough': 'F'}"
            ]
          },
          "metadata": {},
          "execution_count": 42
        }
      ],
      "source": [
        "infer.map_query(['Cough'])"
      ]
    },
    {
      "cell_type": "markdown",
      "metadata": {
        "id": "tv1J8EKVRl44"
      },
      "source": [
        "The most probable state of Cough is False."
      ]
    },
    {
      "cell_type": "markdown",
      "metadata": {
        "id": "pByipijzRl44"
      },
      "source": [
        "##### 2. What's the most probable state of Cough given Cold is True?"
      ]
    },
    {
      "cell_type": "code",
      "execution_count": 43,
      "metadata": {
        "id": "rUfNR6ffRl44",
        "colab": {
          "base_uri": "https://localhost:8080/",
          "height": 135,
          "referenced_widgets": [
            "d5d18a8ad2c0465dbb52574c7c50ee0e",
            "7ec350c5b8434d49ad584b1f13abaa04",
            "2ebf45a4f202437d80fe4206a1aba1d2",
            "ec69595b09b743f589ee8dfab5293271",
            "e9896f13140f47c6ab1397b4947c1db3",
            "1191224fff4e4d8f84c9b29a80a27aad",
            "9d015ca4f269450187afb48cbec7f396",
            "ea953dca316049e49a43105521b3e501",
            "c9e50073a255435ead09012a25dc1289",
            "78665839f72842838a25b3da30ed9811",
            "dab9dc5dabf245fcaf5a512da53a1f80",
            "7b7340cd585647c18904602236634ced",
            "4cebe048e6714353930e3a36838b6ed0",
            "44cf5f74d939485e9d397d67d61326ee",
            "2df89aa50d4f4a4f9d423f65ea739b04",
            "ddd6e40f05f645c5af8b2140a8149c7b",
            "bda9e5b062184960b370d15fbfb7a17c",
            "b96bfba275774f59af0cb9bb985ba00b",
            "a822712525114af69662285289da9aba",
            "37a32329d6b24ae3a2f678590eb6e45f",
            "ab43a4ae45eb4890aaa0ad9bdfcc00ac",
            "9777b0980c5d49279bcdd13b1c63de8d"
          ]
        },
        "outputId": "c4c96ea8-7dcc-4b3e-a0ea-a811534e2ec7"
      },
      "outputs": [
        {
          "output_type": "stream",
          "name": "stderr",
          "text": [
            "WARNING:pgmpy:BayesianModel has been renamed to BayesianNetwork. Please use BayesianNetwork class, BayesianModel will be removed in future.\n",
            "WARNING:pgmpy:BayesianModel has been renamed to BayesianNetwork. Please use BayesianNetwork class, BayesianModel will be removed in future.\n"
          ]
        },
        {
          "output_type": "display_data",
          "data": {
            "text/plain": [
              "  0%|          | 0/2 [00:00<?, ?it/s]"
            ],
            "application/vnd.jupyter.widget-view+json": {
              "version_major": 2,
              "version_minor": 0,
              "model_id": "d5d18a8ad2c0465dbb52574c7c50ee0e"
            }
          },
          "metadata": {}
        },
        {
          "output_type": "display_data",
          "data": {
            "text/plain": [
              "  0%|          | 0/2 [00:00<?, ?it/s]"
            ],
            "application/vnd.jupyter.widget-view+json": {
              "version_major": 2,
              "version_minor": 0,
              "model_id": "7b7340cd585647c18904602236634ced"
            }
          },
          "metadata": {}
        },
        {
          "output_type": "execute_result",
          "data": {
            "text/plain": [
              "{'Cough': 'T'}"
            ]
          },
          "metadata": {},
          "execution_count": 43
        }
      ],
      "source": [
        "infer.map_query(variables=['Cough'], evidence={'Cold': 'T'})\n"
      ]
    },
    {
      "cell_type": "markdown",
      "metadata": {
        "id": "gZcIeJgBRl44"
      },
      "source": [
        "##### 3. What's the most probable state of Cough given Cold is True and Lung Disease is True?"
      ]
    },
    {
      "cell_type": "code",
      "execution_count": 44,
      "metadata": {
        "id": "H2EB7bybRl44",
        "colab": {
          "base_uri": "https://localhost:8080/",
          "height": 135,
          "referenced_widgets": [
            "c1bc4856a3b64de1add9059a1f47c5c9",
            "2a536a8037fb4c49994b04faabd6186a",
            "56b7f8cb67fe4b77af4af55615d07eb3",
            "0ed269812e674bdeacaccadfd706a07c",
            "44401e3bd20e4b7b81cfe71af8c240ce",
            "cd8a808ec0f94c32a18fcf9c9b81d1b1",
            "8d8327b19f1f41dab2a1cfbc2cb875e6",
            "5e510f9a55874bcb8d99697d650c526f",
            "33d947fe2b9f47aab067f7c3e5924167",
            "4c1c44db1d364f688fb893f6a216ccfc",
            "08cf504400614f6bbfcdc6cc90283260",
            "f6ca7dedaa5d43d3b6fa3c669df5fc74",
            "d0e0c872de974f4c8431f5cc075c68fb",
            "b9c694b7b80f4e8dbd6f35c816842e45",
            "d035d77c79394751984a9da9d0580faa",
            "ca8c74df37d345eabcb8bb32a56f2cb7",
            "3cbc8acba961468d82a88c5515e4dfac",
            "fdbba4ec2a9c47e284e56578625fd04f",
            "4a076d1060734853980cb4a842d3e0fc",
            "fb5bc5eda75f43eebb2090afe6cc1b34",
            "5f4b9dbb55374195bc49bf3b20af3764",
            "d98170ce965f4408b4ce48a1be0c6057"
          ]
        },
        "outputId": "227dce5d-38f9-44d6-e3d7-54efba3e714e"
      },
      "outputs": [
        {
          "output_type": "stream",
          "name": "stderr",
          "text": [
            "WARNING:pgmpy:BayesianModel has been renamed to BayesianNetwork. Please use BayesianNetwork class, BayesianModel will be removed in future.\n",
            "WARNING:pgmpy:BayesianModel has been renamed to BayesianNetwork. Please use BayesianNetwork class, BayesianModel will be removed in future.\n"
          ]
        },
        {
          "output_type": "display_data",
          "data": {
            "text/plain": [
              "0it [00:00, ?it/s]"
            ],
            "application/vnd.jupyter.widget-view+json": {
              "version_major": 2,
              "version_minor": 0,
              "model_id": "c1bc4856a3b64de1add9059a1f47c5c9"
            }
          },
          "metadata": {}
        },
        {
          "output_type": "display_data",
          "data": {
            "text/plain": [
              "0it [00:00, ?it/s]"
            ],
            "application/vnd.jupyter.widget-view+json": {
              "version_major": 2,
              "version_minor": 0,
              "model_id": "f6ca7dedaa5d43d3b6fa3c669df5fc74"
            }
          },
          "metadata": {}
        },
        {
          "output_type": "execute_result",
          "data": {
            "text/plain": [
              "{'Cough': 'T'}"
            ]
          },
          "metadata": {},
          "execution_count": 44
        }
      ],
      "source": [
        "infer.map_query(variables=['Cough'], evidence={'Cold': 'T', 'LungDisease': 'T'})\n"
      ]
    },
    {
      "cell_type": "markdown",
      "metadata": {
        "id": "TlAyzQoxRl44"
      },
      "source": [
        "# Well done!"
      ]
    }
  ],
  "metadata": {
    "kernelspec": {
      "display_name": "Python 3",
      "language": "python",
      "name": "python3"
    },
    "language_info": {
      "codemirror_mode": {
        "name": "ipython",
        "version": 3
      },
      "file_extension": ".py",
      "mimetype": "text/x-python",
      "name": "python",
      "nbconvert_exporter": "python",
      "pygments_lexer": "ipython3",
      "version": "3.8.8"
    },
    "toc": {
      "base_numbering": 1,
      "nav_menu": {},
      "number_sections": false,
      "sideBar": false,
      "skip_h1_title": false,
      "title_cell": "Table of Contents",
      "title_sidebar": "Contents",
      "toc_cell": false,
      "toc_position": {},
      "toc_section_display": false,
      "toc_window_display": false
    },
    "colab": {
      "provenance": [],
      "include_colab_link": true
    },
    "widgets": {
      "application/vnd.jupyter.widget-state+json": {
        "2c8c5bb7379346899ecd4b50f4c20677": {
          "model_module": "@jupyter-widgets/controls",
          "model_name": "HBoxModel",
          "model_module_version": "1.5.0",
          "state": {
            "_dom_classes": [],
            "_model_module": "@jupyter-widgets/controls",
            "_model_module_version": "1.5.0",
            "_model_name": "HBoxModel",
            "_view_count": null,
            "_view_module": "@jupyter-widgets/controls",
            "_view_module_version": "1.5.0",
            "_view_name": "HBoxView",
            "box_style": "",
            "children": [
              "IPY_MODEL_6c449c4cb23d4df4ad42c1f19a1b6439",
              "IPY_MODEL_1e3c8829e74e4f51a91949a0b88d3233",
              "IPY_MODEL_cce269b574404f8d8881d92fa9636147"
            ],
            "layout": "IPY_MODEL_45cb8aaae9d04f3fa661a224cba16d66"
          }
        },
        "6c449c4cb23d4df4ad42c1f19a1b6439": {
          "model_module": "@jupyter-widgets/controls",
          "model_name": "HTMLModel",
          "model_module_version": "1.5.0",
          "state": {
            "_dom_classes": [],
            "_model_module": "@jupyter-widgets/controls",
            "_model_module_version": "1.5.0",
            "_model_name": "HTMLModel",
            "_view_count": null,
            "_view_module": "@jupyter-widgets/controls",
            "_view_module_version": "1.5.0",
            "_view_name": "HTMLView",
            "description": "",
            "description_tooltip": null,
            "layout": "IPY_MODEL_c17897ae37fe492bb4006f66e7ea0d95",
            "placeholder": "​",
            "style": "IPY_MODEL_503f8f8277ba4663bd9ad8890ef74f17",
            "value": "Finding Elimination Order: :   0%"
          }
        },
        "1e3c8829e74e4f51a91949a0b88d3233": {
          "model_module": "@jupyter-widgets/controls",
          "model_name": "FloatProgressModel",
          "model_module_version": "1.5.0",
          "state": {
            "_dom_classes": [],
            "_model_module": "@jupyter-widgets/controls",
            "_model_module_version": "1.5.0",
            "_model_name": "FloatProgressModel",
            "_view_count": null,
            "_view_module": "@jupyter-widgets/controls",
            "_view_module_version": "1.5.0",
            "_view_name": "ProgressView",
            "bar_style": "",
            "description": "",
            "description_tooltip": null,
            "layout": "IPY_MODEL_515bc1bb8e9f4bba9204eafd3690ca1a",
            "max": 3,
            "min": 0,
            "orientation": "horizontal",
            "style": "IPY_MODEL_6a2a2cac698e449bbd7627c8e543d34a",
            "value": 0
          }
        },
        "cce269b574404f8d8881d92fa9636147": {
          "model_module": "@jupyter-widgets/controls",
          "model_name": "HTMLModel",
          "model_module_version": "1.5.0",
          "state": {
            "_dom_classes": [],
            "_model_module": "@jupyter-widgets/controls",
            "_model_module_version": "1.5.0",
            "_model_name": "HTMLModel",
            "_view_count": null,
            "_view_module": "@jupyter-widgets/controls",
            "_view_module_version": "1.5.0",
            "_view_name": "HTMLView",
            "description": "",
            "description_tooltip": null,
            "layout": "IPY_MODEL_b63523f71bce4be7b5152ca0b955d989",
            "placeholder": "​",
            "style": "IPY_MODEL_1062a39998fb4c2cafd129e71ff98575",
            "value": " 0/3 [00:00&lt;?, ?it/s]"
          }
        },
        "45cb8aaae9d04f3fa661a224cba16d66": {
          "model_module": "@jupyter-widgets/base",
          "model_name": "LayoutModel",
          "model_module_version": "1.2.0",
          "state": {
            "_model_module": "@jupyter-widgets/base",
            "_model_module_version": "1.2.0",
            "_model_name": "LayoutModel",
            "_view_count": null,
            "_view_module": "@jupyter-widgets/base",
            "_view_module_version": "1.2.0",
            "_view_name": "LayoutView",
            "align_content": null,
            "align_items": null,
            "align_self": null,
            "border": null,
            "bottom": null,
            "display": null,
            "flex": null,
            "flex_flow": null,
            "grid_area": null,
            "grid_auto_columns": null,
            "grid_auto_flow": null,
            "grid_auto_rows": null,
            "grid_column": null,
            "grid_gap": null,
            "grid_row": null,
            "grid_template_areas": null,
            "grid_template_columns": null,
            "grid_template_rows": null,
            "height": null,
            "justify_content": null,
            "justify_items": null,
            "left": null,
            "margin": null,
            "max_height": null,
            "max_width": null,
            "min_height": null,
            "min_width": null,
            "object_fit": null,
            "object_position": null,
            "order": null,
            "overflow": null,
            "overflow_x": null,
            "overflow_y": null,
            "padding": null,
            "right": null,
            "top": null,
            "visibility": null,
            "width": null
          }
        },
        "c17897ae37fe492bb4006f66e7ea0d95": {
          "model_module": "@jupyter-widgets/base",
          "model_name": "LayoutModel",
          "model_module_version": "1.2.0",
          "state": {
            "_model_module": "@jupyter-widgets/base",
            "_model_module_version": "1.2.0",
            "_model_name": "LayoutModel",
            "_view_count": null,
            "_view_module": "@jupyter-widgets/base",
            "_view_module_version": "1.2.0",
            "_view_name": "LayoutView",
            "align_content": null,
            "align_items": null,
            "align_self": null,
            "border": null,
            "bottom": null,
            "display": null,
            "flex": null,
            "flex_flow": null,
            "grid_area": null,
            "grid_auto_columns": null,
            "grid_auto_flow": null,
            "grid_auto_rows": null,
            "grid_column": null,
            "grid_gap": null,
            "grid_row": null,
            "grid_template_areas": null,
            "grid_template_columns": null,
            "grid_template_rows": null,
            "height": null,
            "justify_content": null,
            "justify_items": null,
            "left": null,
            "margin": null,
            "max_height": null,
            "max_width": null,
            "min_height": null,
            "min_width": null,
            "object_fit": null,
            "object_position": null,
            "order": null,
            "overflow": null,
            "overflow_x": null,
            "overflow_y": null,
            "padding": null,
            "right": null,
            "top": null,
            "visibility": null,
            "width": null
          }
        },
        "503f8f8277ba4663bd9ad8890ef74f17": {
          "model_module": "@jupyter-widgets/controls",
          "model_name": "DescriptionStyleModel",
          "model_module_version": "1.5.0",
          "state": {
            "_model_module": "@jupyter-widgets/controls",
            "_model_module_version": "1.5.0",
            "_model_name": "DescriptionStyleModel",
            "_view_count": null,
            "_view_module": "@jupyter-widgets/base",
            "_view_module_version": "1.2.0",
            "_view_name": "StyleView",
            "description_width": ""
          }
        },
        "515bc1bb8e9f4bba9204eafd3690ca1a": {
          "model_module": "@jupyter-widgets/base",
          "model_name": "LayoutModel",
          "model_module_version": "1.2.0",
          "state": {
            "_model_module": "@jupyter-widgets/base",
            "_model_module_version": "1.2.0",
            "_model_name": "LayoutModel",
            "_view_count": null,
            "_view_module": "@jupyter-widgets/base",
            "_view_module_version": "1.2.0",
            "_view_name": "LayoutView",
            "align_content": null,
            "align_items": null,
            "align_self": null,
            "border": null,
            "bottom": null,
            "display": null,
            "flex": null,
            "flex_flow": null,
            "grid_area": null,
            "grid_auto_columns": null,
            "grid_auto_flow": null,
            "grid_auto_rows": null,
            "grid_column": null,
            "grid_gap": null,
            "grid_row": null,
            "grid_template_areas": null,
            "grid_template_columns": null,
            "grid_template_rows": null,
            "height": null,
            "justify_content": null,
            "justify_items": null,
            "left": null,
            "margin": null,
            "max_height": null,
            "max_width": null,
            "min_height": null,
            "min_width": null,
            "object_fit": null,
            "object_position": null,
            "order": null,
            "overflow": null,
            "overflow_x": null,
            "overflow_y": null,
            "padding": null,
            "right": null,
            "top": null,
            "visibility": null,
            "width": null
          }
        },
        "6a2a2cac698e449bbd7627c8e543d34a": {
          "model_module": "@jupyter-widgets/controls",
          "model_name": "ProgressStyleModel",
          "model_module_version": "1.5.0",
          "state": {
            "_model_module": "@jupyter-widgets/controls",
            "_model_module_version": "1.5.0",
            "_model_name": "ProgressStyleModel",
            "_view_count": null,
            "_view_module": "@jupyter-widgets/base",
            "_view_module_version": "1.2.0",
            "_view_name": "StyleView",
            "bar_color": null,
            "description_width": ""
          }
        },
        "b63523f71bce4be7b5152ca0b955d989": {
          "model_module": "@jupyter-widgets/base",
          "model_name": "LayoutModel",
          "model_module_version": "1.2.0",
          "state": {
            "_model_module": "@jupyter-widgets/base",
            "_model_module_version": "1.2.0",
            "_model_name": "LayoutModel",
            "_view_count": null,
            "_view_module": "@jupyter-widgets/base",
            "_view_module_version": "1.2.0",
            "_view_name": "LayoutView",
            "align_content": null,
            "align_items": null,
            "align_self": null,
            "border": null,
            "bottom": null,
            "display": null,
            "flex": null,
            "flex_flow": null,
            "grid_area": null,
            "grid_auto_columns": null,
            "grid_auto_flow": null,
            "grid_auto_rows": null,
            "grid_column": null,
            "grid_gap": null,
            "grid_row": null,
            "grid_template_areas": null,
            "grid_template_columns": null,
            "grid_template_rows": null,
            "height": null,
            "justify_content": null,
            "justify_items": null,
            "left": null,
            "margin": null,
            "max_height": null,
            "max_width": null,
            "min_height": null,
            "min_width": null,
            "object_fit": null,
            "object_position": null,
            "order": null,
            "overflow": null,
            "overflow_x": null,
            "overflow_y": null,
            "padding": null,
            "right": null,
            "top": null,
            "visibility": null,
            "width": null
          }
        },
        "1062a39998fb4c2cafd129e71ff98575": {
          "model_module": "@jupyter-widgets/controls",
          "model_name": "DescriptionStyleModel",
          "model_module_version": "1.5.0",
          "state": {
            "_model_module": "@jupyter-widgets/controls",
            "_model_module_version": "1.5.0",
            "_model_name": "DescriptionStyleModel",
            "_view_count": null,
            "_view_module": "@jupyter-widgets/base",
            "_view_module_version": "1.2.0",
            "_view_name": "StyleView",
            "description_width": ""
          }
        },
        "58ae33c7ec8a457babfe2494886f6618": {
          "model_module": "@jupyter-widgets/controls",
          "model_name": "HBoxModel",
          "model_module_version": "1.5.0",
          "state": {
            "_dom_classes": [],
            "_model_module": "@jupyter-widgets/controls",
            "_model_module_version": "1.5.0",
            "_model_name": "HBoxModel",
            "_view_count": null,
            "_view_module": "@jupyter-widgets/controls",
            "_view_module_version": "1.5.0",
            "_view_name": "HBoxView",
            "box_style": "",
            "children": [
              "IPY_MODEL_354fef654d9344f1b8f287028dd628be",
              "IPY_MODEL_150b01f92185420c9a01812839e0021d",
              "IPY_MODEL_02e7b49237b94d75bb3c8b430d71c26c"
            ],
            "layout": "IPY_MODEL_a9901d3f38174bb3a6387ed0daf5804c"
          }
        },
        "354fef654d9344f1b8f287028dd628be": {
          "model_module": "@jupyter-widgets/controls",
          "model_name": "HTMLModel",
          "model_module_version": "1.5.0",
          "state": {
            "_dom_classes": [],
            "_model_module": "@jupyter-widgets/controls",
            "_model_module_version": "1.5.0",
            "_model_name": "HTMLModel",
            "_view_count": null,
            "_view_module": "@jupyter-widgets/controls",
            "_view_module_version": "1.5.0",
            "_view_name": "HTMLView",
            "description": "",
            "description_tooltip": null,
            "layout": "IPY_MODEL_16606c707208432b8cebd519dd49ecb2",
            "placeholder": "​",
            "style": "IPY_MODEL_5fce86bd9c9a4e87a62199d693c893c5",
            "value": "Eliminating: LungDisease: 100%"
          }
        },
        "150b01f92185420c9a01812839e0021d": {
          "model_module": "@jupyter-widgets/controls",
          "model_name": "FloatProgressModel",
          "model_module_version": "1.5.0",
          "state": {
            "_dom_classes": [],
            "_model_module": "@jupyter-widgets/controls",
            "_model_module_version": "1.5.0",
            "_model_name": "FloatProgressModel",
            "_view_count": null,
            "_view_module": "@jupyter-widgets/controls",
            "_view_module_version": "1.5.0",
            "_view_name": "ProgressView",
            "bar_style": "success",
            "description": "",
            "description_tooltip": null,
            "layout": "IPY_MODEL_303d6d06a9ac4627bee17d88dbae60ca",
            "max": 3,
            "min": 0,
            "orientation": "horizontal",
            "style": "IPY_MODEL_bdb2f3e7b52942fa9f8e9eb8f0416843",
            "value": 3
          }
        },
        "02e7b49237b94d75bb3c8b430d71c26c": {
          "model_module": "@jupyter-widgets/controls",
          "model_name": "HTMLModel",
          "model_module_version": "1.5.0",
          "state": {
            "_dom_classes": [],
            "_model_module": "@jupyter-widgets/controls",
            "_model_module_version": "1.5.0",
            "_model_name": "HTMLModel",
            "_view_count": null,
            "_view_module": "@jupyter-widgets/controls",
            "_view_module_version": "1.5.0",
            "_view_name": "HTMLView",
            "description": "",
            "description_tooltip": null,
            "layout": "IPY_MODEL_5c17a2b1b1d64a3d8d14529169bfbb9a",
            "placeholder": "​",
            "style": "IPY_MODEL_d5af0956022a412d9a5f989f4cde0b27",
            "value": " 3/3 [00:00&lt;00:00, 78.14it/s]"
          }
        },
        "a9901d3f38174bb3a6387ed0daf5804c": {
          "model_module": "@jupyter-widgets/base",
          "model_name": "LayoutModel",
          "model_module_version": "1.2.0",
          "state": {
            "_model_module": "@jupyter-widgets/base",
            "_model_module_version": "1.2.0",
            "_model_name": "LayoutModel",
            "_view_count": null,
            "_view_module": "@jupyter-widgets/base",
            "_view_module_version": "1.2.0",
            "_view_name": "LayoutView",
            "align_content": null,
            "align_items": null,
            "align_self": null,
            "border": null,
            "bottom": null,
            "display": null,
            "flex": null,
            "flex_flow": null,
            "grid_area": null,
            "grid_auto_columns": null,
            "grid_auto_flow": null,
            "grid_auto_rows": null,
            "grid_column": null,
            "grid_gap": null,
            "grid_row": null,
            "grid_template_areas": null,
            "grid_template_columns": null,
            "grid_template_rows": null,
            "height": null,
            "justify_content": null,
            "justify_items": null,
            "left": null,
            "margin": null,
            "max_height": null,
            "max_width": null,
            "min_height": null,
            "min_width": null,
            "object_fit": null,
            "object_position": null,
            "order": null,
            "overflow": null,
            "overflow_x": null,
            "overflow_y": null,
            "padding": null,
            "right": null,
            "top": null,
            "visibility": null,
            "width": null
          }
        },
        "16606c707208432b8cebd519dd49ecb2": {
          "model_module": "@jupyter-widgets/base",
          "model_name": "LayoutModel",
          "model_module_version": "1.2.0",
          "state": {
            "_model_module": "@jupyter-widgets/base",
            "_model_module_version": "1.2.0",
            "_model_name": "LayoutModel",
            "_view_count": null,
            "_view_module": "@jupyter-widgets/base",
            "_view_module_version": "1.2.0",
            "_view_name": "LayoutView",
            "align_content": null,
            "align_items": null,
            "align_self": null,
            "border": null,
            "bottom": null,
            "display": null,
            "flex": null,
            "flex_flow": null,
            "grid_area": null,
            "grid_auto_columns": null,
            "grid_auto_flow": null,
            "grid_auto_rows": null,
            "grid_column": null,
            "grid_gap": null,
            "grid_row": null,
            "grid_template_areas": null,
            "grid_template_columns": null,
            "grid_template_rows": null,
            "height": null,
            "justify_content": null,
            "justify_items": null,
            "left": null,
            "margin": null,
            "max_height": null,
            "max_width": null,
            "min_height": null,
            "min_width": null,
            "object_fit": null,
            "object_position": null,
            "order": null,
            "overflow": null,
            "overflow_x": null,
            "overflow_y": null,
            "padding": null,
            "right": null,
            "top": null,
            "visibility": null,
            "width": null
          }
        },
        "5fce86bd9c9a4e87a62199d693c893c5": {
          "model_module": "@jupyter-widgets/controls",
          "model_name": "DescriptionStyleModel",
          "model_module_version": "1.5.0",
          "state": {
            "_model_module": "@jupyter-widgets/controls",
            "_model_module_version": "1.5.0",
            "_model_name": "DescriptionStyleModel",
            "_view_count": null,
            "_view_module": "@jupyter-widgets/base",
            "_view_module_version": "1.2.0",
            "_view_name": "StyleView",
            "description_width": ""
          }
        },
        "303d6d06a9ac4627bee17d88dbae60ca": {
          "model_module": "@jupyter-widgets/base",
          "model_name": "LayoutModel",
          "model_module_version": "1.2.0",
          "state": {
            "_model_module": "@jupyter-widgets/base",
            "_model_module_version": "1.2.0",
            "_model_name": "LayoutModel",
            "_view_count": null,
            "_view_module": "@jupyter-widgets/base",
            "_view_module_version": "1.2.0",
            "_view_name": "LayoutView",
            "align_content": null,
            "align_items": null,
            "align_self": null,
            "border": null,
            "bottom": null,
            "display": null,
            "flex": null,
            "flex_flow": null,
            "grid_area": null,
            "grid_auto_columns": null,
            "grid_auto_flow": null,
            "grid_auto_rows": null,
            "grid_column": null,
            "grid_gap": null,
            "grid_row": null,
            "grid_template_areas": null,
            "grid_template_columns": null,
            "grid_template_rows": null,
            "height": null,
            "justify_content": null,
            "justify_items": null,
            "left": null,
            "margin": null,
            "max_height": null,
            "max_width": null,
            "min_height": null,
            "min_width": null,
            "object_fit": null,
            "object_position": null,
            "order": null,
            "overflow": null,
            "overflow_x": null,
            "overflow_y": null,
            "padding": null,
            "right": null,
            "top": null,
            "visibility": null,
            "width": null
          }
        },
        "bdb2f3e7b52942fa9f8e9eb8f0416843": {
          "model_module": "@jupyter-widgets/controls",
          "model_name": "ProgressStyleModel",
          "model_module_version": "1.5.0",
          "state": {
            "_model_module": "@jupyter-widgets/controls",
            "_model_module_version": "1.5.0",
            "_model_name": "ProgressStyleModel",
            "_view_count": null,
            "_view_module": "@jupyter-widgets/base",
            "_view_module_version": "1.2.0",
            "_view_name": "StyleView",
            "bar_color": null,
            "description_width": ""
          }
        },
        "5c17a2b1b1d64a3d8d14529169bfbb9a": {
          "model_module": "@jupyter-widgets/base",
          "model_name": "LayoutModel",
          "model_module_version": "1.2.0",
          "state": {
            "_model_module": "@jupyter-widgets/base",
            "_model_module_version": "1.2.0",
            "_model_name": "LayoutModel",
            "_view_count": null,
            "_view_module": "@jupyter-widgets/base",
            "_view_module_version": "1.2.0",
            "_view_name": "LayoutView",
            "align_content": null,
            "align_items": null,
            "align_self": null,
            "border": null,
            "bottom": null,
            "display": null,
            "flex": null,
            "flex_flow": null,
            "grid_area": null,
            "grid_auto_columns": null,
            "grid_auto_flow": null,
            "grid_auto_rows": null,
            "grid_column": null,
            "grid_gap": null,
            "grid_row": null,
            "grid_template_areas": null,
            "grid_template_columns": null,
            "grid_template_rows": null,
            "height": null,
            "justify_content": null,
            "justify_items": null,
            "left": null,
            "margin": null,
            "max_height": null,
            "max_width": null,
            "min_height": null,
            "min_width": null,
            "object_fit": null,
            "object_position": null,
            "order": null,
            "overflow": null,
            "overflow_x": null,
            "overflow_y": null,
            "padding": null,
            "right": null,
            "top": null,
            "visibility": null,
            "width": null
          }
        },
        "d5af0956022a412d9a5f989f4cde0b27": {
          "model_module": "@jupyter-widgets/controls",
          "model_name": "DescriptionStyleModel",
          "model_module_version": "1.5.0",
          "state": {
            "_model_module": "@jupyter-widgets/controls",
            "_model_module_version": "1.5.0",
            "_model_name": "DescriptionStyleModel",
            "_view_count": null,
            "_view_module": "@jupyter-widgets/base",
            "_view_module_version": "1.2.0",
            "_view_name": "StyleView",
            "description_width": ""
          }
        },
        "d5d18a8ad2c0465dbb52574c7c50ee0e": {
          "model_module": "@jupyter-widgets/controls",
          "model_name": "HBoxModel",
          "model_module_version": "1.5.0",
          "state": {
            "_dom_classes": [],
            "_model_module": "@jupyter-widgets/controls",
            "_model_module_version": "1.5.0",
            "_model_name": "HBoxModel",
            "_view_count": null,
            "_view_module": "@jupyter-widgets/controls",
            "_view_module_version": "1.5.0",
            "_view_name": "HBoxView",
            "box_style": "",
            "children": [
              "IPY_MODEL_7ec350c5b8434d49ad584b1f13abaa04",
              "IPY_MODEL_2ebf45a4f202437d80fe4206a1aba1d2",
              "IPY_MODEL_ec69595b09b743f589ee8dfab5293271"
            ],
            "layout": "IPY_MODEL_e9896f13140f47c6ab1397b4947c1db3"
          }
        },
        "7ec350c5b8434d49ad584b1f13abaa04": {
          "model_module": "@jupyter-widgets/controls",
          "model_name": "HTMLModel",
          "model_module_version": "1.5.0",
          "state": {
            "_dom_classes": [],
            "_model_module": "@jupyter-widgets/controls",
            "_model_module_version": "1.5.0",
            "_model_name": "HTMLModel",
            "_view_count": null,
            "_view_module": "@jupyter-widgets/controls",
            "_view_module_version": "1.5.0",
            "_view_name": "HTMLView",
            "description": "",
            "description_tooltip": null,
            "layout": "IPY_MODEL_1191224fff4e4d8f84c9b29a80a27aad",
            "placeholder": "​",
            "style": "IPY_MODEL_9d015ca4f269450187afb48cbec7f396",
            "value": "Finding Elimination Order: :   0%"
          }
        },
        "2ebf45a4f202437d80fe4206a1aba1d2": {
          "model_module": "@jupyter-widgets/controls",
          "model_name": "FloatProgressModel",
          "model_module_version": "1.5.0",
          "state": {
            "_dom_classes": [],
            "_model_module": "@jupyter-widgets/controls",
            "_model_module_version": "1.5.0",
            "_model_name": "FloatProgressModel",
            "_view_count": null,
            "_view_module": "@jupyter-widgets/controls",
            "_view_module_version": "1.5.0",
            "_view_name": "ProgressView",
            "bar_style": "",
            "description": "",
            "description_tooltip": null,
            "layout": "IPY_MODEL_ea953dca316049e49a43105521b3e501",
            "max": 2,
            "min": 0,
            "orientation": "horizontal",
            "style": "IPY_MODEL_c9e50073a255435ead09012a25dc1289",
            "value": 0
          }
        },
        "ec69595b09b743f589ee8dfab5293271": {
          "model_module": "@jupyter-widgets/controls",
          "model_name": "HTMLModel",
          "model_module_version": "1.5.0",
          "state": {
            "_dom_classes": [],
            "_model_module": "@jupyter-widgets/controls",
            "_model_module_version": "1.5.0",
            "_model_name": "HTMLModel",
            "_view_count": null,
            "_view_module": "@jupyter-widgets/controls",
            "_view_module_version": "1.5.0",
            "_view_name": "HTMLView",
            "description": "",
            "description_tooltip": null,
            "layout": "IPY_MODEL_78665839f72842838a25b3da30ed9811",
            "placeholder": "​",
            "style": "IPY_MODEL_dab9dc5dabf245fcaf5a512da53a1f80",
            "value": " 0/2 [00:00&lt;?, ?it/s]"
          }
        },
        "e9896f13140f47c6ab1397b4947c1db3": {
          "model_module": "@jupyter-widgets/base",
          "model_name": "LayoutModel",
          "model_module_version": "1.2.0",
          "state": {
            "_model_module": "@jupyter-widgets/base",
            "_model_module_version": "1.2.0",
            "_model_name": "LayoutModel",
            "_view_count": null,
            "_view_module": "@jupyter-widgets/base",
            "_view_module_version": "1.2.0",
            "_view_name": "LayoutView",
            "align_content": null,
            "align_items": null,
            "align_self": null,
            "border": null,
            "bottom": null,
            "display": null,
            "flex": null,
            "flex_flow": null,
            "grid_area": null,
            "grid_auto_columns": null,
            "grid_auto_flow": null,
            "grid_auto_rows": null,
            "grid_column": null,
            "grid_gap": null,
            "grid_row": null,
            "grid_template_areas": null,
            "grid_template_columns": null,
            "grid_template_rows": null,
            "height": null,
            "justify_content": null,
            "justify_items": null,
            "left": null,
            "margin": null,
            "max_height": null,
            "max_width": null,
            "min_height": null,
            "min_width": null,
            "object_fit": null,
            "object_position": null,
            "order": null,
            "overflow": null,
            "overflow_x": null,
            "overflow_y": null,
            "padding": null,
            "right": null,
            "top": null,
            "visibility": null,
            "width": null
          }
        },
        "1191224fff4e4d8f84c9b29a80a27aad": {
          "model_module": "@jupyter-widgets/base",
          "model_name": "LayoutModel",
          "model_module_version": "1.2.0",
          "state": {
            "_model_module": "@jupyter-widgets/base",
            "_model_module_version": "1.2.0",
            "_model_name": "LayoutModel",
            "_view_count": null,
            "_view_module": "@jupyter-widgets/base",
            "_view_module_version": "1.2.0",
            "_view_name": "LayoutView",
            "align_content": null,
            "align_items": null,
            "align_self": null,
            "border": null,
            "bottom": null,
            "display": null,
            "flex": null,
            "flex_flow": null,
            "grid_area": null,
            "grid_auto_columns": null,
            "grid_auto_flow": null,
            "grid_auto_rows": null,
            "grid_column": null,
            "grid_gap": null,
            "grid_row": null,
            "grid_template_areas": null,
            "grid_template_columns": null,
            "grid_template_rows": null,
            "height": null,
            "justify_content": null,
            "justify_items": null,
            "left": null,
            "margin": null,
            "max_height": null,
            "max_width": null,
            "min_height": null,
            "min_width": null,
            "object_fit": null,
            "object_position": null,
            "order": null,
            "overflow": null,
            "overflow_x": null,
            "overflow_y": null,
            "padding": null,
            "right": null,
            "top": null,
            "visibility": null,
            "width": null
          }
        },
        "9d015ca4f269450187afb48cbec7f396": {
          "model_module": "@jupyter-widgets/controls",
          "model_name": "DescriptionStyleModel",
          "model_module_version": "1.5.0",
          "state": {
            "_model_module": "@jupyter-widgets/controls",
            "_model_module_version": "1.5.0",
            "_model_name": "DescriptionStyleModel",
            "_view_count": null,
            "_view_module": "@jupyter-widgets/base",
            "_view_module_version": "1.2.0",
            "_view_name": "StyleView",
            "description_width": ""
          }
        },
        "ea953dca316049e49a43105521b3e501": {
          "model_module": "@jupyter-widgets/base",
          "model_name": "LayoutModel",
          "model_module_version": "1.2.0",
          "state": {
            "_model_module": "@jupyter-widgets/base",
            "_model_module_version": "1.2.0",
            "_model_name": "LayoutModel",
            "_view_count": null,
            "_view_module": "@jupyter-widgets/base",
            "_view_module_version": "1.2.0",
            "_view_name": "LayoutView",
            "align_content": null,
            "align_items": null,
            "align_self": null,
            "border": null,
            "bottom": null,
            "display": null,
            "flex": null,
            "flex_flow": null,
            "grid_area": null,
            "grid_auto_columns": null,
            "grid_auto_flow": null,
            "grid_auto_rows": null,
            "grid_column": null,
            "grid_gap": null,
            "grid_row": null,
            "grid_template_areas": null,
            "grid_template_columns": null,
            "grid_template_rows": null,
            "height": null,
            "justify_content": null,
            "justify_items": null,
            "left": null,
            "margin": null,
            "max_height": null,
            "max_width": null,
            "min_height": null,
            "min_width": null,
            "object_fit": null,
            "object_position": null,
            "order": null,
            "overflow": null,
            "overflow_x": null,
            "overflow_y": null,
            "padding": null,
            "right": null,
            "top": null,
            "visibility": null,
            "width": null
          }
        },
        "c9e50073a255435ead09012a25dc1289": {
          "model_module": "@jupyter-widgets/controls",
          "model_name": "ProgressStyleModel",
          "model_module_version": "1.5.0",
          "state": {
            "_model_module": "@jupyter-widgets/controls",
            "_model_module_version": "1.5.0",
            "_model_name": "ProgressStyleModel",
            "_view_count": null,
            "_view_module": "@jupyter-widgets/base",
            "_view_module_version": "1.2.0",
            "_view_name": "StyleView",
            "bar_color": null,
            "description_width": ""
          }
        },
        "78665839f72842838a25b3da30ed9811": {
          "model_module": "@jupyter-widgets/base",
          "model_name": "LayoutModel",
          "model_module_version": "1.2.0",
          "state": {
            "_model_module": "@jupyter-widgets/base",
            "_model_module_version": "1.2.0",
            "_model_name": "LayoutModel",
            "_view_count": null,
            "_view_module": "@jupyter-widgets/base",
            "_view_module_version": "1.2.0",
            "_view_name": "LayoutView",
            "align_content": null,
            "align_items": null,
            "align_self": null,
            "border": null,
            "bottom": null,
            "display": null,
            "flex": null,
            "flex_flow": null,
            "grid_area": null,
            "grid_auto_columns": null,
            "grid_auto_flow": null,
            "grid_auto_rows": null,
            "grid_column": null,
            "grid_gap": null,
            "grid_row": null,
            "grid_template_areas": null,
            "grid_template_columns": null,
            "grid_template_rows": null,
            "height": null,
            "justify_content": null,
            "justify_items": null,
            "left": null,
            "margin": null,
            "max_height": null,
            "max_width": null,
            "min_height": null,
            "min_width": null,
            "object_fit": null,
            "object_position": null,
            "order": null,
            "overflow": null,
            "overflow_x": null,
            "overflow_y": null,
            "padding": null,
            "right": null,
            "top": null,
            "visibility": null,
            "width": null
          }
        },
        "dab9dc5dabf245fcaf5a512da53a1f80": {
          "model_module": "@jupyter-widgets/controls",
          "model_name": "DescriptionStyleModel",
          "model_module_version": "1.5.0",
          "state": {
            "_model_module": "@jupyter-widgets/controls",
            "_model_module_version": "1.5.0",
            "_model_name": "DescriptionStyleModel",
            "_view_count": null,
            "_view_module": "@jupyter-widgets/base",
            "_view_module_version": "1.2.0",
            "_view_name": "StyleView",
            "description_width": ""
          }
        },
        "7b7340cd585647c18904602236634ced": {
          "model_module": "@jupyter-widgets/controls",
          "model_name": "HBoxModel",
          "model_module_version": "1.5.0",
          "state": {
            "_dom_classes": [],
            "_model_module": "@jupyter-widgets/controls",
            "_model_module_version": "1.5.0",
            "_model_name": "HBoxModel",
            "_view_count": null,
            "_view_module": "@jupyter-widgets/controls",
            "_view_module_version": "1.5.0",
            "_view_name": "HBoxView",
            "box_style": "",
            "children": [
              "IPY_MODEL_4cebe048e6714353930e3a36838b6ed0",
              "IPY_MODEL_44cf5f74d939485e9d397d67d61326ee",
              "IPY_MODEL_2df89aa50d4f4a4f9d423f65ea739b04"
            ],
            "layout": "IPY_MODEL_ddd6e40f05f645c5af8b2140a8149c7b"
          }
        },
        "4cebe048e6714353930e3a36838b6ed0": {
          "model_module": "@jupyter-widgets/controls",
          "model_name": "HTMLModel",
          "model_module_version": "1.5.0",
          "state": {
            "_dom_classes": [],
            "_model_module": "@jupyter-widgets/controls",
            "_model_module_version": "1.5.0",
            "_model_name": "HTMLModel",
            "_view_count": null,
            "_view_module": "@jupyter-widgets/controls",
            "_view_module_version": "1.5.0",
            "_view_name": "HTMLView",
            "description": "",
            "description_tooltip": null,
            "layout": "IPY_MODEL_bda9e5b062184960b370d15fbfb7a17c",
            "placeholder": "​",
            "style": "IPY_MODEL_b96bfba275774f59af0cb9bb985ba00b",
            "value": "Eliminating: LungDisease: 100%"
          }
        },
        "44cf5f74d939485e9d397d67d61326ee": {
          "model_module": "@jupyter-widgets/controls",
          "model_name": "FloatProgressModel",
          "model_module_version": "1.5.0",
          "state": {
            "_dom_classes": [],
            "_model_module": "@jupyter-widgets/controls",
            "_model_module_version": "1.5.0",
            "_model_name": "FloatProgressModel",
            "_view_count": null,
            "_view_module": "@jupyter-widgets/controls",
            "_view_module_version": "1.5.0",
            "_view_name": "ProgressView",
            "bar_style": "success",
            "description": "",
            "description_tooltip": null,
            "layout": "IPY_MODEL_a822712525114af69662285289da9aba",
            "max": 2,
            "min": 0,
            "orientation": "horizontal",
            "style": "IPY_MODEL_37a32329d6b24ae3a2f678590eb6e45f",
            "value": 2
          }
        },
        "2df89aa50d4f4a4f9d423f65ea739b04": {
          "model_module": "@jupyter-widgets/controls",
          "model_name": "HTMLModel",
          "model_module_version": "1.5.0",
          "state": {
            "_dom_classes": [],
            "_model_module": "@jupyter-widgets/controls",
            "_model_module_version": "1.5.0",
            "_model_name": "HTMLModel",
            "_view_count": null,
            "_view_module": "@jupyter-widgets/controls",
            "_view_module_version": "1.5.0",
            "_view_name": "HTMLView",
            "description": "",
            "description_tooltip": null,
            "layout": "IPY_MODEL_ab43a4ae45eb4890aaa0ad9bdfcc00ac",
            "placeholder": "​",
            "style": "IPY_MODEL_9777b0980c5d49279bcdd13b1c63de8d",
            "value": " 2/2 [00:00&lt;00:00, 68.57it/s]"
          }
        },
        "ddd6e40f05f645c5af8b2140a8149c7b": {
          "model_module": "@jupyter-widgets/base",
          "model_name": "LayoutModel",
          "model_module_version": "1.2.0",
          "state": {
            "_model_module": "@jupyter-widgets/base",
            "_model_module_version": "1.2.0",
            "_model_name": "LayoutModel",
            "_view_count": null,
            "_view_module": "@jupyter-widgets/base",
            "_view_module_version": "1.2.0",
            "_view_name": "LayoutView",
            "align_content": null,
            "align_items": null,
            "align_self": null,
            "border": null,
            "bottom": null,
            "display": null,
            "flex": null,
            "flex_flow": null,
            "grid_area": null,
            "grid_auto_columns": null,
            "grid_auto_flow": null,
            "grid_auto_rows": null,
            "grid_column": null,
            "grid_gap": null,
            "grid_row": null,
            "grid_template_areas": null,
            "grid_template_columns": null,
            "grid_template_rows": null,
            "height": null,
            "justify_content": null,
            "justify_items": null,
            "left": null,
            "margin": null,
            "max_height": null,
            "max_width": null,
            "min_height": null,
            "min_width": null,
            "object_fit": null,
            "object_position": null,
            "order": null,
            "overflow": null,
            "overflow_x": null,
            "overflow_y": null,
            "padding": null,
            "right": null,
            "top": null,
            "visibility": null,
            "width": null
          }
        },
        "bda9e5b062184960b370d15fbfb7a17c": {
          "model_module": "@jupyter-widgets/base",
          "model_name": "LayoutModel",
          "model_module_version": "1.2.0",
          "state": {
            "_model_module": "@jupyter-widgets/base",
            "_model_module_version": "1.2.0",
            "_model_name": "LayoutModel",
            "_view_count": null,
            "_view_module": "@jupyter-widgets/base",
            "_view_module_version": "1.2.0",
            "_view_name": "LayoutView",
            "align_content": null,
            "align_items": null,
            "align_self": null,
            "border": null,
            "bottom": null,
            "display": null,
            "flex": null,
            "flex_flow": null,
            "grid_area": null,
            "grid_auto_columns": null,
            "grid_auto_flow": null,
            "grid_auto_rows": null,
            "grid_column": null,
            "grid_gap": null,
            "grid_row": null,
            "grid_template_areas": null,
            "grid_template_columns": null,
            "grid_template_rows": null,
            "height": null,
            "justify_content": null,
            "justify_items": null,
            "left": null,
            "margin": null,
            "max_height": null,
            "max_width": null,
            "min_height": null,
            "min_width": null,
            "object_fit": null,
            "object_position": null,
            "order": null,
            "overflow": null,
            "overflow_x": null,
            "overflow_y": null,
            "padding": null,
            "right": null,
            "top": null,
            "visibility": null,
            "width": null
          }
        },
        "b96bfba275774f59af0cb9bb985ba00b": {
          "model_module": "@jupyter-widgets/controls",
          "model_name": "DescriptionStyleModel",
          "model_module_version": "1.5.0",
          "state": {
            "_model_module": "@jupyter-widgets/controls",
            "_model_module_version": "1.5.0",
            "_model_name": "DescriptionStyleModel",
            "_view_count": null,
            "_view_module": "@jupyter-widgets/base",
            "_view_module_version": "1.2.0",
            "_view_name": "StyleView",
            "description_width": ""
          }
        },
        "a822712525114af69662285289da9aba": {
          "model_module": "@jupyter-widgets/base",
          "model_name": "LayoutModel",
          "model_module_version": "1.2.0",
          "state": {
            "_model_module": "@jupyter-widgets/base",
            "_model_module_version": "1.2.0",
            "_model_name": "LayoutModel",
            "_view_count": null,
            "_view_module": "@jupyter-widgets/base",
            "_view_module_version": "1.2.0",
            "_view_name": "LayoutView",
            "align_content": null,
            "align_items": null,
            "align_self": null,
            "border": null,
            "bottom": null,
            "display": null,
            "flex": null,
            "flex_flow": null,
            "grid_area": null,
            "grid_auto_columns": null,
            "grid_auto_flow": null,
            "grid_auto_rows": null,
            "grid_column": null,
            "grid_gap": null,
            "grid_row": null,
            "grid_template_areas": null,
            "grid_template_columns": null,
            "grid_template_rows": null,
            "height": null,
            "justify_content": null,
            "justify_items": null,
            "left": null,
            "margin": null,
            "max_height": null,
            "max_width": null,
            "min_height": null,
            "min_width": null,
            "object_fit": null,
            "object_position": null,
            "order": null,
            "overflow": null,
            "overflow_x": null,
            "overflow_y": null,
            "padding": null,
            "right": null,
            "top": null,
            "visibility": null,
            "width": null
          }
        },
        "37a32329d6b24ae3a2f678590eb6e45f": {
          "model_module": "@jupyter-widgets/controls",
          "model_name": "ProgressStyleModel",
          "model_module_version": "1.5.0",
          "state": {
            "_model_module": "@jupyter-widgets/controls",
            "_model_module_version": "1.5.0",
            "_model_name": "ProgressStyleModel",
            "_view_count": null,
            "_view_module": "@jupyter-widgets/base",
            "_view_module_version": "1.2.0",
            "_view_name": "StyleView",
            "bar_color": null,
            "description_width": ""
          }
        },
        "ab43a4ae45eb4890aaa0ad9bdfcc00ac": {
          "model_module": "@jupyter-widgets/base",
          "model_name": "LayoutModel",
          "model_module_version": "1.2.0",
          "state": {
            "_model_module": "@jupyter-widgets/base",
            "_model_module_version": "1.2.0",
            "_model_name": "LayoutModel",
            "_view_count": null,
            "_view_module": "@jupyter-widgets/base",
            "_view_module_version": "1.2.0",
            "_view_name": "LayoutView",
            "align_content": null,
            "align_items": null,
            "align_self": null,
            "border": null,
            "bottom": null,
            "display": null,
            "flex": null,
            "flex_flow": null,
            "grid_area": null,
            "grid_auto_columns": null,
            "grid_auto_flow": null,
            "grid_auto_rows": null,
            "grid_column": null,
            "grid_gap": null,
            "grid_row": null,
            "grid_template_areas": null,
            "grid_template_columns": null,
            "grid_template_rows": null,
            "height": null,
            "justify_content": null,
            "justify_items": null,
            "left": null,
            "margin": null,
            "max_height": null,
            "max_width": null,
            "min_height": null,
            "min_width": null,
            "object_fit": null,
            "object_position": null,
            "order": null,
            "overflow": null,
            "overflow_x": null,
            "overflow_y": null,
            "padding": null,
            "right": null,
            "top": null,
            "visibility": null,
            "width": null
          }
        },
        "9777b0980c5d49279bcdd13b1c63de8d": {
          "model_module": "@jupyter-widgets/controls",
          "model_name": "DescriptionStyleModel",
          "model_module_version": "1.5.0",
          "state": {
            "_model_module": "@jupyter-widgets/controls",
            "_model_module_version": "1.5.0",
            "_model_name": "DescriptionStyleModel",
            "_view_count": null,
            "_view_module": "@jupyter-widgets/base",
            "_view_module_version": "1.2.0",
            "_view_name": "StyleView",
            "description_width": ""
          }
        },
        "c1bc4856a3b64de1add9059a1f47c5c9": {
          "model_module": "@jupyter-widgets/controls",
          "model_name": "HBoxModel",
          "model_module_version": "1.5.0",
          "state": {
            "_dom_classes": [],
            "_model_module": "@jupyter-widgets/controls",
            "_model_module_version": "1.5.0",
            "_model_name": "HBoxModel",
            "_view_count": null,
            "_view_module": "@jupyter-widgets/controls",
            "_view_module_version": "1.5.0",
            "_view_name": "HBoxView",
            "box_style": "",
            "children": [
              "IPY_MODEL_2a536a8037fb4c49994b04faabd6186a",
              "IPY_MODEL_56b7f8cb67fe4b77af4af55615d07eb3",
              "IPY_MODEL_0ed269812e674bdeacaccadfd706a07c"
            ],
            "layout": "IPY_MODEL_44401e3bd20e4b7b81cfe71af8c240ce"
          }
        },
        "2a536a8037fb4c49994b04faabd6186a": {
          "model_module": "@jupyter-widgets/controls",
          "model_name": "HTMLModel",
          "model_module_version": "1.5.0",
          "state": {
            "_dom_classes": [],
            "_model_module": "@jupyter-widgets/controls",
            "_model_module_version": "1.5.0",
            "_model_name": "HTMLModel",
            "_view_count": null,
            "_view_module": "@jupyter-widgets/controls",
            "_view_module_version": "1.5.0",
            "_view_name": "HTMLView",
            "description": "",
            "description_tooltip": null,
            "layout": "IPY_MODEL_cd8a808ec0f94c32a18fcf9c9b81d1b1",
            "placeholder": "​",
            "style": "IPY_MODEL_8d8327b19f1f41dab2a1cfbc2cb875e6",
            "value": "Finding Elimination Order: : "
          }
        },
        "56b7f8cb67fe4b77af4af55615d07eb3": {
          "model_module": "@jupyter-widgets/controls",
          "model_name": "FloatProgressModel",
          "model_module_version": "1.5.0",
          "state": {
            "_dom_classes": [],
            "_model_module": "@jupyter-widgets/controls",
            "_model_module_version": "1.5.0",
            "_model_name": "FloatProgressModel",
            "_view_count": null,
            "_view_module": "@jupyter-widgets/controls",
            "_view_module_version": "1.5.0",
            "_view_name": "ProgressView",
            "bar_style": "info",
            "description": "",
            "description_tooltip": null,
            "layout": "IPY_MODEL_5e510f9a55874bcb8d99697d650c526f",
            "max": 1,
            "min": 0,
            "orientation": "horizontal",
            "style": "IPY_MODEL_33d947fe2b9f47aab067f7c3e5924167",
            "value": 0
          }
        },
        "0ed269812e674bdeacaccadfd706a07c": {
          "model_module": "@jupyter-widgets/controls",
          "model_name": "HTMLModel",
          "model_module_version": "1.5.0",
          "state": {
            "_dom_classes": [],
            "_model_module": "@jupyter-widgets/controls",
            "_model_module_version": "1.5.0",
            "_model_name": "HTMLModel",
            "_view_count": null,
            "_view_module": "@jupyter-widgets/controls",
            "_view_module_version": "1.5.0",
            "_view_name": "HTMLView",
            "description": "",
            "description_tooltip": null,
            "layout": "IPY_MODEL_4c1c44db1d364f688fb893f6a216ccfc",
            "placeholder": "​",
            "style": "IPY_MODEL_08cf504400614f6bbfcdc6cc90283260",
            "value": " 0/0 [00:00&lt;?, ?it/s]"
          }
        },
        "44401e3bd20e4b7b81cfe71af8c240ce": {
          "model_module": "@jupyter-widgets/base",
          "model_name": "LayoutModel",
          "model_module_version": "1.2.0",
          "state": {
            "_model_module": "@jupyter-widgets/base",
            "_model_module_version": "1.2.0",
            "_model_name": "LayoutModel",
            "_view_count": null,
            "_view_module": "@jupyter-widgets/base",
            "_view_module_version": "1.2.0",
            "_view_name": "LayoutView",
            "align_content": null,
            "align_items": null,
            "align_self": null,
            "border": null,
            "bottom": null,
            "display": null,
            "flex": null,
            "flex_flow": null,
            "grid_area": null,
            "grid_auto_columns": null,
            "grid_auto_flow": null,
            "grid_auto_rows": null,
            "grid_column": null,
            "grid_gap": null,
            "grid_row": null,
            "grid_template_areas": null,
            "grid_template_columns": null,
            "grid_template_rows": null,
            "height": null,
            "justify_content": null,
            "justify_items": null,
            "left": null,
            "margin": null,
            "max_height": null,
            "max_width": null,
            "min_height": null,
            "min_width": null,
            "object_fit": null,
            "object_position": null,
            "order": null,
            "overflow": null,
            "overflow_x": null,
            "overflow_y": null,
            "padding": null,
            "right": null,
            "top": null,
            "visibility": null,
            "width": null
          }
        },
        "cd8a808ec0f94c32a18fcf9c9b81d1b1": {
          "model_module": "@jupyter-widgets/base",
          "model_name": "LayoutModel",
          "model_module_version": "1.2.0",
          "state": {
            "_model_module": "@jupyter-widgets/base",
            "_model_module_version": "1.2.0",
            "_model_name": "LayoutModel",
            "_view_count": null,
            "_view_module": "@jupyter-widgets/base",
            "_view_module_version": "1.2.0",
            "_view_name": "LayoutView",
            "align_content": null,
            "align_items": null,
            "align_self": null,
            "border": null,
            "bottom": null,
            "display": null,
            "flex": null,
            "flex_flow": null,
            "grid_area": null,
            "grid_auto_columns": null,
            "grid_auto_flow": null,
            "grid_auto_rows": null,
            "grid_column": null,
            "grid_gap": null,
            "grid_row": null,
            "grid_template_areas": null,
            "grid_template_columns": null,
            "grid_template_rows": null,
            "height": null,
            "justify_content": null,
            "justify_items": null,
            "left": null,
            "margin": null,
            "max_height": null,
            "max_width": null,
            "min_height": null,
            "min_width": null,
            "object_fit": null,
            "object_position": null,
            "order": null,
            "overflow": null,
            "overflow_x": null,
            "overflow_y": null,
            "padding": null,
            "right": null,
            "top": null,
            "visibility": null,
            "width": null
          }
        },
        "8d8327b19f1f41dab2a1cfbc2cb875e6": {
          "model_module": "@jupyter-widgets/controls",
          "model_name": "DescriptionStyleModel",
          "model_module_version": "1.5.0",
          "state": {
            "_model_module": "@jupyter-widgets/controls",
            "_model_module_version": "1.5.0",
            "_model_name": "DescriptionStyleModel",
            "_view_count": null,
            "_view_module": "@jupyter-widgets/base",
            "_view_module_version": "1.2.0",
            "_view_name": "StyleView",
            "description_width": ""
          }
        },
        "5e510f9a55874bcb8d99697d650c526f": {
          "model_module": "@jupyter-widgets/base",
          "model_name": "LayoutModel",
          "model_module_version": "1.2.0",
          "state": {
            "_model_module": "@jupyter-widgets/base",
            "_model_module_version": "1.2.0",
            "_model_name": "LayoutModel",
            "_view_count": null,
            "_view_module": "@jupyter-widgets/base",
            "_view_module_version": "1.2.0",
            "_view_name": "LayoutView",
            "align_content": null,
            "align_items": null,
            "align_self": null,
            "border": null,
            "bottom": null,
            "display": null,
            "flex": null,
            "flex_flow": null,
            "grid_area": null,
            "grid_auto_columns": null,
            "grid_auto_flow": null,
            "grid_auto_rows": null,
            "grid_column": null,
            "grid_gap": null,
            "grid_row": null,
            "grid_template_areas": null,
            "grid_template_columns": null,
            "grid_template_rows": null,
            "height": null,
            "justify_content": null,
            "justify_items": null,
            "left": null,
            "margin": null,
            "max_height": null,
            "max_width": null,
            "min_height": null,
            "min_width": null,
            "object_fit": null,
            "object_position": null,
            "order": null,
            "overflow": null,
            "overflow_x": null,
            "overflow_y": null,
            "padding": null,
            "right": null,
            "top": null,
            "visibility": null,
            "width": "20px"
          }
        },
        "33d947fe2b9f47aab067f7c3e5924167": {
          "model_module": "@jupyter-widgets/controls",
          "model_name": "ProgressStyleModel",
          "model_module_version": "1.5.0",
          "state": {
            "_model_module": "@jupyter-widgets/controls",
            "_model_module_version": "1.5.0",
            "_model_name": "ProgressStyleModel",
            "_view_count": null,
            "_view_module": "@jupyter-widgets/base",
            "_view_module_version": "1.2.0",
            "_view_name": "StyleView",
            "bar_color": null,
            "description_width": ""
          }
        },
        "4c1c44db1d364f688fb893f6a216ccfc": {
          "model_module": "@jupyter-widgets/base",
          "model_name": "LayoutModel",
          "model_module_version": "1.2.0",
          "state": {
            "_model_module": "@jupyter-widgets/base",
            "_model_module_version": "1.2.0",
            "_model_name": "LayoutModel",
            "_view_count": null,
            "_view_module": "@jupyter-widgets/base",
            "_view_module_version": "1.2.0",
            "_view_name": "LayoutView",
            "align_content": null,
            "align_items": null,
            "align_self": null,
            "border": null,
            "bottom": null,
            "display": null,
            "flex": null,
            "flex_flow": null,
            "grid_area": null,
            "grid_auto_columns": null,
            "grid_auto_flow": null,
            "grid_auto_rows": null,
            "grid_column": null,
            "grid_gap": null,
            "grid_row": null,
            "grid_template_areas": null,
            "grid_template_columns": null,
            "grid_template_rows": null,
            "height": null,
            "justify_content": null,
            "justify_items": null,
            "left": null,
            "margin": null,
            "max_height": null,
            "max_width": null,
            "min_height": null,
            "min_width": null,
            "object_fit": null,
            "object_position": null,
            "order": null,
            "overflow": null,
            "overflow_x": null,
            "overflow_y": null,
            "padding": null,
            "right": null,
            "top": null,
            "visibility": null,
            "width": null
          }
        },
        "08cf504400614f6bbfcdc6cc90283260": {
          "model_module": "@jupyter-widgets/controls",
          "model_name": "DescriptionStyleModel",
          "model_module_version": "1.5.0",
          "state": {
            "_model_module": "@jupyter-widgets/controls",
            "_model_module_version": "1.5.0",
            "_model_name": "DescriptionStyleModel",
            "_view_count": null,
            "_view_module": "@jupyter-widgets/base",
            "_view_module_version": "1.2.0",
            "_view_name": "StyleView",
            "description_width": ""
          }
        },
        "f6ca7dedaa5d43d3b6fa3c669df5fc74": {
          "model_module": "@jupyter-widgets/controls",
          "model_name": "HBoxModel",
          "model_module_version": "1.5.0",
          "state": {
            "_dom_classes": [],
            "_model_module": "@jupyter-widgets/controls",
            "_model_module_version": "1.5.0",
            "_model_name": "HBoxModel",
            "_view_count": null,
            "_view_module": "@jupyter-widgets/controls",
            "_view_module_version": "1.5.0",
            "_view_name": "HBoxView",
            "box_style": "",
            "children": [
              "IPY_MODEL_d0e0c872de974f4c8431f5cc075c68fb",
              "IPY_MODEL_b9c694b7b80f4e8dbd6f35c816842e45",
              "IPY_MODEL_d035d77c79394751984a9da9d0580faa"
            ],
            "layout": "IPY_MODEL_ca8c74df37d345eabcb8bb32a56f2cb7"
          }
        },
        "d0e0c872de974f4c8431f5cc075c68fb": {
          "model_module": "@jupyter-widgets/controls",
          "model_name": "HTMLModel",
          "model_module_version": "1.5.0",
          "state": {
            "_dom_classes": [],
            "_model_module": "@jupyter-widgets/controls",
            "_model_module_version": "1.5.0",
            "_model_name": "HTMLModel",
            "_view_count": null,
            "_view_module": "@jupyter-widgets/controls",
            "_view_module_version": "1.5.0",
            "_view_name": "HTMLView",
            "description": "",
            "description_tooltip": null,
            "layout": "IPY_MODEL_3cbc8acba961468d82a88c5515e4dfac",
            "placeholder": "​",
            "style": "IPY_MODEL_fdbba4ec2a9c47e284e56578625fd04f",
            "value": ""
          }
        },
        "b9c694b7b80f4e8dbd6f35c816842e45": {
          "model_module": "@jupyter-widgets/controls",
          "model_name": "FloatProgressModel",
          "model_module_version": "1.5.0",
          "state": {
            "_dom_classes": [],
            "_model_module": "@jupyter-widgets/controls",
            "_model_module_version": "1.5.0",
            "_model_name": "FloatProgressModel",
            "_view_count": null,
            "_view_module": "@jupyter-widgets/controls",
            "_view_module_version": "1.5.0",
            "_view_name": "ProgressView",
            "bar_style": "success",
            "description": "",
            "description_tooltip": null,
            "layout": "IPY_MODEL_4a076d1060734853980cb4a842d3e0fc",
            "max": 1,
            "min": 0,
            "orientation": "horizontal",
            "style": "IPY_MODEL_fb5bc5eda75f43eebb2090afe6cc1b34",
            "value": 0
          }
        },
        "d035d77c79394751984a9da9d0580faa": {
          "model_module": "@jupyter-widgets/controls",
          "model_name": "HTMLModel",
          "model_module_version": "1.5.0",
          "state": {
            "_dom_classes": [],
            "_model_module": "@jupyter-widgets/controls",
            "_model_module_version": "1.5.0",
            "_model_name": "HTMLModel",
            "_view_count": null,
            "_view_module": "@jupyter-widgets/controls",
            "_view_module_version": "1.5.0",
            "_view_name": "HTMLView",
            "description": "",
            "description_tooltip": null,
            "layout": "IPY_MODEL_5f4b9dbb55374195bc49bf3b20af3764",
            "placeholder": "​",
            "style": "IPY_MODEL_d98170ce965f4408b4ce48a1be0c6057",
            "value": " 0/0 [00:00&lt;?, ?it/s]"
          }
        },
        "ca8c74df37d345eabcb8bb32a56f2cb7": {
          "model_module": "@jupyter-widgets/base",
          "model_name": "LayoutModel",
          "model_module_version": "1.2.0",
          "state": {
            "_model_module": "@jupyter-widgets/base",
            "_model_module_version": "1.2.0",
            "_model_name": "LayoutModel",
            "_view_count": null,
            "_view_module": "@jupyter-widgets/base",
            "_view_module_version": "1.2.0",
            "_view_name": "LayoutView",
            "align_content": null,
            "align_items": null,
            "align_self": null,
            "border": null,
            "bottom": null,
            "display": null,
            "flex": null,
            "flex_flow": null,
            "grid_area": null,
            "grid_auto_columns": null,
            "grid_auto_flow": null,
            "grid_auto_rows": null,
            "grid_column": null,
            "grid_gap": null,
            "grid_row": null,
            "grid_template_areas": null,
            "grid_template_columns": null,
            "grid_template_rows": null,
            "height": null,
            "justify_content": null,
            "justify_items": null,
            "left": null,
            "margin": null,
            "max_height": null,
            "max_width": null,
            "min_height": null,
            "min_width": null,
            "object_fit": null,
            "object_position": null,
            "order": null,
            "overflow": null,
            "overflow_x": null,
            "overflow_y": null,
            "padding": null,
            "right": null,
            "top": null,
            "visibility": null,
            "width": null
          }
        },
        "3cbc8acba961468d82a88c5515e4dfac": {
          "model_module": "@jupyter-widgets/base",
          "model_name": "LayoutModel",
          "model_module_version": "1.2.0",
          "state": {
            "_model_module": "@jupyter-widgets/base",
            "_model_module_version": "1.2.0",
            "_model_name": "LayoutModel",
            "_view_count": null,
            "_view_module": "@jupyter-widgets/base",
            "_view_module_version": "1.2.0",
            "_view_name": "LayoutView",
            "align_content": null,
            "align_items": null,
            "align_self": null,
            "border": null,
            "bottom": null,
            "display": null,
            "flex": null,
            "flex_flow": null,
            "grid_area": null,
            "grid_auto_columns": null,
            "grid_auto_flow": null,
            "grid_auto_rows": null,
            "grid_column": null,
            "grid_gap": null,
            "grid_row": null,
            "grid_template_areas": null,
            "grid_template_columns": null,
            "grid_template_rows": null,
            "height": null,
            "justify_content": null,
            "justify_items": null,
            "left": null,
            "margin": null,
            "max_height": null,
            "max_width": null,
            "min_height": null,
            "min_width": null,
            "object_fit": null,
            "object_position": null,
            "order": null,
            "overflow": null,
            "overflow_x": null,
            "overflow_y": null,
            "padding": null,
            "right": null,
            "top": null,
            "visibility": null,
            "width": null
          }
        },
        "fdbba4ec2a9c47e284e56578625fd04f": {
          "model_module": "@jupyter-widgets/controls",
          "model_name": "DescriptionStyleModel",
          "model_module_version": "1.5.0",
          "state": {
            "_model_module": "@jupyter-widgets/controls",
            "_model_module_version": "1.5.0",
            "_model_name": "DescriptionStyleModel",
            "_view_count": null,
            "_view_module": "@jupyter-widgets/base",
            "_view_module_version": "1.2.0",
            "_view_name": "StyleView",
            "description_width": ""
          }
        },
        "4a076d1060734853980cb4a842d3e0fc": {
          "model_module": "@jupyter-widgets/base",
          "model_name": "LayoutModel",
          "model_module_version": "1.2.0",
          "state": {
            "_model_module": "@jupyter-widgets/base",
            "_model_module_version": "1.2.0",
            "_model_name": "LayoutModel",
            "_view_count": null,
            "_view_module": "@jupyter-widgets/base",
            "_view_module_version": "1.2.0",
            "_view_name": "LayoutView",
            "align_content": null,
            "align_items": null,
            "align_self": null,
            "border": null,
            "bottom": null,
            "display": null,
            "flex": null,
            "flex_flow": null,
            "grid_area": null,
            "grid_auto_columns": null,
            "grid_auto_flow": null,
            "grid_auto_rows": null,
            "grid_column": null,
            "grid_gap": null,
            "grid_row": null,
            "grid_template_areas": null,
            "grid_template_columns": null,
            "grid_template_rows": null,
            "height": null,
            "justify_content": null,
            "justify_items": null,
            "left": null,
            "margin": null,
            "max_height": null,
            "max_width": null,
            "min_height": null,
            "min_width": null,
            "object_fit": null,
            "object_position": null,
            "order": null,
            "overflow": null,
            "overflow_x": null,
            "overflow_y": null,
            "padding": null,
            "right": null,
            "top": null,
            "visibility": null,
            "width": "20px"
          }
        },
        "fb5bc5eda75f43eebb2090afe6cc1b34": {
          "model_module": "@jupyter-widgets/controls",
          "model_name": "ProgressStyleModel",
          "model_module_version": "1.5.0",
          "state": {
            "_model_module": "@jupyter-widgets/controls",
            "_model_module_version": "1.5.0",
            "_model_name": "ProgressStyleModel",
            "_view_count": null,
            "_view_module": "@jupyter-widgets/base",
            "_view_module_version": "1.2.0",
            "_view_name": "StyleView",
            "bar_color": null,
            "description_width": ""
          }
        },
        "5f4b9dbb55374195bc49bf3b20af3764": {
          "model_module": "@jupyter-widgets/base",
          "model_name": "LayoutModel",
          "model_module_version": "1.2.0",
          "state": {
            "_model_module": "@jupyter-widgets/base",
            "_model_module_version": "1.2.0",
            "_model_name": "LayoutModel",
            "_view_count": null,
            "_view_module": "@jupyter-widgets/base",
            "_view_module_version": "1.2.0",
            "_view_name": "LayoutView",
            "align_content": null,
            "align_items": null,
            "align_self": null,
            "border": null,
            "bottom": null,
            "display": null,
            "flex": null,
            "flex_flow": null,
            "grid_area": null,
            "grid_auto_columns": null,
            "grid_auto_flow": null,
            "grid_auto_rows": null,
            "grid_column": null,
            "grid_gap": null,
            "grid_row": null,
            "grid_template_areas": null,
            "grid_template_columns": null,
            "grid_template_rows": null,
            "height": null,
            "justify_content": null,
            "justify_items": null,
            "left": null,
            "margin": null,
            "max_height": null,
            "max_width": null,
            "min_height": null,
            "min_width": null,
            "object_fit": null,
            "object_position": null,
            "order": null,
            "overflow": null,
            "overflow_x": null,
            "overflow_y": null,
            "padding": null,
            "right": null,
            "top": null,
            "visibility": null,
            "width": null
          }
        },
        "d98170ce965f4408b4ce48a1be0c6057": {
          "model_module": "@jupyter-widgets/controls",
          "model_name": "DescriptionStyleModel",
          "model_module_version": "1.5.0",
          "state": {
            "_model_module": "@jupyter-widgets/controls",
            "_model_module_version": "1.5.0",
            "_model_name": "DescriptionStyleModel",
            "_view_count": null,
            "_view_module": "@jupyter-widgets/base",
            "_view_module_version": "1.2.0",
            "_view_name": "StyleView",
            "description_width": ""
          }
        }
      }
    }
  },
  "nbformat": 4,
  "nbformat_minor": 0
}